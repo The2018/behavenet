{
 "cells": [
  {
   "cell_type": "markdown",
   "metadata": {},
   "source": [
    "## Fitting the PS-VAE to an example dataset\n",
    "\n",
    "This notebook will walk you through how to download an example dataset, including some already trained models; the next notebook shows how to evaluate those models.\n",
    "\n",
    "Before beginning, first make sure that you have properly installed the BehaveNet package and environment by following the instructions [here](https://behavenet.readthedocs.io/en/latest/source/installation.html). Specifically, (1) set up the Anaconda virtual environment; and (2) install the `BehaveNet` package. You do not need to set user paths at this time (this will be covered below).\n",
    "\n",
    "To illustrate the use of BehaveNet we will use an example dataset from the [International Brain Lab](https://www.biorxiv.org/content/10.1101/2020.01.17.909838v5).\n",
    "\n",
    "Briefly, a head-fixed mouse performed a visual decision-making task. Behavioral data was recorded using a single camera at 60 Hz frame rate. Grayscale video frames were downsampled to 192x192 pixels. We labeled the forepaw positions using [Deep Graph Pose](https://papers.nips.cc/paper/2020/file/4379cf00e1a95a97a33dac10ce454ca4-Paper.pdf). Data consists of batches of 100 contiguous frames and their accompanying labels.\n",
    "\n",
    "The data are stored on the IBL data repository; you will download this data after setting some user paths.\n",
    "\n",
    "**Note**: make sure that you are running the `behavenet` ipython kernel - you should see the current ipython kernel name in the upper right hand corner of this notebook. If it is not `behavenet` (for example it might be `Python 3`) then change it using the dropdown menus above: `Kernel > Change kernel > behavenet`. If you do not see `behavenet` as an option see [here](https://behavenet.readthedocs.io/en/latest/source/installation.html#environment-setup).\n",
    "\n",
    "<br>\n",
    "\n",
    "### Contents\n",
    "* [Set user paths](#0.-Set-user-paths)\n",
    "* [Download the data](#1.-Download-the-data)\n",
    "* [Add dataset hyperparameters](#2.-Add-dataset-hyperparameters)"
   ]
  },
  {
   "cell_type": "markdown",
   "metadata": {},
   "source": [
    "### 0. Set user paths\n",
    "First set the paths to the directories where data, results, and figures will be stored on your local machine. Note that the data is ~3GB, so make sure that your data directory has enough space.\n",
    "\n",
    "A note about the BehaveNet path structure: every dataset is uniquely identified by a lab id, experiment id, animal id, and session id. Paths to data and results contain directories for each of these id types. For example, a sample data path will look like `/home/user/data/lab_id/expt_id/animal_id/session_id/data.hdf5`. In this case the base data directory is `/home/user/data/`.\n",
    "\n",
    "The downloaded zip file will automatically be saved as `data_dir/ibl/angelakilab/IBL-T4/2019-04-23-001/data.hdf5`\n",
    "\n",
    "Additionally, the zip file contains already trained VAE and PS-VAE models, which will automatically be saved in the directories:\n",
    "* `results_dir/ibl/angelakilab/IBL-T4/2019-04-23-001/vae/conv/06_latents/demo-run/`\n",
    "* `results_dir/ibl/angelakilab/IBL-T4/2019-04-23-001/ps-vae/conv/06_latents/demo-run/`\n",
    "\n",
    "To set the user paths, run the cell below.\n",
    "\n",
    "[Back to contents](#Contents)"
   ]
  },
  {
   "cell_type": "code",
   "execution_count": null,
   "metadata": {},
   "outputs": [],
   "source": [
    "from behavenet import setup\n",
    "setup()"
   ]
  },
  {
   "cell_type": "markdown",
   "metadata": {},
   "source": [
    "The directory file is stored in your user home directory; this is a json file that can be updated in a text editor at any time."
   ]
  },
  {
   "cell_type": "markdown",
   "metadata": {},
   "source": [
    "### 1. Download the data\n",
    "Run the cell below; data and results will be stored in the directories provided in the previous step.\n",
    "\n",
    "[Back to contents](#Contents)"
   ]
  },
  {
   "cell_type": "code",
   "execution_count": null,
   "metadata": {},
   "outputs": [],
   "source": [
    "import os\n",
    "import io\n",
    "import shutil\n",
    "import requests\n",
    "import zipfile as zf\n",
    "from behavenet import get_user_dir\n",
    "\n",
    "dataset = 'two-view'\n",
    "# 'head-fixed': IBL data\n",
    "# 'mouse-face': dipoppa data\n",
    "# 'two-view': musall data\n",
    "\n",
    "if dataset == 'head-fixed':\n",
    "    url = 'https://ibl.flatironinstitute.org/public/ps-vae_demo_head-fixed.zip'\n",
    "    lab = 'ibl'\n",
    "elif dataset == 'mouse-face':\n",
    "    url = 'https://ndownloader.figshare.com/files/26450972'\n",
    "    lab = 'dipoppa'\n",
    "elif dataset == 'two-view':\n",
    "    url = 'https://ndownloader.figshare.com/files/26476925'\n",
    "    lab = 'musall'\n",
    "else:\n",
    "    raise ValueError('%s is not a valid dataset' % dataset)\n",
    "\n",
    "print('Downloading data - this may take several minutes')\n",
    "\n",
    "# fetch data from IBL data repository\n",
    "print('fetching data from url...', end='')\n",
    "r = requests.get(url, stream=True)\n",
    "z = zf.ZipFile(io.BytesIO(r.content))\n",
    "print('done')\n",
    "\n",
    "# extract data\n",
    "data_dir = get_user_dir('data')\n",
    "if not os.path.exists(data_dir):\n",
    "    os.makedirs(data_dir)\n",
    "print('extracting data to %s...' % data_dir, end='')\n",
    "for file in z.namelist():\n",
    "    if file.startswith('ps-vae_demo_%s/data/' % dataset):\n",
    "        z.extract(file, data_dir)\n",
    "# clean up paths\n",
    "shutil.move(os.path.join(data_dir, 'ps-vae_demo_%s' % dataset, 'data', lab), data_dir)\n",
    "shutil.rmtree(os.path.join(data_dir, 'ps-vae_demo_%s' % dataset))\n",
    "print('done')\n",
    "\n",
    "# extract results\n",
    "results_dir = get_user_dir('save')\n",
    "if not os.path.exists(results_dir):\n",
    "    os.makedirs(results_dir)\n",
    "print('extracting results to %s...' % results_dir, end='')\n",
    "for file in z.namelist():\n",
    "    if file.startswith('ps-vae_demo_%s/results/' % dataset):\n",
    "        z.extract(file, results_dir)\n",
    "# clean up paths\n",
    "shutil.move(os.path.join(results_dir, 'ps-vae_demo_%s' % dataset, 'results', lab), results_dir)\n",
    "shutil.rmtree(os.path.join(results_dir, 'ps-vae_demo_%s' % dataset))\n",
    "print('done')"
   ]
  },
  {
   "cell_type": "markdown",
   "metadata": {},
   "source": [
    "### 2. Add dataset hyperparameters\n",
    "The last step is to save some of the dataset hyperparameters in their own json file. This is used to simplify command line arguments to model fitting functions. This json file has already been provided in the data directory, where the `data.hdf5` file is stored - you should see a file named `ibl_angelakilab_params.json`. Copy and paste this file into the `.behavenet` directory in your home directory:\n",
    "\n",
    "* In Linux, `~/.behavenet`\n",
    "* In MacOS, `/Users/CurrentUser/.behavenet`\n",
    "\n",
    "The next notebook will now walk you through how to evaluate the downloaded models/data.\n",
    "\n",
    "[Back to contents](#Contents)"
   ]
  }
 ],
 "metadata": {
  "kernelspec": {
   "display_name": "behavenet",
   "language": "python",
   "name": "behavenet"
  },
  "language_info": {
   "codemirror_mode": {
    "name": "ipython",
    "version": 3
   },
   "file_extension": ".py",
   "mimetype": "text/x-python",
   "name": "python",
   "nbconvert_exporter": "python",
   "pygments_lexer": "ipython3",
   "version": "3.7.2"
  }
 },
 "nbformat": 4,
 "nbformat_minor": 2
}
