{
 "cells": [
  {
   "cell_type": "markdown",
   "metadata": {},
   "source": [
    "## Analyze AEs with matrix subspace projection loss\n",
    "This notebook is a template showcasing some ways to analyze autoencoders that have been fit with the matrix subspace projection (MSP) loss.\n",
    "\n",
    " <br>\n",
    " \n",
    "### Contents\n",
    "* [Plot loss metrics as a function of epochs](#Plot-loss-metrics-as-a-function-of-epoch)\n",
    "* [Plot true vs predicted labels](#Plot-true-vs-predicted-labels)\n",
    "* [Evaluate orthogonality of projection matrix](#Evaluate-orthogonality-of-projection-matrix)\n",
    "* [Explore label/latent space](#Explore-label/latent-space)\n",
    "    * [explore label space](#Explore-2D-label-space)\n",
    "    * [explore latent space](#Explore-2D-latent-space)"
   ]
  },
  {
   "cell_type": "code",
   "execution_count": null,
   "metadata": {},
   "outputs": [],
   "source": [
    "import copy\n",
    "import os\n",
    "import pandas as pd\n",
    "import seaborn as sns\n",
    "import numpy as np\n",
    "import matplotlib.pyplot as plt\n",
    "\n",
    "from behavenet import get_user_dir\n",
    "from behavenet import make_dir_if_not_exists\n",
    "from behavenet.fitting.utils import get_expt_dir\n",
    "from behavenet.fitting.utils import get_session_dir\n",
    "from behavenet.fitting.utils import get_best_model_version\n",
    "from behavenet.fitting.utils import get_lab_example\n",
    "\n",
    "save_outputs = False  # true to save figures/movies to user's figure directory\n",
    "format = 'png'  # figure format ('png' | 'jpeg' | 'pdf'); movies saved as mp4"
   ]
  },
  {
   "cell_type": "markdown",
   "metadata": {},
   "source": [
    "# Plot loss metrics as a function of epoch\n",
    "\n",
    "[Back to contents](#Contents)"
   ]
  },
  {
   "cell_type": "code",
   "execution_count": null,
   "metadata": {},
   "outputs": [],
   "source": [
    "from behavenet.plotting import load_metrics_csv_as_df\n",
    "\n",
    "# set data info\n",
    "lab = ?\n",
    "expt = ?\n",
    "n_labels = ?\n",
    "\n",
    "# set model info\n",
    "n_ae_latents = ?  # n_labels will be added to this\n",
    "tt_expt_name = ?\n",
    "\n",
    "hparams = {\n",
    "    'data_dir': get_user_dir('data'),\n",
    "    'save_dir': get_user_dir('save'),\n",
    "    'experiment_name': tt_expt_name,\n",
    "    'model_class': 'cond-ae-msp',\n",
    "    'model_type': 'conv',\n",
    "    'n_ae_latents': n_ae_latents + n_labels}\n",
    "\n",
    "metrics_list = ['loss', 'loss_mse', 'loss_msp', 'r2']\n",
    "metrics_df = load_metrics_csv_as_df(hparams, lab, expt, metrics_list)"
   ]
  },
  {
   "cell_type": "code",
   "execution_count": null,
   "metadata": {},
   "outputs": [],
   "source": [
    "# plot data\n",
    "sns.set_style('white')\n",
    "sns.set_context('talk')\n",
    "\n",
    "for y in metrics_list:\n",
    "    \n",
    "    data_queried = metrics_df[(metrics_df.epoch > 10) & ~pd.isna(metrics_df.loss)]\n",
    "    splt = sns.relplot(x='epoch', y=y, hue='dtype', kind='line', data=data_queried)\n",
    "    splt.ax.set_xlabel('Epoch')\n",
    "    if y == 'loss':\n",
    "        splt.ax.set_ylabel('Total loss')\n",
    "        splt.ax.set_yscale('log')\n",
    "    elif y == 'loss_mse':\n",
    "        splt.ax.set_ylabel('MSE per pixel')\n",
    "        splt.ax.set_yscale('log')\n",
    "    elif y == 'loss_msp':\n",
    "        splt.ax.set_ylabel('MSE per label')\n",
    "        splt.ax.set_yscale('log')\n",
    "    elif y == 'r2':\n",
    "        splt.ax.set_ylabel('Label $R^2$')\n",
    "\n",
    "    if save_outputs:\n",
    "        save_file = os.path.join(get_user_dir('fig'), 'ae', 'loss_vs_epoch')\n",
    "        make_dir_if_not_exists(save_file)\n",
    "        plt.savefig(save_file + '.' + format, dpi=300, format=format)\n",
    "\n",
    "    plt.show()"
   ]
  },
  {
   "cell_type": "markdown",
   "metadata": {},
   "source": [
    "# Plot true vs predicted labels\n",
    "\n",
    "[Back to contents](#Contents)"
   ]
  },
  {
   "cell_type": "code",
   "execution_count": null,
   "metadata": {},
   "outputs": [],
   "source": [
    "from behavenet.fitting.utils import get_best_model_and_data\n",
    "from behavenet.models import AEMSP\n",
    "\n",
    "# set model info\n",
    "version = 0 # 'best'  # test-tube version; 'best' finds the version with the lowest mse\n",
    "sess_idx = 0  # when using a multisession, this determines which session is used\n",
    "hparams = {\n",
    "    'data_dir': get_user_dir('data'),\n",
    "    'save_dir': get_user_dir('save'),\n",
    "    'experiment_name': tt_expt_name,\n",
    "    'model_class': 'cond-ae-msp',\n",
    "    'model_type': 'conv',\n",
    "    'n_ae_latents': n_ae_latents + n_labels}\n",
    "\n",
    "trial_idxs = [1, 2, 3]  # test trials to plot\n",
    "\n",
    "# programmatically fill out other hparams options\n",
    "get_lab_example(hparams, lab, expt)   \n",
    "\n",
    "model, data_generator = get_best_model_and_data(\n",
    "    hparams, AEMSP, load_data=True, version=version, data_kwargs=None)\n",
    "n_labels = model.n_labels\n",
    "print(data_generator)"
   ]
  },
  {
   "cell_type": "code",
   "execution_count": null,
   "metadata": {},
   "outputs": [],
   "source": [
    "from behavenet.plotting.ae_utils import plot_neural_reconstruction_traces\n",
    "\n",
    "for trial_idx in trial_idxs:\n",
    "    trial = data_generator.datasets[sess_idx].batch_idxs['test'][trial_idx]\n",
    "    batch = data_generator.datasets[sess_idx][trial]\n",
    "    labels_og = batch['labels'].detach().cpu().numpy()\n",
    "    labels_pred = model.get_transformed_latents(batch['images'])[:, :n_labels]\n",
    "    plot = plot_neural_reconstruction_traces(labels_og, labels_pred, scale=2)"
   ]
  },
  {
   "cell_type": "markdown",
   "metadata": {},
   "source": [
    "# Evaluate orthogonality of projection matrix\n",
    "\n",
    "[Back to contents](#Contents)"
   ]
  },
  {
   "cell_type": "code",
   "execution_count": null,
   "metadata": {},
   "outputs": [],
   "source": [
    "U = model.U.weight.data.cpu().detach().numpy()\n",
    "\n",
    "plt.figure(figsize=(6, 6))\n",
    "overlap = np.matmul(U, U.T)\n",
    "m = np.max(np.abs(overlap))\n",
    "plt.imshow(overlap, cmap='RdBu', vmin=-m, vmax=m)\n",
    "plt.colorbar()\n",
    "plt.show()"
   ]
  },
  {
   "cell_type": "code",
   "execution_count": null,
   "metadata": {},
   "outputs": [],
   "source": []
  },
  {
   "cell_type": "markdown",
   "metadata": {},
   "source": [
    "# Explore label/latent space\n",
    "\n",
    "[Back to contents](#Contents)"
   ]
  },
  {
   "cell_type": "code",
   "execution_count": null,
   "metadata": {},
   "outputs": [],
   "source": [
    "import torch\n",
    "\n",
    "from behavenet.data.utils import get_data_generator_inputs\n",
    "\n",
    "from behavenet.fitting.utils import get_best_model_and_data\n",
    "from behavenet.fitting.eval import get_reconstruction\n",
    "\n",
    "from behavenet.plotting.cond_ae_utils import get_crop\n",
    "from behavenet.plotting.cond_ae_utils import get_input_range\n",
    "from behavenet.plotting.cond_ae_utils import get_labels_2d_for_trial\n",
    "from behavenet.plotting.cond_ae_utils import get_model_input\n",
    "from behavenet.plotting.cond_ae_utils import interpolate_2d\n",
    "from behavenet.plotting.cond_ae_utils import plot_2d_frame_array"
   ]
  },
  {
   "cell_type": "markdown",
   "metadata": {},
   "source": [
    "### setup - define model"
   ]
  },
  {
   "cell_type": "code",
   "execution_count": null,
   "metadata": {},
   "outputs": [],
   "source": [
    "from behavenet.models import AEMSP as Model\n",
    "\n",
    "# dataset info\n",
    "n_ae_latents = 2  # not including label-related latents\n",
    "label_min_p = 15  # minimum percentile for latent/label space interpolation\n",
    "label_max_p = 85  # maximum percentile for latent/label space interpolation\n",
    "n_frames = 3  # number of frames to plot along each manipulated dim\n",
    "trial_idx = 0  # index into trials for base frame\n",
    "batch_idx = 0  # index into batch for base frame\n",
    "label_idxs = [5, 1]  # indices of labels to manipulate; y label first, then x\n",
    "latent_idxs = np.array([0, 1])  # indices of latents to manipulate\n",
    "    \n",
    "show_markers = True\n",
    "    \n",
    "# set model info\n",
    "version = 0  # test-tube version; 'best' finds the version with the lowest mse\n",
    "sess_idx = 0  # when using a multisession, this determines which session is used\n",
    "hparams = {\n",
    "    'data_dir': get_user_dir('data'),\n",
    "    'save_dir': get_user_dir('save'),\n",
    "    'experiment_name': tt_expt_name,\n",
    "    'model_class': 'cond-ae-msp',\n",
    "    'model_type': 'conv',\n",
    "    'n_ae_latents': n_ae_latents + n_labels,\n",
    "    'rng_seed_data': 0,\n",
    "    'trial_splits': '8;1;1;0',\n",
    "    'train_frac': 1.0,\n",
    "    'rng_seed_model': 0,\n",
    "    'conditional_encoder': False,\n",
    "}\n",
    "\n",
    "# programmatically fill out other hparams options\n",
    "get_lab_example(hparams, lab, expt)\n",
    "hparams['session_dir'], sess_ids = get_session_dir(hparams)\n",
    "hparams['expt_dir'] = get_expt_dir(hparams)\n",
    "\n",
    "# build model\n",
    "model_ae, data_generator = get_best_model_and_data(hparams, Model, version=version)\n",
    "\n",
    "latent_range = get_input_range(\n",
    "    'latents', hparams, model=model_ae, data_gen=data_generator)\n",
    "label_range = get_input_range(\n",
    "    'labels', hparams, sess_ids=sess_ids, sess_idx=sess_idx, \n",
    "    min_p=label_min_p, max_p=label_max_p)\n",
    "label_sc_range = get_input_range(\n",
    "    'labels_sc', hparams, sess_ids=sess_ids, sess_idx=sess_idx,\n",
    "    min_p=label_min_p, max_p=label_max_p)"
   ]
  },
  {
   "cell_type": "markdown",
   "metadata": {},
   "source": [
    "## Explore 2D label space\n",
    "\n",
    "[Back to contents](#Contents)"
   ]
  },
  {
   "cell_type": "code",
   "execution_count": null,
   "metadata": {},
   "outputs": [],
   "source": [
    "ims_pt, ims_np, latents_np, labels_pt, labels_np, labels_2d_pt, labels_2d_np = \\\n",
    "    get_model_input(\n",
    "        data_generator, hparams, model_ae, trial_idx=trial_idx, compute_latents=True, \n",
    "        compute_scaled_labels=False, compute_2d_labels=True)\n",
    "\n",
    "ims_label, markers_loc_label, ims_crop_label = interpolate_2d(\n",
    "    'labels', model_ae, ims_pt[None, batch_idx, :], latents_np[None, batch_idx, :], \n",
    "    labels_np[None, batch_idx, :], labels_2d_np[None, batch_idx, :], \n",
    "    mins=[label_range['min'][label_idxs[0]], label_range['min'][label_idxs[1]]], \n",
    "    maxes=[label_range['max'][label_idxs[0]], label_range['max'][label_idxs[1]]], \n",
    "    n_frames=n_frames, input_idxs=label_idxs, crop_type=None, \n",
    "    mins_sc=[label_sc_range['min'][label_idxs[0]], label_sc_range['min'][label_idxs[1]]], \n",
    "    maxes_sc=[label_sc_range['max'][label_idxs[0]], label_sc_range['max'][label_idxs[1]]], \n",
    "    crop_kwargs=None, ch=0)"
   ]
  },
  {
   "cell_type": "code",
   "execution_count": null,
   "metadata": {},
   "outputs": [],
   "source": [
    "marker_kwargs = {\n",
    "    'markersize': 20, 'markeredgewidth': 3, 'markeredgecolor': [1, 1, 0],\n",
    "    'fillstyle': 'none'}\n",
    "\n",
    "if save_outputs:\n",
    "    save_file = os.path.join(\n",
    "        get_user_dir('fig'), \n",
    "        'ae', 'D=%02i_label-manipulation_%s_%s-crop.png' % \n",
    "        (hparams['n_ae_latents'], hparams['session'], crop_type))\n",
    "else:\n",
    "    save_file = None\n",
    "\n",
    "plot_2d_frame_array(\n",
    "    ims_label, markers=markers_loc_label, marker_kwargs=marker_kwargs, save_file=None,\n",
    "    figsize=(15, 15))"
   ]
  },
  {
   "cell_type": "markdown",
   "metadata": {},
   "source": [
    "## Explore 2D latent space\n",
    "\n",
    "[Back to contents](#Contents)"
   ]
  },
  {
   "cell_type": "code",
   "execution_count": null,
   "metadata": {},
   "outputs": [],
   "source": [
    "ims_pt, ims_np, latents_np, labels_pt, labels_np, labels_2d_pt, labels_2d_np = \\\n",
    "    get_model_input(data_generator, hparams, model_ae, trial=None, trial_idx=trial_idx,\n",
    "    compute_latents=True, compute_scaled_labels=False, compute_2d_labels=True)\n",
    "\n",
    "latent_idxs += n_labels  # first `n_labels` dims are used to reconstruct labels\n",
    "\n",
    "ims_latent, markers_loc_latent_, ims_crop_latent = interpolate_2d(\n",
    "    'latents', model_ae, ims_pt[None, batch_idx, :], latents_np[None, batch_idx, :], \n",
    "    labels_np[None, batch_idx, :], labels_2d_np[None, batch_idx, :], \n",
    "    mins=[latent_range['min'][latent_idxs[0]], latent_range['min'][latent_idxs[1]]], \n",
    "    maxes=[latent_range['max'][latent_idxs[0]], latent_range['max'][latent_idxs[1]]], \n",
    "    n_frames=n_frames, input_idxs=latent_idxs, crop_type=None, \n",
    "    mins_sc=None, maxes_sc=None, crop_kwargs=None, marker_idxs=label_idxs, ch=0)"
   ]
  },
  {
   "cell_type": "code",
   "execution_count": null,
   "metadata": {},
   "outputs": [],
   "source": [
    "marker_kwargs = {\n",
    "    'markersize': 20, 'markeredgewidth': 5, 'markeredgecolor': [1, 1, 0],\n",
    "    'fillstyle': 'none'}\n",
    "\n",
    "if save_outputs:\n",
    "    save_file = os.path.join(\n",
    "        get_user_dir('fig'), \n",
    "        'ae', 'D=%02i_latent-manipulation_%s_%s-crop.png' % \n",
    "        (hparams['n_ae_latents'], hparams['session'], crop_type))\n",
    "else:\n",
    "    save_file = None\n",
    "\n",
    "plot_2d_frame_array(\n",
    "    ims_latent, markers=markers_loc_latent_, marker_kwargs=marker_kwargs, \n",
    "    save_file=None, figsize=(15, 15))"
   ]
  }
 ],
 "metadata": {
  "kernelspec": {
   "display_name": "behavenet",
   "language": "python",
   "name": "behavenet"
  },
  "language_info": {
   "codemirror_mode": {
    "name": "ipython",
    "version": 3
   },
   "file_extension": ".py",
   "mimetype": "text/x-python",
   "name": "python",
   "nbconvert_exporter": "python",
   "pygments_lexer": "ipython3",
   "version": "3.7.2"
  }
 },
 "nbformat": 4,
 "nbformat_minor": 2
}
