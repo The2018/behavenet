{
 "cells": [
  {
   "cell_type": "code",
   "execution_count": 1,
   "metadata": {},
   "outputs": [],
   "source": [
    "import os\n",
    "import pandas as pd\n",
    "import seaborn as sns\n",
    "from fitting.utils import get_output_dirs, get_best_model_version\n",
    "\n",
    "sns.set_style('white')\n",
    "sns.set_context('poster')"
   ]
  },
  {
   "cell_type": "markdown",
   "metadata": {},
   "source": [
    "### plot train/val losses as a function of epochs"
   ]
  },
  {
   "cell_type": "code",
   "execution_count": 13,
   "metadata": {},
   "outputs": [],
   "source": [
    "metrics_df = []\n",
    "\n",
    "# labs = ['steinmetz', 'steinmetz-face', 'musall', 'datta']\n",
    "labs = ['datta']\n",
    "model_types = ['conv', 'linear']\n",
    "hparams = {\n",
    "    'data_dir': '/home/mattw/data',  # might be a different path than what is saved in hparams\n",
    "    'tt_save_path': '/home/mattw/results/behavenet',\n",
    "    'experiment_name': 'test_tf',\n",
    "    'model_class': 'ae'}\n",
    "\n",
    "for lab in labs:\n",
    "    get_lab_example(hparams, lab)\n",
    "    if lab == 'datta':\n",
    "        hparams['experiment_name'] = 'test_tf0'\n",
    "    else:\n",
    "        hparams['experiment_name'] = 'test_tf'\n",
    "    for model_type in model_types:\n",
    "        hparams['model_type'] = model_type     \n",
    "        _, _, expt_dir = get_output_dirs(hparams)\n",
    "        model_version = get_best_model_version(expt_dir)\n",
    "        metric_file = os.path.join(expt_dir, model_version[0], 'metrics.csv')\n",
    "        metrics = pd.read_csv(metric_file)\n",
    "        for i, row in metrics.iterrows():\n",
    "            metrics_df.append(pd.DataFrame({\n",
    "                'epoch': row['epoch'],\n",
    "                'loss': row['val_loss'],\n",
    "                'dtype': 'val',\n",
    "                'model_type': model_type,\n",
    "                'data': lab\n",
    "            }, index=[0]))\n",
    "            metrics_df.append(pd.DataFrame({\n",
    "                'epoch': row['epoch'],\n",
    "                'loss': row['tr_loss'],\n",
    "                'dtype': 'train',\n",
    "                'model_type': model_type,\n",
    "                'data': lab\n",
    "            }, index=[0]))\n",
    "            if 'test_loss' in row:\n",
    "                metrics_df.append(pd.DataFrame({\n",
    "                    'epoch': row['epoch'],\n",
    "                    'loss': row['test_loss'],\n",
    "                    'dtype': 'test',\n",
    "                    'model_type': model_type,\n",
    "                    'data': lab\n",
    "                }, index=[0]))\n",
    "metrics_df = pd.concat(metrics_df)    "
   ]
  },
  {
   "cell_type": "code",
   "execution_count": 14,
   "metadata": {},
   "outputs": [
    {
     "data": {
      "image/png": "[encoded data removed]",
      "text/plain": [
       "<Figure size 504.9x360 with 1 Axes>"
      ]
     },
     "metadata": {},
     "output_type": "display_data"
    }
   ],
   "source": [
    "sns.set_style('white')\n",
    "sns.set_context('talk')\n",
    "\n",
    "# data_queried = metrics[~pd.notna(metrics.test_loss)]\n",
    "data_queried = metrics_df[(metrics_df.dtype=='val') & (metrics_df.epoch>20)]\n",
    "y_axis = 'loss' # 'test_loss' | 'test_r2'\n",
    "plot_type = 'line'\n",
    "hue = 'model_type'\n",
    "x_axis = 'epoch' # 'layers' | 'layer_size' | 'pred' | 'lags'\n",
    "col = 'data'\n",
    "\n",
    "splt = sns.relplot(\n",
    "    x=x_axis, y=y_axis, hue=hue, kind=plot_type, col=col, data=data_queried)\n",
    "for i, ax in enumerate(splt.axes):\n",
    "    ax[0].set_yscale('log')\n",
    "    if i == 0:\n",
    "        ax[0].set_ylabel('MSE per pixel')"
   ]
  },
  {
   "cell_type": "code",
   "execution_count": null,
   "metadata": {},
   "outputs": [],
   "source": [
    "data_queried = metrics_df[metrics_df.dtype=='test']\n",
    "y_axis = 'loss' # 'test_loss' | 'test_r2'\n",
    "plot_type = 'boxen'\n",
    "hue = 'model_type'\n",
    "x_axis = 'data' # 'layers' | 'layer_size' | 'pred' | 'lags'\n",
    "\n",
    "splt = sns.catplot(\n",
    "    x=x_axis, y=y_axis, hue=hue, kind=plot_type, data=data_queried)\n",
    "for i, ax in enumerate(splt.axes):\n",
    "    ax[0].set_yscale('log')\n",
    "    if i == 0:\n",
    "        ax[0].set_ylabel('MSE per pixel')"
   ]
  },
  {
   "cell_type": "markdown",
   "metadata": {},
   "source": [
    "### plot test losses as a function of latents"
   ]
  },
  {
   "cell_type": "code",
   "execution_count": null,
   "metadata": {},
   "outputs": [],
   "source": [
    "metrics_df = []\n",
    "\n",
    "hparams['experiment_name'] = 'best'\n",
    "labs = ['musall']\n",
    "model_types = ['conv', 'linear']\n",
    "n_latents = [4, 8, 12, 16, 24, 64]\n",
    "\n",
    "for lab in labs:\n",
    "    get_lab_example(hparams, lab)\n",
    "    for model_type in model_types:\n",
    "        hparams['model_type'] = model_type\n",
    "        for n_ae_latents in n_latents:\n",
    "            hparams['n_ae_latents'] = n_ae_latents\n",
    "            _, _, expt_dir = get_output_dirs(hparams)\n",
    "            model_version = get_best_model_version(expt_dir)\n",
    "            metric_file = os.path.join(expt_dir, model_version[0], 'metrics.csv')\n",
    "            metrics = pd.read_csv(metric_file)\n",
    "            for i, row in metrics.iterrows():\n",
    "                metrics_df.append(pd.DataFrame({\n",
    "                    'epoch': row['epoch'],\n",
    "                    'loss': row['val_loss'],\n",
    "                    'n_latents': n_ae_latents,\n",
    "                    'dtype': 'val',\n",
    "                    'model_type': model_type,\n",
    "                    'data': lab\n",
    "                }, index=[0]))\n",
    "                metrics_df.append(pd.DataFrame({\n",
    "                    'epoch': row['epoch'],use_output_mask\n",
    "                    'loss': row['tr_loss'],\n",
    "                    'n_latents': n_ae_latents,\n",
    "                    'dtype': 'train',\n",
    "                    'model_type': model_type,\n",
    "                    'data': lab\n",
    "                }, index=[0]))\n",
    "                if 'test_loss' in row:\n",
    "                    metrics_df.append(pd.DataFrame({\n",
    "                        'epoch': row['epoch'],\n",
    "                        'loss': row['test_loss'],\n",
    "                        'n_latents': n_ae_latents,\n",
    "                        'dtype': 'test',\n",
    "                        'model_type': model_type,\n",
    "                        'data': lab\n",
    "                    }, index=[0]))\n",
    "metrics_df = pd.concat(metrics_df)    "
   ]
  },
  {
   "cell_type": "code",
   "execution_count": null,
   "metadata": {},
   "outputs": [],
   "source": [
    "# data_queried = metrics[~pd.notna(metrics.test_loss)]\n",
    "data_queried = metrics_df[metrics_df.dtype=='test']\n",
    "y_axis = 'loss' # 'test_loss' | 'test_r2'\n",
    "plot_type = 'line'\n",
    "hue = 'model_type'\n",
    "x_axis = 'n_latents' # 'layers' | 'layer_size' | 'pred' | 'lags'\n",
    "\n",
    "splt = sns.relplot(\n",
    "    x=x_axis, y=y_axis, hue=hue, kind=plot_type, data=data_queried)\n",
    "for i, ax in enumerate(splt.axes):\n",
    "    ax[0].set_yscale('log')\n",
    "    if i == 0:\n",
    "        ax[0].set_ylabel('MSE per pixel')"
   ]
  },
  {
   "cell_type": "markdown",
   "metadata": {},
   "source": [
    "### make movie"
   ]
  },
  {
   "cell_type": "code",
   "execution_count": 1,
   "metadata": {},
   "outputs": [
    {
     "name": "stdout",
     "output_type": "stream",
     "text": [
      "Loading model defined in /home/mattw/results/behavenet/datta/inscopix/15566/2018-11-27/ae/conv/06_latents/test_tube_data/test_pt_bn/version_0/meta_tags.pkl\n",
      "video saved to /home/mattw/results/temp/datta_testing_no-linear.mp4\n"
     ]
    }
   ],
   "source": [
    "from analyses.ae.movies import reconstruction\n",
    "from fitting.utils import get_lab_example\n",
    "include_linear = False\n",
    "hparams = {\n",
    "    'data_dir': '/home/mattw/data',  # might be a different path than what is saved in hparams\n",
    "    'tt_save_path': '/home/mattw/results/behavenet',\n",
    "    'experiment_name': 'test_pt_bn',\n",
    "    'model_class': 'ae',\n",
    "    'model_type': 'conv',\n",
    "    'lib': 'torch'}\n",
    "lab = 'datta'\n",
    "get_lab_example(hparams, lab)\n",
    "save_file = str('/home/mattw/results/temp/%s_testing' % lab)\n",
    "if not include_linear:\n",
    "    save_file += '_no-linear'\n",
    "reconstruction(hparams, trial=18, save_file=save_file, include_linear=include_linear)"
   ]
  }
 ],
 "metadata": {
  "kernelspec": {
   "display_name": "behavenet",
   "language": "python",
   "name": "behavenet"
  },
  "language_info": {
   "codemirror_mode": {
    "name": "ipython",
    "version": 3
   },
   "file_extension": ".py",
   "mimetype": "text/x-python",
   "name": "python",
   "nbconvert_exporter": "python",
   "pygments_lexer": "ipython3",
   "version": "3.6.8"
  }
 },
 "nbformat": 4,
 "nbformat_minor": 2
}
