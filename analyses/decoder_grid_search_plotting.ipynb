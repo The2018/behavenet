{
 "cells": [
  {
   "cell_type": "code",
   "execution_count": null,
   "metadata": {},
   "outputs": [],
   "source": [
    "import os\n",
    "import numpy as np\n",
    "from skimage import io, transform\n",
    "import pickle\n",
    "import torch\n",
    "from behavenet.models import AE\n",
    "from test_tube import HyperOptArgumentParser\n",
    "from data.data_generator import ConcatSessionsGenerator"
   ]
  },
  {
   "cell_type": "code",
   "execution_count": 1,
   "metadata": {},
   "outputs": [],
   "source": [
    "# specify decoder directory\n",
    "ids = {\n",
    "    'lab': 'musall',\n",
    "    'expt': 'vistrained',\n",
    "    'animal': 'mSM30',\n",
    "    'session': '10-Oct-2017'}\n",
    "data_dir = '/home/mattw/data/'\n",
    "tt_expt = 'decoder_grid_search'    "
   ]
  },
  {
   "cell_type": "code",
   "execution_count": null,
   "metadata": {},
   "outputs": [],
   "source": []
  }
 ],
 "metadata": {
  "kernelspec": {
   "display_name": "behavenet",
   "language": "python",
   "name": "behavenet"
  },
  "language_info": {
   "codemirror_mode": {
    "name": "ipython",
    "version": 3
   },
   "file_extension": ".py",
   "mimetype": "text/x-python",
   "name": "python",
   "nbconvert_exporter": "python",
   "pygments_lexer": "ipython3",
   "version": "3.7.2"
  }
 },
 "nbformat": 4,
 "nbformat_minor": 2
}
