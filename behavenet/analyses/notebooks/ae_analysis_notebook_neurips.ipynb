{
 "cells": [
  {
   "cell_type": "code",
   "execution_count": null,
   "metadata": {},
   "outputs": [],
   "source": [
    "%load_ext autoreload\n",
    "%autoreload 2"
   ]
  },
  {
   "cell_type": "code",
   "execution_count": 7,
   "metadata": {
    "collapsed": true
   },
   "outputs": [],
   "source": [
    "import os\n",
    "import pandas as pd\n",
    "import seaborn as sns\n",
    "import numpy as np\n",
    "import matplotlib\n",
    "import matplotlib.pyplot as plt\n",
    "from fitting.utils import get_expt_dir\n",
    "from fitting.utils import get_best_model_version\n",
    "from fitting.utils import get_lab_example\n",
    "\n",
    "results_dir = 'behavenet_figs/'\n",
    "save_outputs = True"
   ]
  },
  {
   "cell_type": "markdown",
   "metadata": {},
   "source": [
    "# 1. Plot train/val losses as a function of epochs"
   ]
  },
  {
   "cell_type": "code",
   "execution_count": 8,
   "metadata": {
    "collapsed": true
   },
   "outputs": [],
   "source": [
    "hparams = {\n",
    "    'data_dir': '/Volumes/paninski-locker/data/',  # might be a different path than what is saved in hparams\n",
    "    'tt_save_path': '/Volumes/paninski-locker/analysis/behavenet/',\n",
    "    'experiment_name': 'test_pt',\n",
    "    'model_class': 'ae'}"
   ]
  },
  {
   "cell_type": "markdown",
   "metadata": {},
   "source": [
    "# 2. Plot test losses as a function of latents (TODO)"
   ]
  },
  {
   "cell_type": "markdown",
   "metadata": {},
   "source": [
    "### load results"
   ]
  },
  {
   "cell_type": "code",
   "execution_count": 9,
   "metadata": {},
   "outputs": [
    {
     "name": "stdout",
     "output_type": "stream",
     "text": [
      "Loading model defined in /Volumes/paninski-locker/analysis/behavenet/musall/vistrained/mSM30/10-Oct-2017/ae/conv/16_latents/test_tube_data/test_pt/version_0/meta_tags.pkl\n",
      "Loading model defined in /Volumes/paninski-locker/analysis/behavenet/steinmetz/2-probe/mouse-01/session-01/ae/conv/12_latents/test_tube_data/test_pt/version_0/meta_tags.pkl\n",
      "Loading model defined in /Volumes/paninski-locker/analysis/behavenet/steinmetz/2-probe-face/mouse-01/session-01/ae/conv/12_latents/test_tube_data/test_pt/version_0/meta_tags.pkl\n",
      "Loading model defined in /Volumes/paninski-locker/analysis/behavenet/datta/inscopix/15566/2018-11-27/ae/conv/08_latents/test_tube_data/test_pt/version_0/meta_tags.pkl\n"
     ]
    }
   ],
   "source": [
    "## Get normalizing values\n",
    "from fitting.utils import get_best_model_and_data\n",
    "from behavenet.models import AE\n",
    "\n",
    "normalizing_info={}\n",
    "\n",
    "labs = ['musall','steinmetz','steinmetz-face','datta']\n",
    "labs_capped = ['Musall','Steinmetz','Steinmetz-face','Datta']\n",
    "for lab in labs:\n",
    "    \n",
    "    normalizing_info[lab]={}\n",
    "    \n",
    "    model_type='conv'\n",
    "        \n",
    "    hparams = {\n",
    "        'data_dir': '/Volumes/paninski-locker/data/',  # might be a different path than what is saved in hparams\n",
    "        'tt_save_path': '/Volumes/paninski-locker/analysis/behavenet/',\n",
    "        'experiment_name': 'test_pt',\n",
    "        'model_class': 'ae'}\n",
    "\n",
    "    hparams['model_type']=model_type\n",
    "    get_lab_example(hparams, lab)\n",
    "\n",
    "    model_cae, data_generator = get_best_model_and_data(hparams, AE, version='best')\n",
    "\n",
    "    # Get means\n",
    "    sum_pix = 0\n",
    "    dims=0\n",
    "    for trial_idx in data_generator.batch_indxs[0]['test']:\n",
    "        images = data_generator.datasets[0][trial_idx]['images'].cpu().detach().numpy()\n",
    "        sum_pix += np.sum(images)\n",
    "        dims += np.prod(images.shape)\n",
    "    normalizing_info[lab]['mean'] = sum_pix/dims\n",
    "    \n",
    "    # Get variances\n",
    "    sum_var = 0\n",
    "    dims=0\n",
    "    for trial_idx in data_generator.batch_indxs[0]['test']:\n",
    "        images = data_generator.datasets[0][trial_idx]['images'].cpu().detach().numpy()\n",
    "        sum_var += np.sum((images-normalizing_info[lab]['mean'])**2)\n",
    "        dims += np.prod(images.shape)\n",
    "    normalizing_info[lab]['var'] = sum_var/dims"
   ]
  },
  {
   "cell_type": "code",
   "execution_count": 11,
   "metadata": {
    "collapsed": true
   },
   "outputs": [],
   "source": [
    "def get_test_data(lab,model_types, n_latents, experiment_name):\n",
    "\n",
    "    hparams['experiment_name'] = experiment_name\n",
    "\n",
    "    metrics_df = []\n",
    "\n",
    "    get_lab_example(hparams, lab)\n",
    "    for model_type in model_types:\n",
    "        hparams['model_type'] = model_type\n",
    "        for n_ae_latents in n_latents:\n",
    "            try:\n",
    "                hparams['n_ae_latents'] = n_ae_latents\n",
    "                expt_dir = get_expt_dir(hparams)\n",
    "                model_version = get_best_model_version(expt_dir)\n",
    "                print(expt_dir)\n",
    "                print(model_version)\n",
    "                metric_file = os.path.join(expt_dir, model_version[0], 'metrics.csv')\n",
    "                metrics = pd.read_csv(metric_file)\n",
    "                for i, row in metrics.iterrows():\n",
    "                    metrics_df.append(pd.DataFrame({\n",
    "                        'epoch': row['epoch'],\n",
    "                        'loss': row['val_loss'],\n",
    "                        'n_latents': n_ae_latents,\n",
    "                        'dtype': 'val',\n",
    "                        'model_type': model_type,\n",
    "                        'data': lab\n",
    "                    }, index=[0]))\n",
    "                    metrics_df.append(pd.DataFrame({\n",
    "                        'epoch': row['epoch'],\n",
    "                        'loss': row['tr_loss'],\n",
    "                        'n_latents': n_ae_latents,\n",
    "                        'dtype': 'train',\n",
    "                        'model_type': model_type,\n",
    "                        'data': lab\n",
    "                    }, index=[0]))\n",
    "                    if 'test_loss' in row:\n",
    "                        metrics_df.append(pd.DataFrame({\n",
    "                            'epoch': row['epoch'],\n",
    "                            'loss': row['test_loss'], #/normalizing_info[lab]['var'],\n",
    "                            'n_latents': n_ae_latents,\n",
    "                            'dtype': 'test',\n",
    "                            'model_type': model_type,\n",
    "                            'data': lab\n",
    "                        }, index=[0]))\n",
    "            except:\n",
    "                pass\n",
    "    metrics_df = pd.concat(metrics_df)  \n",
    "    \n",
    "    data_queried = metrics_df[metrics_df.dtype=='test']\n",
    "    \n",
    "    return data_queried"
   ]
  },
  {
   "cell_type": "code",
   "execution_count": 12,
   "metadata": {},
   "outputs": [
    {
     "name": "stdout",
     "output_type": "stream",
     "text": [
      "/Volumes/paninski-locker/analysis/behavenet/musall/vistrained/mSM30/10-Oct-2017/ae/conv/04_latents/test_tube_data/latent_search\n",
      "['version_0']\n",
      "/Volumes/paninski-locker/analysis/behavenet/musall/vistrained/mSM30/10-Oct-2017/ae/conv/08_latents/test_tube_data/latent_search\n",
      "['version_0']\n",
      "/Volumes/paninski-locker/analysis/behavenet/musall/vistrained/mSM30/10-Oct-2017/ae/conv/16_latents/test_tube_data/latent_search\n",
      "['version_1']\n",
      "/Volumes/paninski-locker/analysis/behavenet/musall/vistrained/mSM30/10-Oct-2017/ae/conv/32_latents/test_tube_data/latent_search\n",
      "['version_0']\n",
      "/Volumes/paninski-locker/analysis/behavenet/musall/vistrained/mSM30/10-Oct-2017/ae/linear/04_latents/test_tube_data/latent_search\n",
      "['version_0']\n",
      "/Volumes/paninski-locker/analysis/behavenet/musall/vistrained/mSM30/10-Oct-2017/ae/linear/08_latents/test_tube_data/latent_search\n",
      "['version_0']\n",
      "/Volumes/paninski-locker/analysis/behavenet/musall/vistrained/mSM30/10-Oct-2017/ae/linear/16_latents/test_tube_data/latent_search\n",
      "['version_0']\n",
      "/Volumes/paninski-locker/analysis/behavenet/musall/vistrained/mSM30/10-Oct-2017/ae/linear/32_latents/test_tube_data/latent_search\n",
      "['version_0']\n",
      "/Volumes/paninski-locker/analysis/behavenet/steinmetz/2-probe/mouse-01/session-01/ae/conv/04_latents/test_tube_data/latent_search\n",
      "['version_0']\n",
      "/Volumes/paninski-locker/analysis/behavenet/steinmetz/2-probe/mouse-01/session-01/ae/conv/08_latents/test_tube_data/latent_search\n",
      "['version_0']\n",
      "/Volumes/paninski-locker/analysis/behavenet/steinmetz/2-probe/mouse-01/session-01/ae/conv/16_latents/test_tube_data/latent_search\n",
      "['version_2']\n",
      "/Volumes/paninski-locker/analysis/behavenet/steinmetz/2-probe/mouse-01/session-01/ae/conv/32_latents/test_tube_data/latent_search\n",
      "['version_0']\n",
      "/Volumes/paninski-locker/analysis/behavenet/steinmetz/2-probe/mouse-01/session-01/ae/linear/04_latents/test_tube_data/latent_search\n",
      "['version_0']\n",
      "/Volumes/paninski-locker/analysis/behavenet/steinmetz/2-probe/mouse-01/session-01/ae/linear/08_latents/test_tube_data/latent_search\n",
      "['version_0']\n",
      "/Volumes/paninski-locker/analysis/behavenet/steinmetz/2-probe/mouse-01/session-01/ae/linear/16_latents/test_tube_data/latent_search\n",
      "['version_0']\n",
      "/Volumes/paninski-locker/analysis/behavenet/steinmetz/2-probe/mouse-01/session-01/ae/linear/32_latents/test_tube_data/latent_search\n",
      "['version_0']\n",
      "/Volumes/paninski-locker/analysis/behavenet/steinmetz/2-probe-face/mouse-01/session-01/ae/conv/04_latents/test_tube_data/latent_search\n",
      "['version_2']\n",
      "/Volumes/paninski-locker/analysis/behavenet/steinmetz/2-probe-face/mouse-01/session-01/ae/conv/08_latents/test_tube_data/latent_search\n",
      "['version_0']\n",
      "/Volumes/paninski-locker/analysis/behavenet/steinmetz/2-probe-face/mouse-01/session-01/ae/conv/16_latents/test_tube_data/latent_search\n",
      "['version_0']\n",
      "/Volumes/paninski-locker/analysis/behavenet/steinmetz/2-probe-face/mouse-01/session-01/ae/conv/32_latents/test_tube_data/latent_search\n",
      "['version_0']\n",
      "/Volumes/paninski-locker/analysis/behavenet/steinmetz/2-probe-face/mouse-01/session-01/ae/linear/04_latents/test_tube_data/latent_search\n",
      "['version_0']\n",
      "/Volumes/paninski-locker/analysis/behavenet/steinmetz/2-probe-face/mouse-01/session-01/ae/linear/08_latents/test_tube_data/latent_search\n",
      "['version_0']\n",
      "/Volumes/paninski-locker/analysis/behavenet/steinmetz/2-probe-face/mouse-01/session-01/ae/linear/16_latents/test_tube_data/latent_search\n",
      "['version_0']\n",
      "/Volumes/paninski-locker/analysis/behavenet/steinmetz/2-probe-face/mouse-01/session-01/ae/linear/32_latents/test_tube_data/latent_search\n",
      "['version_0']\n",
      "/Volumes/paninski-locker/analysis/behavenet/datta/inscopix/15566/2018-11-27/ae/conv/04_latents/test_tube_data/latent_search\n",
      "['version_2']\n",
      "/Volumes/paninski-locker/analysis/behavenet/datta/inscopix/15566/2018-11-27/ae/conv/08_latents/test_tube_data/latent_search\n",
      "['version_0']\n",
      "/Volumes/paninski-locker/analysis/behavenet/datta/inscopix/15566/2018-11-27/ae/conv/16_latents/test_tube_data/latent_search\n",
      "['version_0']\n",
      "/Volumes/paninski-locker/analysis/behavenet/datta/inscopix/15566/2018-11-27/ae/conv/32_latents/test_tube_data/latent_search\n",
      "['version_0']\n",
      "/Volumes/paninski-locker/analysis/behavenet/datta/inscopix/15566/2018-11-27/ae/linear/04_latents/test_tube_data/latent_search\n",
      "['version_0']\n",
      "/Volumes/paninski-locker/analysis/behavenet/datta/inscopix/15566/2018-11-27/ae/linear/08_latents/test_tube_data/latent_search\n",
      "['version_0']\n",
      "/Volumes/paninski-locker/analysis/behavenet/datta/inscopix/15566/2018-11-27/ae/linear/16_latents/test_tube_data/latent_search\n",
      "['version_0']\n",
      "/Volumes/paninski-locker/analysis/behavenet/datta/inscopix/15566/2018-11-27/ae/linear/32_latents/test_tube_data/latent_search\n",
      "['version_0']\n"
     ]
    }
   ],
   "source": [
    "experiment_name = 'latent_search'\n",
    "model_types = ['conv', 'linear']\n",
    "n_latents = [4, 8, 16, 32]\n",
    "\n",
    "labs = ['musall','steinmetz','steinmetz-face','datta']\n",
    "dataset_names = ['WFCI','NP','NP-zoom','Kinect']\n",
    "data_queried={}\n",
    "for lab in labs:\n",
    "    data_queried[lab] = get_test_data(lab, model_types, n_latents, experiment_name)\n",
    "    "
   ]
  },
  {
   "cell_type": "code",
   "execution_count": 22,
   "metadata": {
    "collapsed": true
   },
   "outputs": [],
   "source": [
    "ee = data_queried['steinmetz'][data_queried['steinmetz'].n_latents==4]\n",
    "ee = ee[ee.model_type=='linear']"
   ]
  },
  {
   "cell_type": "code",
   "execution_count": 26,
   "metadata": {},
   "outputs": [
    {
     "data": {
      "text/plain": [
       "0.0006047642699404232"
      ]
     },
     "execution_count": 26,
     "metadata": {},
     "output_type": "execute_result"
    }
   ],
   "source": [
    "np.nanstd(ee['loss'])"
   ]
  },
  {
   "cell_type": "markdown",
   "metadata": {},
   "source": [
    "### plot conv vs ae test losses as a function of latents"
   ]
  },
  {
   "cell_type": "code",
   "execution_count": null,
   "metadata": {
    "collapsed": true
   },
   "outputs": [],
   "source": [
    "## Get example figure for every data type\n",
    "from fitting.utils import get_best_model_and_data\n",
    "from behavenet.models import AE\n",
    "\n",
    "example_images={}\n",
    "\n",
    "labs = ['musall','steinmetz','steinmetz-face','datta']\n",
    "labs_capped = ['Musall','Steinmetz','Steinmetz-face','Datta']\n",
    "for lab in labs:\n",
    "    \n",
    "    example_images[lab]={}\n",
    "    \n",
    "    for model_type in ['conv','linear']:\n",
    "        \n",
    "        hparams = {\n",
    "            'data_dir': '/Volumes/paninski-locker/data/',  # might be a different path than what is saved in hparams\n",
    "            'tt_save_path': '/Volumes/paninski-locker/analysis/behavenet/',\n",
    "            'experiment_name': 'test_pt',\n",
    "            'model_class': 'ae'}\n",
    "        \n",
    "        hparams['model_type']=model_type\n",
    "        get_lab_example(hparams, lab)\n",
    "        \n",
    "        model_cae, data_generator = get_best_model_and_data(hparams, AE, version='best')\n",
    "        trial_idx = data_generator.batch_indxs[0]['test'][2]\n",
    "        \n",
    "        recon_output, _ = model_cae(data_generator.datasets[0][trial_idx]['images'])\n",
    "        example_images[lab][model_type]=recon_output.cpu().detach().numpy()\n",
    "        example_images[lab]['orig'] = data_generator.datasets[0][trial_idx]['images'].cpu().detach().numpy()\n",
    "        \n",
    "        if hparams['lab']=='musall':\n",
    "            example_images[lab]['orig'] = np.transpose(example_images[lab]['orig'],(0,1,3,2))\n",
    "            example_images[lab][model_type] = np.transpose(example_images[lab][model_type],(0,1,3,2))\n",
    "        example_images[lab]['orig'] = np.concatenate([example_images[lab]['orig'][:,j] for j in range(example_images[lab]['orig'].shape[1])],axis=2)\n",
    "        example_images[lab][model_type] = np.concatenate([example_images[lab][model_type][:,j] for j in range(example_images[lab][model_type].shape[1])],axis=2)\n",
    "        \n",
    "        if lab=='datta':\n",
    "            example_images[lab]['mask'] = data_generator.datasets[0][trial_idx]['masks'].cpu().detach().numpy()"
   ]
  },
  {
   "cell_type": "code",
   "execution_count": null,
   "metadata": {
    "collapsed": true
   },
   "outputs": [],
   "source": [
    "normalizing_info['steinmetz-face']"
   ]
  },
  {
   "cell_type": "code",
   "execution_count": null,
   "metadata": {
    "collapsed": true
   },
   "outputs": [],
   "source": [
    ".0004/.01"
   ]
  },
  {
   "cell_type": "code",
   "execution_count": null,
   "metadata": {
    "collapsed": true
   },
   "outputs": [],
   "source": [
    "data_generator.datasets[0][trial_idx]['images'].shape"
   ]
  },
  {
   "cell_type": "code",
   "execution_count": null,
   "metadata": {
    "collapsed": true
   },
   "outputs": [],
   "source": [
    "import matplotlib\n",
    "FONT_SIZE = 22\n",
    "matplotlib.rcParams['pdf.fonttype'] = 42\n",
    "matplotlib.rcParams['ps.fonttype'] = 42\n",
    "matplotlib.rcParams.update({'font.size': FONT_SIZE})\n",
    "#matplotlib.rcParams['font.family'] = 'sans-serif'\n",
    "#matplotlib.rcParams['font.sans-serif'] = ['Myriad Pro']\n",
    "plt.rcParams[\"font.family\"] = \"Times New Roman\"\n",
    "\n",
    "\n",
    "\n",
    "plt.rc('font', size=FONT_SIZE)          # controls default text sizes\n",
    "plt.rc('axes', titlesize=FONT_SIZE)     # fontsize of the axes title\n",
    "plt.rc('axes', labelsize=FONT_SIZE)    # fontsize of the x and y labels\n",
    "plt.rc('xtick', labelsize=FONT_SIZE)    # fontsize of the tick labels\n",
    "plt.rc('ytick', labelsize=FONT_SIZE)    # fontsize of the tick labels\n",
    "plt.rc('legend', fontsize=FONT_SIZE)    # legend fontsize\n",
    "plt.rc('figure', titlesize=FONT_SIZE)  # fontsize of the figure title"
   ]
  },
  {
   "cell_type": "code",
   "execution_count": null,
   "metadata": {
    "collapsed": true
   },
   "outputs": [],
   "source": [
    "### Make figure 1\n",
    "\n",
    "y_axis = 'loss' # 'test_loss' | 'test_r2'\n",
    "plot_type = 'line'\n",
    "hue = 'model_type'\n",
    "x_axis = 'n_latents' # 'layers' | 'layer_size' | 'pred' | 'lags'\n",
    "\n",
    "\n",
    "fig, axes = plt.subplots(3,4,figsize=(24,14))\n",
    "\n",
    "for i_ax in range(4):\n",
    "    sns.relplot(x=x_axis, y=y_axis, hue=hue, kind=plot_type, data=data_queried[labs[i_ax]],ax=axes[0][i_ax])\n",
    "    axes[0][i_ax].set_title(dataset_names[i_ax])\n",
    "    axes[0][i_ax].set_xlabel('Latent dimension')\n",
    "    axes[0][i_ax].set_ylabel('')\n",
    "    \n",
    "axes[0][0].legend(['Conv AE','Linear AE'])\n",
    "\n",
    "axes[0][0].set_ylabel('MSE')\n",
    "i_frame=20\n",
    "for i_ax in range(4):\n",
    "    axes[1][i_ax].imshow(example_images[labs[i_ax]]['orig'][i_frame],vmin=0,vmax=1,cmap='gray')\n",
    "    if labs[i_ax]=='datta':\n",
    "        axes[1][i_ax].imshow(example_images[labs[i_ax]]['orig'][i_frame]*example_images[labs[i_ax]]['mask'][i_frame][0],vmin=0,vmax=1,cmap='gray',interpolation='none')\n",
    "    \n",
    "    [s.set_visible(False) for s in axes[1][i_ax].spines.values()]    \n",
    "    axes[1][i_ax].set_xticks([])\n",
    "    axes[1][i_ax].set_yticks([])\n",
    "    \n",
    "for i_ax in range(4):\n",
    "    axes[2][i_ax].imshow(example_images[labs[i_ax]]['conv'][i_frame],vmin=0,vmax=1,cmap='gray',interpolation='none')\n",
    "    for spine in plt.gca().spines.values():\n",
    "        spine.set_visible(False)\n",
    "        \n",
    "    [s.set_visible(False) for s in axes[2][i_ax].spines.values()]\n",
    "    axes[2][i_ax].set_xticks([])\n",
    "    axes[2][i_ax].set_yticks([])\n",
    "    \n",
    "# for i_ax in range(4):\n",
    "#     axes[3][i_ax].imshow(example_images[labs[i_ax]]['linear'][120],vmin=0,vmax=1,cmap='gray')\n",
    "#     axes[3][i_ax].set_xticks([])\n",
    "#     axes[3][i_ax].set_yticks([])\n",
    "\n",
    "axes[1][0].set_ylabel('Original \\n Frame',rotation=0, labelpad=50)\n",
    "axes[2][0].set_ylabel('Conv AE \\n Reconstructed \\n Frame',rotation=0, labelpad=60)\n",
    "fig.tight_layout()\n",
    "fig.savefig('behavenet_figs/reconstructions.pdf', transparent=True)"
   ]
  },
  {
   "cell_type": "code",
   "execution_count": null,
   "metadata": {
    "collapsed": true
   },
   "outputs": [],
   "source": [
    "# # data_queried = metrics[~pd.notna(metrics.test_loss)]\n",
    "\n",
    "# y_axis = 'loss' # 'test_loss' | 'test_r2'\n",
    "# plot_type = 'line'\n",
    "# hue = 'model_type'\n",
    "# x_axis = 'n_latents' # 'layers' | 'layer_size' | 'pred' | 'lags'\n",
    "\n",
    "# splt = sns.relplot(\n",
    "#     x=x_axis, y=y_axis, hue=hue, kind=plot_type, data=data_queried)\n",
    "# for i, ax in enumerate(splt.axes):\n",
    "#     ax[0].set_yscale('log')\n",
    "#     if i == 0:\n",
    "#         ax[0].set_ylabel('MSE per pixel')"
   ]
  },
  {
   "cell_type": "code",
   "execution_count": null,
   "metadata": {
    "collapsed": true
   },
   "outputs": [],
   "source": [
    "print(normalizing_info['musall']['var'])\n",
    "print(normalizing_info['steinmetz']['var'])\n",
    "print(normalizing_info['steinmetz-face']['var'])"
   ]
  },
  {
   "cell_type": "markdown",
   "metadata": {},
   "source": [
    "# 3. Make reconstruction movies"
   ]
  },
  {
   "cell_type": "code",
   "execution_count": null,
   "metadata": {
    "collapsed": true,
    "scrolled": true
   },
   "outputs": [],
   "source": [
    "from analyses.ae_movies import make_ae_reconstruction_movie\n",
    "from fitting.utils import get_lab_example\n",
    "from data.data_generator import ConcatSessionsGenerator\n",
    "\n",
    "include_linear = True\n",
    "version = 'best'\n",
    "hparams = {\n",
    "    'data_dir': '/Volumes/paninski-locker/data/',  # might be a different path than what is saved in hparams\n",
    "    'tt_save_path': '/Volumes/paninski-locker/analysis/behavenet/',\n",
    "    'experiment_name': 'test_pt',\n",
    "    'lin_experiment_name': 'test_pt',\n",
    "    'model_class': 'ae',\n",
    "    'model_type': 'conv',\n",
    "    'lib': 'pt'}\n",
    "\n",
    "labs = ['datta'] #['steinmetz', 'steinmetz-face', 'musall', 'datta']\n",
    "\n",
    "for lab in labs:\n",
    "    get_lab_example(hparams, lab)\n",
    "    data_generator = ConcatSessionsGenerator(\n",
    "        hparams['data_dir'], hparams, \n",
    "        signals=['images'], transforms=[None], load_kwargs=[None],\n",
    "        device='cpu', as_numpy=False, batch_load=True, rng_seed=0)\n",
    "    trial = data_generator.batch_indxs[0]['test'][4]\n",
    "\n",
    "    save_file = os.path.join(\n",
    "        results_dir, str('%s_%02i_dim_recon_ae' % (lab, hparams['n_ae_latents'])))\n",
    "\n",
    "    make_ae_reconstruction_movie(\n",
    "        hparams, version=version, save_file=save_file, include_linear=include_linear,\n",
    "        trial=trial)"
   ]
  },
  {
   "cell_type": "code",
   "execution_count": null,
   "metadata": {
    "collapsed": true
   },
   "outputs": [],
   "source": []
  }
 ],
 "metadata": {
  "kernelspec": {
   "display_name": "behavenet",
   "language": "python",
   "name": "behavenet"
  },
  "language_info": {
   "codemirror_mode": {
    "name": "ipython",
    "version": 3
   },
   "file_extension": ".py",
   "mimetype": "text/x-python",
   "name": "python",
   "nbconvert_exporter": "python",
   "pygments_lexer": "ipython3",
   "version": "3.7.2"
  }
 },
 "nbformat": 4,
 "nbformat_minor": 2
}
