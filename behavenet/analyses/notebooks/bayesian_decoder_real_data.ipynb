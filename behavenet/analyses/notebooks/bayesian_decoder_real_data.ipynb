{
 "cells": [
  {
   "cell_type": "code",
   "execution_count": 1,
   "metadata": {
    "collapsed": true
   },
   "outputs": [],
   "source": [
    "import numpy as np\n",
    "import matplotlib.pyplot as plt\n",
    "%matplotlib inline\n",
    "from sklearn.linear_model import LogisticRegression, LinearRegression\n",
    "import pickle\n",
    "from ssm.stats import multivariate_normal_logpdf\n",
    "from ssm.primitives import hmm_expected_states, hmm_sample\n",
    "from pylds.lds_messages_interface import info_E_step\n"
   ]
  },
  {
   "cell_type": "code",
   "execution_count": 2,
   "metadata": {
    "collapsed": true
   },
   "outputs": [],
   "source": [
    "D = 8\n",
    "K = 16\n",
    "nlags = 3\n",
    "\n",
    "data = np.load('arhmm_decoding_data.npz')\n",
    "neural = data['neural']\n",
    "xs = data['latents']\n",
    "zs = data['states']"
   ]
  },
  {
   "cell_type": "code",
   "execution_count": 3,
   "metadata": {
    "collapsed": true
   },
   "outputs": [],
   "source": [
    "# Have to lag the neural activity for each batch\n",
    "\n",
    "W = 8\n",
    "N = neural[0].shape[1]\n",
    "\n",
    "ns_window = [_ for i in range(len(neural))]\n",
    "for i in range(len(neural)):\n",
    "    T = neural[i].shape[0]\n",
    "    neural_pad = np.concatenate([np.zeros((W//2, N)), neural[i], np.zeros((W//2, N))])\n",
    "    ns_window[i] = np.column_stack([neural_pad[w:T+w] for w in range(W)] )\n",
    "\n",
    "# Have to lag the latents for each batch \n",
    "W = nlags\n",
    "xs_eff = [_ for i in range(len(xs))]\n",
    "for i in range(len(neural)):\n",
    "    xs_pad = np.concatenate([np.zeros((W-1,D)), xs[i]])\n",
    "    xs_eff[i] = np.column_stack([xs_pad[w:T+w] for w in reversed(range(W))])\n",
    "\n"
   ]
  },
  {
   "cell_type": "code",
   "execution_count": 4,
   "metadata": {
    "collapsed": true
   },
   "outputs": [],
   "source": [
    "# Concatente into sequences, take only part for now\n",
    "T=10000\n",
    "ns_window_flat =np.concatenate(ns_window,axis=0)[:T]\n",
    "zs_flat = np.concatenate(zs,axis=0)[:T]\n",
    "xs_eff_flat = np.concatenate(xs_eff,axis=0)[:T]"
   ]
  },
  {
   "cell_type": "code",
   "execution_count": 5,
   "metadata": {},
   "outputs": [
    {
     "name": "stderr",
     "output_type": "stream",
     "text": [
      "/Users/eleanorbatty/anaconda/envs/behavenet/lib/python3.7/site-packages/sklearn/linear_model/logistic.py:460: FutureWarning: Default multi_class will be changed to 'auto' in 0.22. Specify the multi_class option to silence this warning.\n",
      "  \"this warning.\", FutureWarning)\n",
      "/Users/eleanorbatty/anaconda/envs/behavenet/lib/python3.7/site-packages/sklearn/linear_model/logistic.py:758: ConvergenceWarning: lbfgs failed to converge. Increase the number of iterations.\n",
      "  \"of iterations.\", ConvergenceWarning)\n",
      "/Users/eleanorbatty/anaconda/envs/behavenet/lib/python3.7/site-packages/sklearn/linear_model/logistic.py:758: ConvergenceWarning: lbfgs failed to converge. Increase the number of iterations.\n",
      "  \"of iterations.\", ConvergenceWarning)\n",
      "/Users/eleanorbatty/anaconda/envs/behavenet/lib/python3.7/site-packages/sklearn/linear_model/logistic.py:758: ConvergenceWarning: lbfgs failed to converge. Increase the number of iterations.\n",
      "  \"of iterations.\", ConvergenceWarning)\n",
      "/Users/eleanorbatty/anaconda/envs/behavenet/lib/python3.7/site-packages/sklearn/linear_model/logistic.py:758: ConvergenceWarning: lbfgs failed to converge. Increase the number of iterations.\n",
      "  \"of iterations.\", ConvergenceWarning)\n",
      "/Users/eleanorbatty/anaconda/envs/behavenet/lib/python3.7/site-packages/sklearn/linear_model/logistic.py:758: ConvergenceWarning: lbfgs failed to converge. Increase the number of iterations.\n",
      "  \"of iterations.\", ConvergenceWarning)\n",
      "/Users/eleanorbatty/anaconda/envs/behavenet/lib/python3.7/site-packages/sklearn/linear_model/logistic.py:758: ConvergenceWarning: lbfgs failed to converge. Increase the number of iterations.\n",
      "  \"of iterations.\", ConvergenceWarning)\n"
     ]
    },
    {
     "data": {
      "text/plain": [
       "LogisticRegression(C=1.0, class_weight=None, dual=False, fit_intercept=True,\n",
       "          intercept_scaling=1, max_iter=500, multi_class='warn',\n",
       "          n_jobs=None, penalty='l2', random_state=None, solver='lbfgs',\n",
       "          tol=0.0001, verbose=0, warm_start=False)"
      ]
     },
     "execution_count": 5,
     "metadata": {},
     "output_type": "execute_result"
    }
   ],
   "source": [
    "# Logistic regression\n",
    "\n",
    "recog_z = LogisticRegression(solver='lbfgs', max_iter=500)\n",
    "recog_z.fit(ns_window_flat, zs_flat)\n"
   ]
  },
  {
   "cell_type": "code",
   "execution_count": 6,
   "metadata": {},
   "outputs": [
    {
     "data": {
      "text/plain": [
       "LinearRegression(copy_X=True, fit_intercept=True, n_jobs=None,\n",
       "         normalize=False)"
      ]
     },
     "execution_count": 6,
     "metadata": {},
     "output_type": "execute_result"
    }
   ],
   "source": [
    "# Linear regression\n",
    "\n",
    "recog_x = LinearRegression()\n",
    "recog_x.fit(ns_window_flat, xs_eff_flat)\n"
   ]
  },
  {
   "cell_type": "code",
   "execution_count": 18,
   "metadata": {
    "collapsed": true
   },
   "outputs": [],
   "source": [
    "# Load in ARHMM model and get parameters\n",
    "\n",
    "arhmm_model = pickle.load(open('best_val_model.pt','rb'))\n",
    "\n",
    "P = arhmm_model.transitions.transition_matrix\n",
    "As = arhmm_model.observations.As\n",
    "bs = arhmm_model.observations.bs\n",
    "Qs = arhmm_model.observations.Sigmas\n",
    "\n",
    "evals, evecs = np.linalg.eig(P.T)\n",
    "perm = np.argsort(evals)[::-1]\n",
    "evals, evecs = evals[perm], evecs[:, perm]\n",
    "assert np.allclose(evals[0], 1.0)\n",
    "if np.any(evecs[:,0] <= 0):\n",
    "    evecs[:,0] = -1*evecs[:,0]\n",
    "assert np.all(evecs[:,0] >= 0) \n",
    "pz_infty = np.real(evecs[:, 0] / evecs[:, 0].sum())\n",
    "\n",
    "mu_infty = np.zeros((K, D*nlags))\n",
    "Sigma_infty = np.zeros((K, D*nlags, D*nlags))\n",
    "for k in range(K):\n",
    "    mu_infty[k,:D] = np.mean(xs_eff_flat[zs_flat == k,:D],axis=0)\n",
    "    #Sigma_infty[k] = np.cov(training_ae[training_arhmm == k].T)\n",
    "    Sigma_infty[k,:D,:D] = np.cov(xs_eff_flat[:,:D].T)\n",
    "    for l in range(1, nlags):\n",
    "        Sigma_infty[k, l*D:(l+1)*D, l*D:(l+1)*D] = np.eye(D)\n",
    " \n",
    "# mu_infty = np.zeros((K, D*nlags))\n",
    "# Sigma_infty = np.zeros((K, D*nlags, D*nlags))\n",
    "# for k in range(K):\n",
    "#     mu_infty[k] = np.mean(xs_eff_flat[zs_flat == k],axis=0)\n",
    "#     #Sigma_infty[k] = np.cov(training_ae[training_arhmm == k].T)\n",
    "#     Sigma_infty[k] = np.cov(xs_eff_flat.T)\n",
    "    \n",
    "mu0 = np.zeros(D)\n",
    "Sigma0 = np.eye(D)"
   ]
  },
  {
   "cell_type": "code",
   "execution_count": 19,
   "metadata": {
    "collapsed": true
   },
   "outputs": [],
   "source": [
    "# Make effective AR matrices\n",
    "\n",
    "# Make the big A matrix\n",
    "As_eff = np.zeros((K, D * nlags, D * nlags))\n",
    "for k in range(K):\n",
    "    for l in range(nlags):\n",
    "        As_eff[k, :D, D*l:D*(l+1)] = As[k, :, l*D:(l+1)*D]\n",
    "        if l < nlags - 1:\n",
    "            As_eff[k, (l+1)*D:(l+2)*D, l*D:(l+1)*D] = np.eye(D)\n",
    "#     U, S, V = np.linalg.svd(As_eff[k])\n",
    "#     S_clip = np.clip(S, 0, 1-1e-4)\n",
    "#     As_eff[k] = np.dot(U*S_clip,V)\n",
    "    \n",
    "# plt.imshow(big_As[0])\n",
    "# plt.colorbar()\n",
    "\n",
    "# Make the big Q (covariance) matrix\n",
    "Qs_eff = np.zeros((K, D * nlags, D * nlags))\n",
    "for k in range(K):\n",
    "    Qs_eff[k, :D, :D] = Qs[k]\n",
    "    for l in range(1, nlags):\n",
    "        Qs_eff[k, l*D:(l+1)*D, l*D:(l+1)*D] = 1e-16 * np.eye(D)\n",
    "\n",
    "bs_eff = np.zeros((K, D * nlags))\n",
    "for k in range(K):\n",
    "    bs_eff[k, :D] = bs[k]\n",
    "\n",
    "# plt.imshow(big_Q[0])\n",
    "# plt.colorbar()\n",
    "\n",
    "mu0_eff = np.concatenate((mu0, mu0, mu0))\n",
    "Sigma0_eff = np.zeros((D*nlags, D*nlags))\n",
    "for l in range(nlags):\n",
    "    Sigma0_eff[l*D:(l+1)*D, l*D:(l+1)*D] = Sigma0"
   ]
  },
  {
   "cell_type": "code",
   "execution_count": 20,
   "metadata": {
    "collapsed": true
   },
   "outputs": [],
   "source": [
    "# Use the information form.  It will generalize better to VI.\n",
    "from pylds.lds_messages_interface import info_E_step\n",
    "\n",
    "# Compute the info potentials for the initial condition\n",
    "def _info_params(mu0, Sigma0, As, bs, Qs, q_mu_x, q_Sigma_x, Sigma_infty, mu_infty, Ez, z_sample):\n",
    "    # parameter checking\n",
    "    T, K = Ez.shape\n",
    "    assert As.shape[0] == K and As.ndim == 3 and As.shape[1] == As.shape[2]\n",
    "    D = As.shape[1]\n",
    "    assert mu0.shape == (D,)\n",
    "    assert Sigma0.shape == (D, D)\n",
    "    assert bs.shape == (K, D)\n",
    "    assert Qs.shape == (K, D, D)\n",
    "    assert q_mu_x.shape == (T, D)\n",
    "    assert q_Sigma_x.shape == (D, D)\n",
    "    \n",
    "    # Make pseudo-inputs (all ones) for bias terms\n",
    "    inputs = np.ones((T, 1))\n",
    "    \n",
    "    # Convert initial distribution to info form\n",
    "    # (ignore normalizing constants)\n",
    "    J0 = np.linalg.inv(Sigma0)\n",
    "    h0 = J0 @ mu0\n",
    "    log_Z0 = 0\n",
    "\n",
    "    # Info dynamics parameters\n",
    "    J_pair_22 = np.linalg.inv(Qs)\n",
    "    J_pair_21 = -np.matmul(np.linalg.inv(Qs), As)\n",
    "    J_pair_11 = np.matmul(np.swapaxes(As, 1, 2), -J_pair_21)\n",
    "    mBTQiA = np.matmul(np.swapaxes(bs[:, :, None], 1, 2), J_pair_21)\n",
    "    BTQi = np.matmul(np.swapaxes(bs[:, :, None], 1, 2), J_pair_22)\n",
    "\n",
    "    # Get expected sufficient statistics by integrating over z\n",
    "    J_pair_22 = np.einsum('tk, kij -> tij', Ez[:-1], J_pair_22)\n",
    "    J_pair_21 = np.einsum('tk, kij -> tij', Ez[:-1], J_pair_21)\n",
    "    J_pair_11 = np.einsum('tk, kij -> tij', Ez[:-1], J_pair_11)\n",
    "    mBTQiA = np.einsum('tk, kij -> tij', Ez[:-1], mBTQiA)\n",
    "    BTQi = np.einsum('tk, kij -> tij', Ez[:-1], BTQi)\n",
    "    h_pair_1 = np.einsum('tu, tud -> td', inputs[:-1], mBTQiA)\n",
    "    h_pair_2 = np.einsum('tu, tud -> td', inputs[:-1], BTQi)\n",
    "    log_Z_pair = np.zeros(T-1)\n",
    "\n",
    "    # Info emission parameters\n",
    "    J_obs = (np.linalg.inv(q_Sigma_x)+0*np.eye(8*3) - np.linalg.inv(Sigma_infty))[z_sample] #+100*np.eye(8*3)\n",
    "    h_recog = np.dot(np.linalg.inv(q_Sigma_x)+0*np.eye(8*3), q_mu_x.T).T #np.linalg.solve(q_Sigma_x+10000*np.eye(8*3), q_mu_x.T).T\n",
    "    h_infty = np.linalg.solve(Sigma_infty, mu_infty)[z_sample]\n",
    "    h_obs = h_recog + h_infty\n",
    "    log_Z_obs = np.zeros(T)\n",
    "    \n",
    "    return J0, h0, log_Z0, \\\n",
    "           J_pair_11, J_pair_21, J_pair_22, h_pair_1, h_pair_2, log_Z_pair, \\\n",
    "           J_obs, h_obs, log_Z_obs\n"
   ]
  },
  {
   "cell_type": "code",
   "execution_count": 21,
   "metadata": {
    "scrolled": true
   },
   "outputs": [
    {
     "name": "stdout",
     "output_type": "stream",
     "text": [
      "MSE:  4694736274740.943\n",
      "MSE:  1714871582364010.2\n",
      "MSE:  867616837.6281755\n",
      "MSE:  1531915723977075.8\n",
      "MSE:  3812069324304.8315\n",
      "MSE:  3.800874558243795e+19\n",
      "MSE:  1044274963806.4586\n",
      "MSE:  5.241213016914264e+18\n",
      "MSE:  225954669091.5014\n",
      "MSE:  174726383.2742226\n",
      "MSE:  87602381838837.81\n",
      "MSE:  4634677579896330.0\n",
      "MSE:  1.2797447216859394e+19\n",
      "MSE:  1689492665587293.5\n",
      "MSE:  2.322028529347431e+18\n",
      "MSE:  18603367099.10962\n",
      "MSE:  13111536699437.084\n",
      "MSE:  2659739370278.5405\n",
      "MSE:  9016779405798.992\n",
      "MSE:  6270313024344.649\n",
      "MSE:  4.838755037357453e+18\n",
      "MSE:  1525125018876264.2\n",
      "MSE:  166751644624414.4\n",
      "MSE:  361782260507710.6\n",
      "MSE:  3.3105815165896323e+21\n",
      "MSE:  6.984499495623912e+20\n",
      "MSE:  586218065282.8373\n",
      "MSE:  91068330755.9619\n",
      "MSE:  22247400632.13402\n",
      "MSE:  2.6163766499996186e+24\n",
      "MSE:  4016163747147.433\n",
      "MSE:  3319160353.0242205\n",
      "MSE:  27411377.532881964\n",
      "MSE:  11042646336505.791\n",
      "MSE:  9363103213918276.0\n",
      "MSE:  6663367930409.079\n",
      "MSE:  36889619237.17883\n",
      "MSE:  1.3421613419392166e+19\n",
      "MSE:  685027343806106.1\n",
      "MSE:  14126748173063.5\n",
      "MSE:  1.1551470313731723e+19\n",
      "MSE:  564373712131055.4\n",
      "MSE:  1.4487460460993642e+19\n",
      "MSE:  29847631366351.043\n",
      "MSE:  2.8836463197515254e+18\n",
      "MSE:  1093054035457639.0\n",
      "MSE:  7298923328606.068\n",
      "MSE:  4.860916739361385e+17\n",
      "MSE:  303299199093880.06\n",
      "MSE:  2143066741381.155\n",
      "MSE:  2.530703578991167e+25\n",
      "MSE:  4801411136.935127\n",
      "MSE:  91284682923.17763\n",
      "MSE:  4668936955.331484\n",
      "MSE:  8471.214850283004\n",
      "MSE:  20721738.331263226\n",
      "MSE:  96038470815.01512\n",
      "MSE:  1208332686961667.5\n",
      "MSE:  1288779950643311.5\n",
      "MSE:  355749341844.59064\n",
      "MSE:  7844209108.798962\n",
      "MSE:  161597628.24243718\n",
      "MSE:  84818094310.06094\n",
      "MSE:  1611157779416.3901\n",
      "MSE:  124559945626.10274\n",
      "MSE:  1.3822469148313079e+22\n",
      "MSE:  3243212330141.422\n",
      "MSE:  5.555874790264715e+16\n",
      "MSE:  93030945097916.94\n",
      "MSE:  77795730528.83269\n",
      "MSE:  4623853172921.461\n",
      "MSE:  1307280955.9009733\n",
      "MSE:  1044150071315.3807\n",
      "MSE:  546252666716008.75\n",
      "MSE:  2.9283771497741802e+23\n",
      "MSE:  9008130549.258617\n",
      "MSE:  35047192125789.82\n",
      "MSE:  1647305154.0340898\n",
      "MSE:  1.9277585490937e+26\n",
      "MSE:  99423942.70182176\n",
      "MSE:  1.1421577354229947e+23\n",
      "MSE:  414588973.37924427\n",
      "MSE:  887978190.2635311\n",
      "MSE:  72675575.91062513\n",
      "MSE:  11181421573.806646\n",
      "MSE:  388839836.31726456\n",
      "MSE:  3.446862579077164e+16\n",
      "MSE:  853148751496.3909\n",
      "MSE:  184075087546.17316\n",
      "MSE:  270258716955.44568\n",
      "MSE:  329512750946.0809\n",
      "MSE:  6272114207012960.0\n",
      "MSE:  444383181113537.1\n",
      "MSE:  223962952125963.97\n",
      "MSE:  4348234307255440.5\n",
      "MSE:  1.1168846083019978e+22\n",
      "MSE:  33711149986219.16\n",
      "MSE:  1049836748.3701599\n",
      "MSE:  637182111.116926\n",
      "MSE:  8428520603595.175\n"
     ]
    }
   ],
   "source": [
    "n_iter = 100\n",
    "t=150 # which batch to use\n",
    "\n",
    "\n",
    "# Initialize q(z) with just the learned recognition potential\n",
    "log_qz = recog_z.predict_log_proba(ns_window[t])\n",
    "q_mu_x = recog_x.predict(ns_window[t])\n",
    "q_Sigma_x = np.cov((xs_eff[t] - q_mu_x).T)\n",
    "\n",
    "z_potential = log_qz - np.log(pz_infty)\n",
    "Ez, _, _ = hmm_expected_states(np.log(pz_infty), np.log(P)[None, :, :], z_potential)\n",
    "z_sample = hmm_sample(np.log(pz_infty), np.log(P)[None, :, :], z_potential)\n",
    "\n",
    "for i in range(n_iter):\n",
    "    # compute the expected value of x given z and the observation potential\n",
    "    _, Ex, _, _ = info_E_step(\n",
    "        *_info_params(mu0_eff, Sigma0_eff, As_eff, bs_eff, Qs_eff, \n",
    "                      q_mu_x, q_Sigma_x, Sigma_infty, mu_infty, Ez, z_sample)\n",
    "    )\n",
    "    \n",
    "    # Update z, now including the dynamics potential\n",
    "    # TODO: Should really include the covariance of x in this update too\n",
    "    z_dyn_potential = np.column_stack(\n",
    "        [multivariate_normal_logpdf(Ex[1:], Ex[:-1] @ A.T + b, Q) \n",
    "         for A, b, Q in zip(As_eff, bs_eff, Qs_eff)])\n",
    "    z_dyn_potential = np.row_stack((np.zeros(K), z_dyn_potential))\n",
    "    z_potential = log_qz - np.log(pz_infty) + z_dyn_potential\n",
    "    Ez, _, _ = hmm_expected_states(np.log(pz_infty), np.log(P)[None, :, :], z_potential)\n",
    "    #print(np.unique(Ez))\n",
    "    print(\"MSE: \", np.mean((Ex[:,:D] - xs[t])**2))"
   ]
  },
  {
   "cell_type": "code",
   "execution_count": 22,
   "metadata": {},
   "outputs": [
    {
     "data": {
      "text/plain": [
       "0.7090622393421587"
      ]
     },
     "execution_count": 22,
     "metadata": {},
     "output_type": "execute_result"
    }
   ],
   "source": [
    "np.mean((q_mu_x[:,:D]-xs[t])**2)"
   ]
  },
  {
   "cell_type": "code",
   "execution_count": 23,
   "metadata": {},
   "outputs": [
    {
     "data": {
      "text/plain": [
       "1.0421859066348163"
      ]
     },
     "execution_count": 23,
     "metadata": {},
     "output_type": "execute_result"
    }
   ],
   "source": [
    "np.max(np.abs(np.linalg.eigvals(As_eff)))"
   ]
  },
  {
   "cell_type": "code",
   "execution_count": 24,
   "metadata": {},
   "outputs": [
    {
     "data": {
      "text/plain": [
       "<matplotlib.colorbar.Colorbar at 0x1ce9e3f98>"
      ]
     },
     "execution_count": 24,
     "metadata": {},
     "output_type": "execute_result"
    },
    {
     "data": {
      "image/png": "[encoded data removed]",
      "text/plain": [
       "<Figure size 432x288 with 2 Axes>"
      ]
     },
     "metadata": {
      "needs_background": "light"
     },
     "output_type": "display_data"
    }
   ],
   "source": [
    "plt.imshow(As_eff[5])\n",
    "plt.colorbar()"
   ]
  },
  {
   "cell_type": "code",
   "execution_count": 25,
   "metadata": {},
   "outputs": [
    {
     "data": {
      "text/plain": [
       "[<matplotlib.lines.Line2D at 0x1ce9f8438>]"
      ]
     },
     "execution_count": 25,
     "metadata": {},
     "output_type": "execute_result"
    },
    {
     "data": {
      "image/png": "[encoded data removed]",
      "text/plain": [
       "<Figure size 432x288 with 1 Axes>"
      ]
     },
     "metadata": {
      "needs_background": "light"
     },
     "output_type": "display_data"
    }
   ],
   "source": [
    "plt.plot(Ex[:,0],'r')\n",
    "plt.plot(q_mu_x[:,0],'b')\n",
    "plt.plot(xs[t][:,0],'k')"
   ]
  },
  {
   "cell_type": "code",
   "execution_count": 15,
   "metadata": {},
   "outputs": [
    {
     "data": {
      "text/plain": [
       "[<matplotlib.lines.Line2D at 0x1ce8245c0>]"
      ]
     },
     "execution_count": 15,
     "metadata": {},
     "output_type": "execute_result"
    },
    {
     "data": {
      "image/png": "[encoded data removed]",
      "text/plain": [
       "<Figure size 432x288 with 1 Axes>"
      ]
     },
     "metadata": {
      "needs_background": "light"
     },
     "output_type": "display_data"
    }
   ],
   "source": [
    "plt.plot(np.argmax(log_qz,axis=1))\n",
    "plt.plot(zs[t])"
   ]
  },
  {
   "cell_type": "code",
   "execution_count": 16,
   "metadata": {},
   "outputs": [
    {
     "data": {
      "text/plain": [
       "4"
      ]
     },
     "execution_count": 16,
     "metadata": {},
     "output_type": "execute_result"
    }
   ],
   "source": [
    "len(arhmm_model.observations.params)"
   ]
  },
  {
   "cell_type": "code",
   "execution_count": 17,
   "metadata": {},
   "outputs": [
    {
     "data": {
      "text/plain": [
       "array([], shape=(16, 8, 0), dtype=float64)"
      ]
     },
     "execution_count": 17,
     "metadata": {},
     "output_type": "execute_result"
    }
   ],
   "source": [
    "arhmm_model.observations.Vs"
   ]
  },
  {
   "cell_type": "code",
   "execution_count": null,
   "metadata": {
    "collapsed": true
   },
   "outputs": [],
   "source": []
  }
 ],
 "metadata": {
  "kernelspec": {
   "display_name": "behavenet",
   "language": "python",
   "name": "behavenet"
  },
  "language_info": {
   "codemirror_mode": {
    "name": "ipython",
    "version": 3
   },
   "file_extension": ".py",
   "mimetype": "text/x-python",
   "name": "python",
   "nbconvert_exporter": "python",
   "pygments_lexer": "ipython3",
   "version": "3.7.2"
  }
 },
 "nbformat": 4,
 "nbformat_minor": 2
}
