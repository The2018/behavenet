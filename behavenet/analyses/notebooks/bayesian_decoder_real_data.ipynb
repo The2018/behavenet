{
 "cells": [
  {
   "cell_type": "code",
   "execution_count": 52,
   "metadata": {},
   "outputs": [],
   "source": [
    "import numpy as np\n",
    "import matplotlib.pyplot as plt\n",
    "%matplotlib inline\n",
    "from behavenet.fitting.utils import build_data_generator, create_tt_experiment\n",
    "from behavenet.fitting.utils import add_lab_defaults_to_parser, get_output_session_dir, get_expt_dir\n",
    "from test_tube import HyperOptArgumentParser\n",
    "from behavenet.fitting.decoding_grid_search import get_decoding_params"
   ]
  },
  {
   "cell_type": "code",
   "execution_count": 53,
   "metadata": {},
   "outputs": [],
   "source": [
    "def get_params(strategy, args):\n",
    "\n",
    "    parser = HyperOptArgumentParser(strategy)\n",
    "\n",
    "    # most important arguments\n",
    "    parser.add_argument('--search_type', type=str)  # grid_search, test\n",
    "    parser.add_argument('--lab_example', type=str)  # musall, steinmetz, datta\n",
    "    parser.add_argument('--tt_save_path', type=str)\n",
    "    parser.add_argument('--data_dir', type=str)\n",
    "    parser.add_argument('--model_type', default='ff', choices=['ff', 'ff-mv', 'linear', 'linear-mv', 'lstm'], type=str)\n",
    "    parser.add_argument('--model_class', default='neural-ae', choices=['neural-ae', 'neural-arhmm', 'ae-neural', 'arhmm-neural'], type=str)\n",
    "    parser.add_argument('--sessions_csv', default='', type=str, help='specify multiple sessions')\n",
    "\n",
    "    # arguments for computing resources (infer n_gpu_workers from visible gpus)\n",
    "    parser.add_argument('--tt_n_gpu_trials', default=1000, type=int)\n",
    "    parser.add_argument('--tt_n_cpu_trials', default=100000, type=int)\n",
    "    parser.add_argument('--tt_n_cpu_workers', default=5, type=int)\n",
    "    parser.add_argument('--mem_limit_gb', default=8.0, type=float)\n",
    "    parser.add_argument('--gpus_viz', default='0;1', type=str)\n",
    "\n",
    "    # add data generator arguments\n",
    "    parser.add_argument('--reg_list', default='none', type=str, choices=['none', 'arg', 'all'])\n",
    "    parser.add_argument('--subsample_regions', default='none', choices=['none', 'single', 'loo'])\n",
    "    parser.add_argument('--device', default='cuda', type=str)\n",
    "    parser.add_argument('--as_numpy', action='store_true', default=False)\n",
    "    parser.add_argument('--batch_load', action='store_true', default=False)\n",
    "    parser.add_argument('--rng_seed', default=0, type=int)\n",
    "\n",
    "    # add fitting arguments\n",
    "    parser.add_argument('--val_check_interval', default=1)\n",
    "\n",
    "    # get lab-specific arguments\n",
    "    namespace, extra = parser.parse_known_args(args)\n",
    "    add_lab_defaults_to_parser(parser, namespace.lab_example)\n",
    "    namespace, extra = parser.parse_known_args(args)  # ugly\n",
    "\n",
    "    # add regions to opt_list if desired\n",
    "    if namespace.reg_list == 'all':\n",
    "        parser.opt_list('--region', options=get_region_list(namespace), type=str, tunable=True)\n",
    "    elif namespace.reg_list == 'arg':\n",
    "        parser.add_argument('--region', default='all', type=str)\n",
    "    elif namespace.reg_list == 'none':  # TODO: fix this ambiguity\n",
    "        parser.add_argument('--region', default='all', type=str)\n",
    "    else:\n",
    "        raise ValueError(\n",
    "            '\"%s\" is not a valid region_list' % namespace.region_list)\n",
    "\n",
    "    get_decoding_params(namespace, parser)\n",
    "\n",
    "    return parser.parse_args(args)"
   ]
  },
  {
   "cell_type": "code",
   "execution_count": 54,
   "metadata": {},
   "outputs": [
    {
     "name": "stdout",
     "output_type": "stream",
     "text": [
      "using data from following sessions:\n",
      "/media/gssda/behavenet/results/musall/vistrained/mSM36/05-Dec-2017\n",
      "constructing data generator...done\n",
      "Generator contains 1 SingleSessionDataset objects:\n",
      "\tsignals: ['neural', 'ae_latents']\n",
      "\ttransforms: [Compose(ZScore()), None]\n",
      "\tpaths: ['/media/gssda/behavenet/data/musall/vistrained/mSM36/05-Dec-2017/data.hdf5', '/media/gssda/behavenet/results/musall/vistrained/mSM36/multisession-00/ae/conv/08_latents/ae-dim-test/version_1/latents.pkl']\n",
      "\n",
      "\n"
     ]
    }
   ],
   "source": [
    "command_line_arg = '--search_type test --lab_example musall --animal mSM36 --session 05-Dec-2017 --tt_save_path /media/gssda/behavenet/results/ --data_dir /media/gssda/behavenet/data/  --model_type ff --model_class neural-ae --experiment_name grid_search --export_predictions --ae_experiment_name ae-dim-test --ae_model_type conv --n_ae_latents 8 --min_n_epochs 10 --max_n_epochs 500 --device cpu --n_lags 4 --l2_reg 1e-4 --n_hid_layers 3 --ae_multisession 0'\n",
    "hparams = get_params('grid_search', command_line_arg.split(' '))\n",
    "hparams = vars(hparams)\n",
    "hparams.pop('trials', False)\n",
    "hparams.pop('generate_trials', False)\n",
    "hparams.pop('optimize_parallel', False)\n",
    "hparams.pop('optimize_parallel_cpu', False)\n",
    "hparams.pop('optimize_parallel_gpu', False)\n",
    "hparams.pop('optimize_trials_parallel_gpu', False)\n",
    "\n",
    "# create test-tube experiment\n",
    "#hparams, sess_ids, exp = create_tt_experiment(hparams)\n",
    "hparams['session_dir'], sess_ids = get_output_session_dir(hparams)\n",
    "hparams['expt_dir'] = 'temp/'\n",
    "hparams['version'] = 0\n",
    "# build data generator\n",
    "ae_data_generator = build_data_generator(hparams, sess_ids)\n"
   ]
  },
  {
   "cell_type": "code",
   "execution_count": 55,
   "metadata": {},
   "outputs": [
    {
     "name": "stdout",
     "output_type": "stream",
     "text": [
      "using data from following sessions:\n",
      "/media/gssda/behavenet/results/musall/vistrained/mSM36/05-Dec-2017\n",
      "constructing data generator...done\n",
      "Generator contains 1 SingleSessionDataset objects:\n",
      "\tsignals: ['neural', 'arhmm']\n",
      "\ttransforms: [Compose(ZScore()), None]\n",
      "\tpaths: ['/media/gssda/behavenet/data/musall/vistrained/mSM36/05-Dec-2017/data.hdf5', '/media/gssda/behavenet/results/musall/vistrained/mSM36/multisession-00/arhmm/08_latents/16_states/0e+00_kappa/gaussian/grid_search/version_2/states.pkl']\n",
      "\n",
      "\n"
     ]
    }
   ],
   "source": [
    "command_line_arg = '--search_type test --lab_example musall --animal mSM36 --session 05-Dec-2017 --tt_save_path /media/gssda/behavenet/results/ --data_dir /media/gssda/behavenet/data/ --model_type ff --model_class neural-arhmm --experiment_name grid_search --n_ae_latents 8 --arhmm_experiment_name grid_search --n_arhmm_states 16 --kappa 0 --noise_type gaussian --min_n_epochs 10 --max_n_epochs 500 --n_lags 4 --l2_reg 1e-4 --n_hid_layers 1 --arhmm_multisession 0 --device cpu'\n",
    "hparams = get_params('grid_search', command_line_arg.split(' '))\n",
    "hparams = vars(hparams)\n",
    "hparams.pop('trials', False)\n",
    "hparams.pop('generate_trials', False)\n",
    "hparams.pop('optimize_parallel', False)\n",
    "hparams.pop('optimize_parallel_cpu', False)\n",
    "hparams.pop('optimize_parallel_gpu', False)\n",
    "hparams.pop('optimize_trials_parallel_gpu', False)\n",
    "\n",
    "# create test-tube experiment\n",
    "#hparams, sess_ids, exp = create_tt_experiment(hparams)\n",
    "hparams['session_dir'], sess_ids = get_output_session_dir(hparams)\n",
    "hparams['expt_dir'] = 'temp/'\n",
    "hparams['version'] = 0\n",
    "# build data generator\n",
    "arhmm_data_generator = build_data_generator(hparams, sess_ids)\n"
   ]
  },
  {
   "cell_type": "code",
   "execution_count": 56,
   "metadata": {},
   "outputs": [],
   "source": [
    "N=545\n",
    "\n",
    "ae_neural = [None for i in range(N)]\n",
    "ae_latents = [None for i in range(N)]\n",
    "arhmm_neural = [None for i in range(N)]\n",
    "arhmm_states = [None for i in range(N)]\n",
    "\n",
    "for ii in range(ae_data_generator.n_tot_batches['train']):\n",
    "    ae_data, _ = ae_data_generator.next_batch('train')\n",
    "    arhmm_data, _ = arhmm_data_generator.next_batch('train')\n",
    "    \n",
    "    ae_neural[ae_data['batch_indx'].item()] = ae_data['neural'].cpu().detach().numpy().squeeze()\n",
    "    ae_latents[ae_data['batch_indx'].item()] = ae_data['ae_latents'].cpu().detach().numpy().squeeze()\n",
    "    \n",
    "    arhmm_neural[arhmm_data['batch_indx'].item()] = arhmm_data['neural'].cpu().detach().numpy().squeeze()\n",
    "    arhmm_states[arhmm_data['batch_indx'].item()] = arhmm_data['arhmm'].cpu().detach().numpy().squeeze()\n",
    "    \n",
    "ae_neural = [v for v in ae_neural if v is not None]\n",
    "ae_latents = [v for v in ae_latents if v is not None]\n",
    "arhmm_neural = [v for v in arhmm_neural if v is not None]\n",
    "arhmm_states = [v for v in arhmm_states if v is not None]\n",
    "             "
   ]
  },
  {
   "cell_type": "code",
   "execution_count": 59,
   "metadata": {},
   "outputs": [],
   "source": [
    "np.savez('arhmm_decoding_data.npz',neural=ae_neural, latents=ae_latents, states':arhmm_states})"
   ]
  },
  {
   "cell_type": "code",
   "execution_count": null,
   "metadata": {},
   "outputs": [],
   "source": []
  },
  {
   "cell_type": "code",
   "execution_count": 11,
   "metadata": {},
   "outputs": [],
   "source": [
    "# Have to lag the neural activity for each batch\n",
    "\n",
    "from sklearn.linear_model import LogisticRegression, LinearRegression\n",
    "\n",
    "W = 8\n",
    "N = ae_neural[0].shape[1]\n",
    "nlags=3 # for AR\n",
    "D = ae_latents[0].shape[1]\n",
    "neural_window = [_ for i in range(len(ae_neural))]\n",
    "for i in range(len(ae_neural)):\n",
    "    T = ae_neural[i].shape[0]\n",
    "    neural_pad = np.concatenate([np.zeros((W//2, N)), ae_neural[i], np.zeros((W//2, N))])\n",
    "    neural_window[i] = np.column_stack([neural_pad[w:T+w] for w in range(W)] )\n"
   ]
  },
  {
   "cell_type": "code",
   "execution_count": 12,
   "metadata": {},
   "outputs": [],
   "source": [
    "T=3000\n",
    "training_neural =np.concatenate(neural_window,axis=0)[:T]\n",
    "training_arhmm = np.concatenate(arhmm_states,axis=0)[:T]\n",
    "training_ae = np.concatenate(ae_latents,axis=0)[:T]"
   ]
  },
  {
   "cell_type": "code",
   "execution_count": 13,
   "metadata": {},
   "outputs": [
    {
     "name": "stderr",
     "output_type": "stream",
     "text": [
      "/home/erb2180/miniconda3/envs/behavenet/lib/python3.7/site-packages/sklearn/linear_model/logistic.py:469: FutureWarning: Default multi_class will be changed to 'auto' in 0.22. Specify the multi_class option to silence this warning.\n",
      "  \"this warning.\", FutureWarning)\n"
     ]
    },
    {
     "data": {
      "text/plain": [
       "LogisticRegression(C=1.0, class_weight=None, dual=False, fit_intercept=True,\n",
       "                   intercept_scaling=1, l1_ratio=None, max_iter=500,\n",
       "                   multi_class='warn', n_jobs=None, penalty='l2',\n",
       "                   random_state=None, solver='lbfgs', tol=0.0001, verbose=0,\n",
       "                   warm_start=False)"
      ]
     },
     "execution_count": 13,
     "metadata": {},
     "output_type": "execute_result"
    }
   ],
   "source": [
    "# Logistic/linear regressions\n",
    "from sklearn.linear_model import LogisticRegression, LinearRegression\n",
    "\n",
    "recog_z = LogisticRegression(solver='lbfgs', max_iter=500)\n",
    "recog_z.fit(training_neural, training_arhmm)\n",
    "#log_qz = recog_z.predict_log_proba(ns_window)\n",
    "\n"
   ]
  },
  {
   "cell_type": "code",
   "execution_count": 29,
   "metadata": {},
   "outputs": [
    {
     "data": {
      "text/plain": [
       "LinearRegression(copy_X=True, fit_intercept=True, n_jobs=None, normalize=False)"
      ]
     },
     "execution_count": 29,
     "metadata": {},
     "output_type": "execute_result"
    }
   ],
   "source": [
    "W = nlags\n",
    "xs_pad = np.concatenate([np.zeros((W-1,D)), training_ae])\n",
    "xs_eff = np.column_stack([xs_pad[w:T+w] for w in reversed(range(W))])\n",
    "\n",
    "recog_x = LinearRegression()\n",
    "recog_x.fit(training_neural, xs_eff)\n",
    "# q_mu_x = recog_x.predict(training_neural)\n",
    "# q_Sigma_x = np.cov((training_ae - q_mu_x).T)"
   ]
  },
  {
   "cell_type": "code",
   "execution_count": 30,
   "metadata": {},
   "outputs": [],
   "source": [
    "# Load in ARHMM model and get transition matrix\n",
    "\n",
    "import pickle\n",
    "arhmm_model = pickle.load(open('/media/gssda/behavenet/results/musall/vistrained/mSM36/multisession-00/arhmm/08_latents/16_states/0e+00_kappa/gaussian/grid_search/version_2/best_val_model.pt','rb'))\n",
    "P = arhmm_model.transitions.transition_matrix\n",
    "\n",
    "As = arhmm_model.observations.As\n",
    "bs = arhmm_model.observations.bs\n",
    "Qs = arhmm_model.observations.Sigmas\n",
    "\n",
    "evals, evecs = np.linalg.eig(P.T)\n",
    "perm = np.argsort(evals)[::-1]\n",
    "evals, evecs = evals[perm], evecs[:, perm]\n",
    "assert np.allclose(evals[0], 1.0)\n",
    "if np.any(evecs[:,0] <= 0):\n",
    "    evecs[:,0] = -1*evecs[:,0]\n",
    "assert np.all(evecs[:,0] >= 0) \n",
    "pz_infty = np.real(evecs[:, 0] / evecs[:, 0].sum())\n",
    "\n",
    "K = P.shape[0]\n",
    "D = training_ae.shape[1]\n",
    "\n",
    "mu_infty = np.zeros((K, D*nlags))\n",
    "Sigma_infty = np.zeros((K, D*nlags, D*nlags))\n",
    "for k in range(K):\n",
    "    mu_infty[k] = np.mean(xs_eff[training_arhmm == k])\n",
    "    #Sigma_infty[k] = np.cov(training_ae[training_arhmm == k].T)\n",
    "    Sigma_infty[k] = np.cov(xs_eff.T)\n",
    "    \n",
    "mu0 = np.zeros(D)\n",
    "Sigma0 = np.eye(D)"
   ]
  },
  {
   "cell_type": "code",
   "execution_count": 31,
   "metadata": {},
   "outputs": [],
   "source": [
    "# Make effective AR matrices\n",
    "\n",
    "# Make the big A matrix\n",
    "As_eff = np.zeros((K, D * nlags, D * nlags))\n",
    "for k in range(K):\n",
    "    for l in range(nlags):\n",
    "        As_eff[k, :D, D*l:D*(l+1)] = As[k, :, l*D:(l+1)*D]\n",
    "        if l < nlags - 1:\n",
    "            As_eff[k, (l+1)*D:(l+2)*D, l*D:(l+1)*D] = np.eye(D)\n",
    "\n",
    "# plt.imshow(big_As[0])\n",
    "# plt.colorbar()\n",
    "\n",
    "# Make the big Q (covariance) matrix\n",
    "Qs_eff = np.zeros((K, D * nlags, D * nlags))\n",
    "for k in range(K):\n",
    "    Qs_eff[k, :D, :D] = Qs[k]\n",
    "    for l in range(1, nlags):\n",
    "        Qs_eff[k, l*D:(l+1)*D, l*D:(l+1)*D] = 1e-16 * np.eye(D)\n",
    "\n",
    "bs_eff = np.zeros((K, D * nlags))\n",
    "for k in range(K):\n",
    "    bs_eff[k, :D] = bs[k]\n",
    "\n",
    "# plt.imshow(big_Q[0])\n",
    "# plt.colorbar()\n",
    "\n",
    "mu0_eff = np.concatenate((mu0, mu0, mu0))\n",
    "Sigma0_eff = np.zeros((D*nlags, D*nlags))\n",
    "for l in range(nlags):\n",
    "    Sigma0_eff[l*D:(l+1)*D, l*D:(l+1)*D] = Sigma0"
   ]
  },
  {
   "cell_type": "code",
   "execution_count": 32,
   "metadata": {},
   "outputs": [
    {
     "data": {
      "text/plain": [
       "0.0011808777269219275"
      ]
     },
     "execution_count": 32,
     "metadata": {},
     "output_type": "execute_result"
    }
   ],
   "source": [
    "np.min(np.linalg.eigvals(Sigma_infty))"
   ]
  },
  {
   "cell_type": "code",
   "execution_count": 51,
   "metadata": {},
   "outputs": [
    {
     "data": {
      "text/plain": [
       "0.02201264067272425"
      ]
     },
     "execution_count": 51,
     "metadata": {},
     "output_type": "execute_result"
    }
   ],
   "source": [
    "np.min(np.linalg.eigvals(q_Sigma_x))"
   ]
  },
  {
   "cell_type": "code",
   "execution_count": 55,
   "metadata": {},
   "outputs": [
    {
     "data": {
      "image/png": "[encoded data removed]",
      "text/plain": [
       "<Figure size 432x288 with 1 Axes>"
      ]
     },
     "metadata": {
      "needs_background": "light"
     },
     "output_type": "display_data"
    }
   ],
   "source": [
    "plt.hist(training_arhmm,bins=16);"
   ]
  },
  {
   "cell_type": "code",
   "execution_count": 46,
   "metadata": {},
   "outputs": [
    {
     "data": {
      "text/plain": [
       "<matplotlib.colorbar.Colorbar at 0x7f5fb73ad240>"
      ]
     },
     "execution_count": 46,
     "metadata": {},
     "output_type": "execute_result"
    },
    {
     "data": {
      "image/png": "[encoded data removed]",
      "text/plain": [
       "<Figure size 432x288 with 2 Axes>"
      ]
     },
     "metadata": {
      "needs_background": "light"
     },
     "output_type": "display_data"
    }
   ],
   "source": [
    "plt.imshow(Sigma_infty[15])\n",
    "plt.colorbar()"
   ]
  },
  {
   "cell_type": "code",
   "execution_count": 11,
   "metadata": {
    "scrolled": true
   },
   "outputs": [
    {
     "data": {
      "text/plain": [
       "<matplotlib.colorbar.Colorbar at 0x7f2735d5d1d0>"
      ]
     },
     "execution_count": 11,
     "metadata": {},
     "output_type": "execute_result"
    },
    {
     "data": {
      "image/png": "[encoded data removed]",
      "text/plain": [
       "<Figure size 432x288 with 2 Axes>"
      ]
     },
     "metadata": {
      "needs_background": "light"
     },
     "output_type": "display_data"
    }
   ],
   "source": [
    "plt.imshow(P)\n",
    "plt.colorbar()"
   ]
  },
  {
   "cell_type": "code",
   "execution_count": 33,
   "metadata": {},
   "outputs": [],
   "source": [
    "# Use the information form.  It will generalize better to VI.\n",
    "from pylds.lds_messages_interface import info_E_step\n",
    "\n",
    "# Compute the info potentials for the initial condition\n",
    "def _info_params(mu0, Sigma0, As, bs, Qs, q_mu_x, q_Sigma_x, Sigma_infty, mu_infty, Ez, z_sample):\n",
    "    # parameter checking\n",
    "    T, K = Ez.shape\n",
    "    assert As.shape[0] == K and As.ndim == 3 and As.shape[1] == As.shape[2]\n",
    "    D = As.shape[1]\n",
    "    assert mu0.shape == (D,)\n",
    "    assert Sigma0.shape == (D, D)\n",
    "    assert bs.shape == (K, D)\n",
    "    assert Qs.shape == (K, D, D)\n",
    "    assert q_mu_x.shape == (T, D)\n",
    "    assert q_Sigma_x.shape == (D, D)\n",
    "    \n",
    "    # Make pseudo-inputs (all ones) for bias terms\n",
    "    inputs = np.ones((T, 1))\n",
    "    \n",
    "    # Convert initial distribution to info form\n",
    "    # (ignore normalizing constants)\n",
    "    J0 = np.linalg.inv(Sigma0)\n",
    "    h0 = J0 @ mu0\n",
    "    log_Z0 = 0\n",
    "\n",
    "    # Info dynamics parameters\n",
    "    J_pair_22 = np.linalg.inv(Qs)\n",
    "    J_pair_21 = -np.matmul(np.linalg.inv(Qs), As)\n",
    "    J_pair_11 = np.matmul(np.swapaxes(As, 1, 2), -J_pair_21)\n",
    "    mBTQiA = np.matmul(np.swapaxes(bs[:, :, None], 1, 2), J_pair_21)\n",
    "    BTQi = np.matmul(np.swapaxes(bs[:, :, None], 1, 2), J_pair_22)\n",
    "\n",
    "    # Get expected sufficient statistics by integrating over z\n",
    "    J_pair_22 = np.einsum('tk, kij -> tij', Ez[:-1], J_pair_22)\n",
    "    J_pair_21 = np.einsum('tk, kij -> tij', Ez[:-1], J_pair_21)\n",
    "    J_pair_11 = np.einsum('tk, kij -> tij', Ez[:-1], J_pair_11)\n",
    "    mBTQiA = np.einsum('tk, kij -> tij', Ez[:-1], mBTQiA)\n",
    "    BTQi = np.einsum('tk, kij -> tij', Ez[:-1], BTQi)\n",
    "    h_pair_1 = np.einsum('tu, tud -> td', inputs[:-1], mBTQiA)\n",
    "    h_pair_2 = np.einsum('tu, tud -> td', inputs[:-1], BTQi)\n",
    "    log_Z_pair = np.zeros(T-1)\n",
    "\n",
    "    # Info emission parameters\n",
    "    J_obs = (np.linalg.inv(q_Sigma_x)+100*np.eye(8*3) - np.linalg.inv(Sigma_infty))[z_sample]\n",
    "    h_recog = np.linalg.solve(q_Sigma_x, q_mu_x.T).T\n",
    "    h_infty = np.linalg.solve(Sigma_infty, mu_infty)[z_sample]\n",
    "    h_obs = h_recog + h_infty\n",
    "    log_Z_obs = np.zeros(T)\n",
    "    \n",
    "    return J0, h0, log_Z0, \\\n",
    "           J_pair_11, J_pair_21, J_pair_22, h_pair_1, h_pair_2, log_Z_pair, \\\n",
    "           J_obs, h_obs, log_Z_obs\n"
   ]
  },
  {
   "cell_type": "code",
   "execution_count": 51,
   "metadata": {},
   "outputs": [
    {
     "name": "stdout",
     "output_type": "stream",
     "text": [
      "MSE:  42411430.32192369\n",
      "MSE:  0.8918683104431435\n",
      "MSE:  72787220.27350566\n",
      "MSE:  0.8904151838114185\n",
      "MSE:  2339641.6004939135\n",
      "MSE:  0.892744092071649\n",
      "MSE:  130989226.94931588\n",
      "MSE:  0.8907807482271606\n",
      "MSE:  42411430.32192369\n",
      "MSE:  0.8918683104431435\n",
      "MSE:  72787220.27350566\n",
      "MSE:  0.8904151838114185\n",
      "MSE:  2339641.6004939135\n",
      "MSE:  0.892744092071649\n",
      "MSE:  130989226.94931588\n",
      "MSE:  0.8907807482271606\n",
      "MSE:  42411430.32192369\n",
      "MSE:  0.8918683104431435\n",
      "MSE:  72787220.27350566\n",
      "MSE:  0.8904151838114185\n",
      "MSE:  2339641.6004939135\n",
      "MSE:  0.892744092071649\n",
      "MSE:  130989226.94931588\n",
      "MSE:  0.8907807482271606\n",
      "MSE:  42411430.32192369\n",
      "MSE:  0.8918683104431435\n",
      "MSE:  72787220.27350566\n",
      "MSE:  0.8904151838114185\n",
      "MSE:  2339641.6004939135\n",
      "MSE:  0.892744092071649\n",
      "MSE:  130989226.94931588\n",
      "MSE:  0.8907807482271606\n",
      "MSE:  42411430.32192369\n",
      "MSE:  0.8918683104431435\n",
      "MSE:  72787220.27350566\n",
      "MSE:  0.8904151838114185\n",
      "MSE:  2339641.6004939135\n",
      "MSE:  0.892744092071649\n",
      "MSE:  130989226.94931588\n",
      "MSE:  0.8907807482271606\n",
      "MSE:  42411430.32192369\n",
      "MSE:  0.8918683104431435\n",
      "MSE:  72787220.27350566\n",
      "MSE:  0.8904151838114185\n",
      "MSE:  2339641.6004939135\n",
      "MSE:  0.892744092071649\n",
      "MSE:  130989226.94931588\n",
      "MSE:  0.8907807482271606\n",
      "MSE:  42411430.32192369\n",
      "MSE:  0.8918683104431435\n",
      "MSE:  72787220.27350566\n",
      "MSE:  0.8904151838114185\n",
      "MSE:  2339641.6004939135\n",
      "MSE:  0.892744092071649\n",
      "MSE:  130989226.94931588\n",
      "MSE:  0.8907807482271606\n",
      "MSE:  42411430.32192369\n",
      "MSE:  0.8918683104431435\n",
      "MSE:  72787220.27350566\n",
      "MSE:  0.8904151838114185\n",
      "MSE:  2339641.6004939135\n",
      "MSE:  0.892744092071649\n",
      "MSE:  130989226.94931588\n",
      "MSE:  0.8907807482271606\n",
      "MSE:  42411430.32192369\n",
      "MSE:  0.8918683104431435\n",
      "MSE:  72787220.27350566\n",
      "MSE:  0.8904151838114185\n",
      "MSE:  2339641.6004939135\n",
      "MSE:  0.892744092071649\n",
      "MSE:  130989226.94931588\n",
      "MSE:  0.8907807482271606\n",
      "MSE:  42411430.32192369\n",
      "MSE:  0.8918683104431435\n",
      "MSE:  72787220.27350566\n",
      "MSE:  0.8904151838114185\n",
      "MSE:  2339641.6004939135\n",
      "MSE:  0.892744092071649\n",
      "MSE:  130989226.94931588\n",
      "MSE:  0.8907807482271606\n",
      "MSE:  42411430.32192369\n",
      "MSE:  0.8918683104431435\n",
      "MSE:  72787220.27350566\n",
      "MSE:  0.8904151838114185\n",
      "MSE:  2339641.6004939135\n",
      "MSE:  0.892744092071649\n",
      "MSE:  130989226.94931588\n",
      "MSE:  0.8907807482271606\n",
      "MSE:  42411430.32192369\n",
      "MSE:  0.8918683104431435\n",
      "MSE:  72787220.27350566\n",
      "MSE:  0.8904151838114185\n",
      "MSE:  2339641.6004939135\n",
      "MSE:  0.892744092071649\n",
      "MSE:  130989226.94931588\n",
      "MSE:  0.8907807482271606\n",
      "MSE:  42411430.32192369\n",
      "MSE:  0.8918683104431435\n",
      "MSE:  72787220.27350566\n",
      "MSE:  0.8904151838114185\n"
     ]
    }
   ],
   "source": [
    "# n_iter = 100\n",
    "# t=50\n",
    "\n",
    "# from ssm.stats import multivariate_normal_logpdf\n",
    "# from ssm.primitives import hmm_expected_states, hmm_sample\n",
    "# from pylds.lds_messages_interface import info_E_step\n",
    "\n",
    "\n",
    "# # Initialize q(z) with just the learned recognition potential\n",
    "# log_qz = recog_z.predict_log_proba(neural_window[t])\n",
    "# q_mu_x = recog_x.predict(neural_window[t])\n",
    "\n",
    "# xs_pad = np.concatenate([np.zeros((W-1,D)), ae_latents[t]])\n",
    "# xs_eff = np.column_stack([xs_pad[w:ae_latents[t].shape[0]+w] for w in reversed(range(W))])\n",
    "\n",
    "# q_Sigma_x = np.cov((xs_eff - q_mu_x).T)\n",
    "\n",
    "# z_potential = log_qz - np.log(pz_infty)\n",
    "# Ez, _, _ = hmm_expected_states(np.log(pz_infty), np.log(P)[None, :, :], z_potential)\n",
    "# z_sample = hmm_sample(np.log(pz_infty), np.log(P)[None, :, :], z_potential)\n",
    "\n",
    "for i in range(n_iter):\n",
    "    # compute the expected value of x given z and the observation potential\n",
    "    _, Ex, _, _ = info_E_step(\n",
    "        *_info_params(mu0_eff, Sigma0_eff, As_eff, bs_eff, Qs_eff, \n",
    "                      q_mu_x, q_Sigma_x, Sigma_infty, mu_infty, Ez, z_sample)\n",
    "    )\n",
    "    \n",
    "    # Update z, now including the dynamics potential\n",
    "    # TODO: Should really include the covariance of x in this update too\n",
    "    z_dyn_potential = np.column_stack(\n",
    "        [multivariate_normal_logpdf(Ex[1:], Ex[:-1] @ A.T + b, Q) \n",
    "         for A, b, Q in zip(As_eff, bs_eff, Qs_eff)])\n",
    "    z_dyn_potential = np.row_stack((np.zeros(K), z_dyn_potential))\n",
    "    z_potential = log_qz - np.log(pz_infty) + z_dyn_potential\n",
    "    Ez, _, _ = hmm_expected_states(np.log(pz_infty), np.log(P)[None, :, :], z_potential)\n",
    "\n",
    "    print(\"MSE: \", np.mean((Ex[:,:D] - ae_latents[t])**2))"
   ]
  },
  {
   "cell_type": "code",
   "execution_count": 49,
   "metadata": {},
   "outputs": [
    {
     "data": {
      "text/plain": [
       "[<matplotlib.lines.Line2D at 0x7fa917a267f0>]"
      ]
     },
     "execution_count": 49,
     "metadata": {},
     "output_type": "execute_result"
    },
    {
     "data": {
      "image/png": "[encoded data removed]",
      "text/plain": [
       "<Figure size 432x288 with 1 Axes>"
      ]
     },
     "metadata": {
      "needs_background": "light"
     },
     "output_type": "display_data"
    }
   ],
   "source": [
    "plt.plot(Ex[:,1])\n",
    "plt.plot(ae_latents[t][:,1])"
   ]
  },
  {
   "cell_type": "code",
   "execution_count": null,
   "metadata": {},
   "outputs": [],
   "source": []
  }
 ],
 "metadata": {
  "kernelspec": {
   "display_name": "behavenet",
   "language": "python",
   "name": "behavenet"
  },
  "language_info": {
   "codemirror_mode": {
    "name": "ipython",
    "version": 3
   },
   "file_extension": ".py",
   "mimetype": "text/x-python",
   "name": "python",
   "nbconvert_exporter": "python",
   "pygments_lexer": "ipython3",
   "version": "3.7.2"
  }
 },
 "nbformat": 4,
 "nbformat_minor": 2
}
