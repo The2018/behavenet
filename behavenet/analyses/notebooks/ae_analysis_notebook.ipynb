{
 "cells": [
  {
   "cell_type": "code",
   "execution_count": 1,
   "metadata": {},
   "outputs": [],
   "source": [
    "import os\n",
    "import pandas as pd\n",
    "import seaborn as sns\n",
    "import numpy as np\n",
    "import matplotlib\n",
    "import matplotlib.pyplot as plt\n",
    "from behavenet.fitting.utils import get_expt_dir\n",
    "from behavenet.fitting.utils import get_output_session_dir\n",
    "from behavenet.fitting.utils import get_best_model_version\n",
    "from behavenet.fitting.utils import get_lab_example\n",
    "\n",
    "results_dir = '/home/mattw/results/behavenet_figs/musall_ae-dim-test'\n",
    "save_outputs = True"
   ]
  },
  {
   "cell_type": "markdown",
   "metadata": {},
   "source": [
    "# 1. Plot train/val losses as a function of epochs"
   ]
  },
  {
   "cell_type": "markdown",
   "metadata": {},
   "source": [
    "### load results"
   ]
  },
  {
   "cell_type": "code",
   "execution_count": 3,
   "metadata": {},
   "outputs": [],
   "source": [
    "hparams = {\n",
    "    'data_dir': '/media/mattw/data',  # might be a different path than what is saved in hparams\n",
    "    'tt_save_path': '/home/mattw/results/behavenet',\n",
    "    'experiment_name': 'best',\n",
    "    'model_class': 'ae'}\n",
    "labs = ['musall'] #['steinmetz', 'steinmetz-face', 'musall', 'datta']\n",
    "model_types = ['conv'] #['conv', 'linear']\n",
    "\n",
    "metrics_df = []\n",
    "for lab in labs:\n",
    "    get_lab_example(hparams, lab)\n",
    "    if lab == 'steinmetz':\n",
    "        hparams['n_ae_latents'] = 16\n",
    "        hparams['expt'] = '8-probe'\n",
    "        hparams['animal'] = 'mouse-01'\n",
    "        hparams['session'] = 'session-01'\n",
    "    for model_type in model_types:\n",
    "        hparams['model_type'] = model_type    \n",
    "        hparams['session_dir'], _ = get_output_session_dir(hparams)\n",
    "        expt_dir = get_expt_dir(hparams)\n",
    "        model_version = get_best_model_version(expt_dir)\n",
    "        metric_file = os.path.join(expt_dir, model_version[0], 'metrics.csv')\n",
    "        metrics = pd.read_csv(metric_file)\n",
    "        for i, row in metrics.iterrows():\n",
    "            metrics_df.append(pd.DataFrame({\n",
    "                'epoch': row['epoch'],\n",
    "                'loss': row['val_loss'],\n",
    "                'dtype': 'val',\n",
    "                'model_type': model_type,\n",
    "                'data': lab\n",
    "            }, index=[0]))\n",
    "            metrics_df.append(pd.DataFrame({\n",
    "                'epoch': row['epoch'],\n",
    "                'loss': row['tr_loss'],\n",
    "                'dtype': 'train',\n",
    "                'model_type': model_type,\n",
    "                'data': lab\n",
    "            }, index=[0]))\n",
    "            if 'test_loss' in row:\n",
    "                metrics_df.append(pd.DataFrame({\n",
    "                    'epoch': row['epoch'],\n",
    "                    'loss': row['test_loss'],\n",
    "                    'dtype': 'test',\n",
    "                    'model_type': model_type,\n",
    "                    'data': lab\n",
    "                }, index=[0]))\n",
    "metrics_df = pd.concat(metrics_df)    "
   ]
  },
  {
   "cell_type": "markdown",
   "metadata": {},
   "source": [
    "### plot conv vs linear validation loss as a function of training epoch"
   ]
  },
  {
   "cell_type": "code",
   "execution_count": 4,
   "metadata": {
    "scrolled": true
   },
   "outputs": [
    {
     "data": {
      "image/png": "[encoded data removed]",
      "text/plain": [
       "<Figure size 504.9x360 with 1 Axes>"
      ]
     },
     "metadata": {},
     "output_type": "display_data"
    }
   ],
   "source": [
    "sns.set_style('white')\n",
    "sns.set_context('talk')\n",
    "\n",
    "# data_queried = metrics[~pd.notna(metrics.test_loss)]\n",
    "# lab = 'steinmetz'\n",
    "data_queried = metrics_df[\n",
    "    (metrics_df.dtype=='val') & \n",
    "    (metrics_df.epoch>0) & \n",
    "    (metrics_df.data==lab)]\n",
    "\n",
    "y_axis = 'loss' # 'test_loss' | 'test_r2'\n",
    "plot_type = 'line'\n",
    "hue = 'model_type'\n",
    "x_axis = 'epoch' # 'layers' | 'layer_size' | 'pred' | 'lags'\n",
    "\n",
    "if len(data_queried.data.unique()) > 1:\n",
    "    col = 'data'\n",
    "    col_wrap = 2\n",
    "    splt = sns.relplot(\n",
    "        x=x_axis, y=y_axis, hue=hue, kind=plot_type, col=col, col_wrap=2,\n",
    "        data=data_queried)\n",
    "    for i, ax in enumerate(splt.axes):\n",
    "        ax[0].set_yscale('log')\n",
    "        if i == 0:\n",
    "            ax[0].set_ylabel('MSE per pixel')\n",
    "else:\n",
    "    splt = sns.relplot(\n",
    "        x=x_axis, y=y_axis, hue=hue, kind=plot_type, data=data_queried)\n",
    "    splt.ax.set_yscale('log')\n",
    "    splt.ax.set_ylabel('MSE per pixel')\n",
    "#     splt.ax.get_yaxis().set_major_formatter(matplotlib.ticker.ScalarFormatter())\n",
    "#     splt.ax.ticklabel_format(axis='y', style='sci', scilimits=(1, 2))  # (1, 2) a hack\n",
    "#     splt._legend.set_title('Model\\ntype')\n",
    "    \n",
    "if save_outputs:\n",
    "    save_file = os.path.join(\n",
    "        results_dir, str('%s_%02i_dim_val_losses' % (lab, hparams['n_ae_latents'])))\n",
    "else:\n",
    "    save_file = None\n",
    "    \n",
    "if save_file is not None:\n",
    "    plt.savefig(save_file + '.jpg', dpi=300, format='jpeg')   \n",
    "    \n",
    "plt.show()"
   ]
  },
  {
   "cell_type": "markdown",
   "metadata": {},
   "source": [
    "### plot conv vs linear test losses"
   ]
  },
  {
   "cell_type": "code",
   "execution_count": null,
   "metadata": {},
   "outputs": [],
   "source": [
    "sns.set_style('white')\n",
    "sns.set_context('talk')\n",
    "\n",
    "data_queried = metrics_df[metrics_df.dtype=='test']\n",
    "y_axis = 'loss'\n",
    "plot_type = 'bar'  # 'bar' | 'box' | 'boxen'\n",
    "hue = 'model_type'\n",
    "x_axis = 'data'\n",
    "\n",
    "splt = sns.catplot(\n",
    "    x=x_axis, y=y_axis, hue=hue, kind=plot_type, data=data_queried)\n",
    "\n",
    "plt.ylabel('MSE per pixel')\n",
    "plt.xlabel('')\n",
    "splt.ax.set_xticklabels(data_queried.data.unique(), rotation=45, ha='right')\n",
    "splt.ax.set_yscale('log')\n",
    "splt.ax.set_yticks([3e-3, 1e-3, 3e-4, 1e-4])\n",
    "splt.ax.get_yaxis().set_major_formatter(matplotlib.ticker.ScalarFormatter())\n",
    "splt.ax.ticklabel_format(axis='y', style='sci', scilimits=(1, 2))  # (1, 2) a hack\n",
    "splt._legend.set_title('Model type')\n",
    "\n",
    "if save_outputs:\n",
    "    save_file = os.path.join(results_dir, 'all_ae_test_losses')\n",
    "    if save_file is not None:\n",
    "        plt.savefig(save_file + '.jpg', dpi=300, format='jpeg')\n",
    "else:\n",
    "    save_file = None\n",
    "    \n",
    "plt.show()"
   ]
  },
  {
   "cell_type": "markdown",
   "metadata": {},
   "source": [
    "# 2. Plot test losses as a function of latents (TODO)"
   ]
  },
  {
   "cell_type": "markdown",
   "metadata": {},
   "source": [
    "### load results"
   ]
  },
  {
   "cell_type": "code",
   "execution_count": null,
   "metadata": {},
   "outputs": [],
   "source": [
    "hparams['experiment_name'] = 'best'\n",
    "labs = ['musall']\n",
    "model_types = ['conv'] #, 'linear']\n",
    "# n_latents = [4, 8, 12, 16, 24, 64]\n",
    "n_latents = [3, 6, 9, 12]\n",
    "\n",
    "metrics_df = []\n",
    "for lab in labs:\n",
    "    get_lab_example(hparams, lab)\n",
    "    for model_type in model_types:\n",
    "        hparams['model_type'] = model_type\n",
    "        for n_ae_latents in n_latents:\n",
    "            hparams['n_ae_latents'] = n_ae_latents\n",
    "            expt_dir = get_expt_dir(hparams)\n",
    "            model_version = get_best_model_version(expt_dir)\n",
    "            metric_file = os.path.join(expt_dir, model_version[0], 'metrics.csv')\n",
    "            metrics = pd.read_csv(metric_file)\n",
    "            for i, row in metrics.iterrows():\n",
    "                metrics_df.append(pd.DataFrame({\n",
    "                    'epoch': row['epoch'],\n",
    "                    'loss': row['val_loss'],\n",
    "                    'n_latents': n_ae_latents,\n",
    "                    'dtype': 'val',\n",
    "                    'model_type': model_type,\n",
    "                    'data': lab\n",
    "                }, index=[0]))\n",
    "                metrics_df.append(pd.DataFrame({\n",
    "                    'epoch': row['epoch'],use_output_mask\n",
    "                    'loss': row['tr_loss'],\n",
    "                    'n_latents': n_ae_latents,\n",
    "                    'dtype': 'train',\n",
    "                    'model_type': model_type,\n",
    "                    'data': lab\n",
    "                }, index=[0]))\n",
    "                if 'test_loss' in row:\n",
    "                    metrics_df.append(pd.DataFrame({\n",
    "                        'epoch': row['epoch'],\n",
    "                        'loss': row['test_loss'],\n",
    "                        'n_latents': n_ae_latents,\n",
    "                        'dtype': 'test',\n",
    "                        'model_type': model_type,\n",
    "                        'data': lab\n",
    "                    }, index=[0]))\n",
    "metrics_df = pd.concat(metrics_df)    "
   ]
  },
  {
   "cell_type": "markdown",
   "metadata": {},
   "source": [
    "### plot conv vs ae test losses as a function of latents"
   ]
  },
  {
   "cell_type": "code",
   "execution_count": null,
   "metadata": {},
   "outputs": [],
   "source": [
    "# data_queried = metrics[~pd.notna(metrics.test_loss)]\n",
    "data_queried = metrics_df[metrics_df.dtype=='test']\n",
    "y_axis = 'loss' # 'test_loss' | 'test_r2'\n",
    "plot_type = 'line'\n",
    "hue = 'model_type'\n",
    "x_axis = 'n_latents' # 'layers' | 'layer_size' | 'pred' | 'lags'\n",
    "\n",
    "splt = sns.relplot(\n",
    "    x=x_axis, y=y_axis, hue=hue, kind=plot_type, data=data_queried)\n",
    "for i, ax in enumerate(splt.axes):\n",
    "    ax[0].set_yscale('log')\n",
    "    if i == 0:\n",
    "        ax[0].set_ylabel('MSE per pixel')"
   ]
  },
  {
   "cell_type": "markdown",
   "metadata": {},
   "source": [
    "# 3. Make reconstruction movies"
   ]
  },
  {
   "cell_type": "code",
   "execution_count": 6,
   "metadata": {
    "scrolled": true
   },
   "outputs": [],
   "source": [
    "from behavenet.analyses.ae_utils import make_ae_reconstruction_movie\n",
    "from behavenet.fitting.utils import get_lab_example, get_output_session_dir, get_expt_dir\n",
    "from behavenet.data.utils import get_data_generator_inputs\n",
    "from behavenet.data.data_generator import ConcatSessionsGenerator\n",
    "\n",
    "save_outputs = True\n",
    "include_linear = False\n",
    "version = 'best'\n",
    "hparams = {\n",
    "    'data_dir': '/media/mattw/data',  # might be a different path than what is saved in hparams\n",
    "    'tt_save_path': '/home/mattw/results/behavenet',\n",
    "    'experiment_name': 'ae-dim-test',\n",
    "    'lin_experiment_name': 'test_pt',\n",
    "    'model_class': 'ae',\n",
    "    'model_type': 'conv'}\n",
    "\n",
    "labs = ['musall'] #, 'steinmetz-face', 'musall', 'datta']\n",
    "\n",
    "for lab in labs:\n",
    "    get_lab_example(hparams, lab)\n",
    "    if lab == 'steinmetz':\n",
    "        hparams['n_ae_latents'] = 3\n",
    "    elif lab == 'musall':\n",
    "        hparams['n_ae_latents'] = 16\n",
    "    hparams['frame_rate'] = 15\n",
    "    \n",
    "    hparams['session_dir'], sess_ids = get_output_session_dir(hparams)\n",
    "    hparams['expt_dir'] = get_expt_dir(hparams)\n",
    "    hparams, signals, transforms, paths = get_data_generator_inputs(hparams, sess_ids)\n",
    "    data_generator = ConcatSessionsGenerator(\n",
    "        hparams['data_dir'], sess_ids, \n",
    "        signals_list=signals, transforms_list=transforms, paths_list=paths,\n",
    "        device='cpu', as_numpy=False, batch_load=True, rng_seed=0)\n",
    "\n",
    "    trial = data_generator.datasets[0].batch_indxs['test'][0]  # 4 good for all lab ex\n",
    "\n",
    "    save_file = os.path.join(\n",
    "        results_dir, str('%s_%02i_dim_recon_ae' % (lab, hparams['n_ae_latents'])))\n",
    "\n",
    "    make_ae_reconstruction_movie(\n",
    "        hparams, version=version, save_file=save_file, include_linear=include_linear,\n",
    "        trial=trial)"
   ]
  }
 ],
 "metadata": {
  "kernelspec": {
   "display_name": "behavenet",
   "language": "python",
   "name": "behavenet"
  },
  "language_info": {
   "codemirror_mode": {
    "name": "ipython",
    "version": 3
   },
   "file_extension": ".py",
   "mimetype": "text/x-python",
   "name": "python",
   "nbconvert_exporter": "python",
   "pygments_lexer": "ipython3",
   "version": "3.7.2"
  }
 },
 "nbformat": 4,
 "nbformat_minor": 2
}
