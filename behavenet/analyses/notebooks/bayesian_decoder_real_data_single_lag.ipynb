{
 "cells": [
  {
   "cell_type": "code",
   "execution_count": 18,
   "metadata": {},
   "outputs": [],
   "source": [
    "import numpy as np\n",
    "import matplotlib.pyplot as plt\n",
    "from matplotlib.gridspec import GridSpec\n",
    "%matplotlib inline\n",
    "from sklearn.linear_model import LogisticRegression, LinearRegression\n",
    "import pickle\n",
    "from ssm.stats import multivariate_normal_logpdf\n",
    "from ssm.primitives import hmm_expected_states, hmm_sample\n",
    "from pylds.lds_messages_interface import info_E_step\n",
    "from behavenet.fitting.utils import build_data_generator, create_tt_experiment\n",
    "from behavenet.fitting.utils import add_lab_defaults_to_parser, get_output_session_dir, get_expt_dir\n",
    "from test_tube import HyperOptArgumentParser\n",
    "from behavenet.fitting.decoding_grid_search import get_decoding_params"
   ]
  },
  {
   "cell_type": "code",
   "execution_count": 19,
   "metadata": {},
   "outputs": [],
   "source": [
    "def get_params(strategy, args):\n",
    "\n",
    "    parser = HyperOptArgumentParser(strategy)\n",
    "\n",
    "    # most important arguments\n",
    "    parser.add_argument('--search_type', type=str)  # grid_search, test\n",
    "    parser.add_argument('--lab_example', type=str)  # musall, steinmetz, datta\n",
    "    parser.add_argument('--tt_save_path', type=str)\n",
    "    parser.add_argument('--data_dir', type=str)\n",
    "    parser.add_argument('--model_type', default='ff', choices=['ff', 'ff-mv', 'linear', 'linear-mv', 'lstm'], type=str)\n",
    "    parser.add_argument('--model_class', default='neural-ae', choices=['neural-ae', 'neural-arhmm', 'ae-neural', 'arhmm-neural'], type=str)\n",
    "    parser.add_argument('--sessions_csv', default='', type=str, help='specify multiple sessions')\n",
    "\n",
    "    # arguments for computing resources (infer n_gpu_workers from visible gpus)\n",
    "    parser.add_argument('--tt_n_gpu_trials', default=1000, type=int)\n",
    "    parser.add_argument('--tt_n_cpu_trials', default=100000, type=int)\n",
    "    parser.add_argument('--tt_n_cpu_workers', default=5, type=int)\n",
    "    parser.add_argument('--mem_limit_gb', default=8.0, type=float)\n",
    "    parser.add_argument('--gpus_viz', default='0;1', type=str)\n",
    "\n",
    "    # add data generator arguments\n",
    "    parser.add_argument('--reg_list', default='none', type=str, choices=['none', 'arg', 'all'])\n",
    "    parser.add_argument('--subsample_regions', default='none', choices=['none', 'single', 'loo'])\n",
    "    parser.add_argument('--device', default='cuda', type=str)\n",
    "    parser.add_argument('--as_numpy', action='store_true', default=False)\n",
    "    parser.add_argument('--batch_load', action='store_true', default=False)\n",
    "    parser.add_argument('--rng_seed', default=0, type=int)\n",
    "\n",
    "    # add fitting arguments\n",
    "    parser.add_argument('--val_check_interval', default=1)\n",
    "\n",
    "    # get lab-specific arguments\n",
    "    namespace, extra = parser.parse_known_args(args)\n",
    "    add_lab_defaults_to_parser(parser, namespace.lab_example)\n",
    "    namespace, extra = parser.parse_known_args(args)  # ugly\n",
    "\n",
    "    # add regions to opt_list if desired\n",
    "    if namespace.reg_list == 'all':\n",
    "        parser.opt_list('--region', options=get_region_list(namespace), type=str, tunable=True)\n",
    "    elif namespace.reg_list == 'arg':\n",
    "        parser.add_argument('--region', default='all', type=str)\n",
    "    elif namespace.reg_list == 'none':  # TODO: fix this ambiguity\n",
    "        parser.add_argument('--region', default='all', type=str)\n",
    "    else:\n",
    "        raise ValueError(\n",
    "            '\"%s\" is not a valid region_list' % namespace.region_list)\n",
    "\n",
    "    get_decoding_params(namespace, parser)\n",
    "\n",
    "    return parser.parse_args(args)"
   ]
  },
  {
   "cell_type": "code",
   "execution_count": 22,
   "metadata": {},
   "outputs": [
    {
     "name": "stdout",
     "output_type": "stream",
     "text": [
      "using data from following sessions:\n",
      "/media/gssda/behavenet/results/musall/vistrained/mSM36/05-Dec-2017\n",
      "constructing data generator...done\n",
      "Generator contains 1 SingleSessionDataset objects:\n",
      "\tsignals: ['neural', 'ae_latents']\n",
      "\ttransforms: [Compose(SelectIndxs(sample_name=ACAd1-single), ZScore()), None]\n",
      "\tpaths: ['/media/gssda/behavenet/data/musall/vistrained/mSM36/05-Dec-2017/data.hdf5', '/media/gssda/behavenet/results/musall/vistrained/mSM36/multisession-00/ae/conv/08_latents/ae-dim-test/version_1/latents.pkl']\n",
      "\n",
      "\n"
     ]
    }
   ],
   "source": [
    "command_line_arg = '--search_type test --lab_example musall --animal mSM36 --session 05-Dec-2017 --tt_save_path /media/gssda/behavenet/results/ --data_dir /media/gssda/behavenet/data/  --model_type ff --model_class neural-ae --experiment_name grid_search --export_predictions --ae_experiment_name ae-dim-test --ae_model_type conv --n_ae_latents 8 --min_n_epochs 10 --max_n_epochs 500 --device cpu --n_lags 4 --l2_reg 1e-4 --n_hid_layers 3 --ae_multisession 0 --subsample_regions single --region ACAd1'\n",
    "hparams = get_params('grid_search', command_line_arg.split(' '))\n",
    "hparams = vars(hparams)\n",
    "hparams.pop('trials', False)\n",
    "hparams.pop('generate_trials', False)\n",
    "hparams.pop('optimize_parallel', False)\n",
    "hparams.pop('optimize_parallel_cpu', False)\n",
    "hparams.pop('optimize_parallel_gpu', False)\n",
    "hparams.pop('optimize_trials_parallel_gpu', False)\n",
    "\n",
    "# create test-tube experiment\n",
    "#hparams, sess_ids, exp = create_tt_experiment(hparams)\n",
    "hparams['session_dir'], sess_ids = get_output_session_dir(hparams)\n",
    "hparams['expt_dir'] = 'temp/'\n",
    "hparams['version'] = 0\n",
    "# build data generator\n",
    "ae_data_generator = build_data_generator(hparams, sess_ids)\n"
   ]
  },
  {
   "cell_type": "code",
   "execution_count": null,
   "metadata": {},
   "outputs": [],
   "source": []
  },
  {
   "cell_type": "code",
   "execution_count": 6,
   "metadata": {},
   "outputs": [],
   "source": [
    "rr = ae_data_generator.next_batch('train')"
   ]
  },
  {
   "cell_type": "code",
   "execution_count": 7,
   "metadata": {},
   "outputs": [
    {
     "data": {
      "text/plain": [
       "torch.Size([1, 189, 258])"
      ]
     },
     "execution_count": 7,
     "metadata": {},
     "output_type": "execute_result"
    }
   ],
   "source": [
    "rr[0]['neural'].shape\n"
   ]
  },
  {
   "cell_type": "code",
   "execution_count": 11,
   "metadata": {},
   "outputs": [
    {
     "data": {
      "text/plain": [
       "({'neural': tensor([[[ 0.3500, -1.3121,  0.9094,  ...,  1.7364,  1.1408,  1.0782],\n",
       "           [-1.5193, -0.9362,  0.3275,  ..., -0.0321,  0.7345,  0.4263],\n",
       "           [-0.3199, -1.9528,  0.1025,  ...,  3.3824,  1.6715,  1.3395],\n",
       "           ...,\n",
       "           [-0.1495,  0.8736,  0.6019,  ...,  0.4206, -0.7944, -0.1859],\n",
       "           [-0.1188,  0.7206, -0.3846,  ...,  0.3049, -1.2505, -1.8638],\n",
       "           [ 0.5063,  0.5157, -0.2403,  ...,  1.5850, -1.7116,  0.1606]]]),\n",
       "  'ae_latents': tensor([[[-0.8534,  2.6596, -0.2785,  ..., -2.0498, -0.5763,  2.2216],\n",
       "           [-0.7799,  1.4893,  0.7264,  ..., -1.9227, -1.5940,  1.6035],\n",
       "           [-1.2754,  2.4082,  0.3770,  ..., -2.0522, -1.3287,  1.9214],\n",
       "           ...,\n",
       "           [ 2.3841,  1.3292, -0.3537,  ..., -1.7948,  0.8444, -0.4419],\n",
       "           [ 2.6230,  0.9644, -0.1626,  ..., -1.2334,  0.9186, -0.6382],\n",
       "           [ 2.3687,  0.7670,  0.7165,  ..., -0.4218,  1.0186, -0.5224]]]),\n",
       "  'batch_indx': tensor([19])},\n",
       " 0)"
      ]
     },
     "execution_count": 11,
     "metadata": {},
     "output_type": "execute_result"
    }
   ],
   "source": [
    "rr"
   ]
  },
  {
   "cell_type": "code",
   "execution_count": 24,
   "metadata": {},
   "outputs": [
    {
     "data": {
      "text/plain": [
       "(-4, 3)"
      ]
     },
     "execution_count": 24,
     "metadata": {},
     "output_type": "execute_result"
    },
    {
     "data": {
      "image/png": "[encoded data removed]",
      "text/plain": [
       "<Figure size 432x288 with 1 Axes>"
      ]
     },
     "metadata": {
      "needs_background": "light"
     },
     "output_type": "display_data"
    }
   ],
   "source": [
    "plt.plot(ae_data_generator.datasets[0][19]['neural'][:,10].cpu().detach().numpy());\n",
    "plt.ylim([-4,3])"
   ]
  },
  {
   "cell_type": "code",
   "execution_count": 7,
   "metadata": {},
   "outputs": [],
   "source": [
    "from behavenet.data.utils import get_region_list\n",
    "ll = get_region_list(hparams)"
   ]
  },
  {
   "cell_type": "code",
   "execution_count": 49,
   "metadata": {},
   "outputs": [
    {
     "data": {
      "text/plain": [
       "[(15,),\n",
       " (11,),\n",
       " (18,),\n",
       " (23,),\n",
       " (13,),\n",
       " (28,),\n",
       " (14,),\n",
       " (26,),\n",
       " (45,),\n",
       " (14,),\n",
       " (6,),\n",
       " (45,)]"
      ]
     },
     "execution_count": 49,
     "metadata": {},
     "output_type": "execute_result"
    }
   ],
   "source": [
    "[i.shape for i in ll.values()]"
   ]
  },
  {
   "cell_type": "code",
   "execution_count": 51,
   "metadata": {},
   "outputs": [
    {
     "data": {
      "text/plain": [
       "dict_keys(['ACAd1', 'AUD', 'FRP1', 'MOB', 'MOp', 'MOs', 'PL1', 'RSP', 'SSp', 'SSs1', 'TEa1', 'VIS'])"
      ]
     },
     "execution_count": 51,
     "metadata": {},
     "output_type": "execute_result"
    }
   ],
   "source": [
    "ll.keys()"
   ]
  },
  {
   "cell_type": "code",
   "execution_count": 50,
   "metadata": {},
   "outputs": [
    {
     "data": {
      "text/plain": [
       "258"
      ]
     },
     "execution_count": 50,
     "metadata": {},
     "output_type": "execute_result"
    }
   ],
   "source": [
    "15+11+18+23+13+28+14+26+45+14+6+45"
   ]
  },
  {
   "cell_type": "code",
   "execution_count": 4,
   "metadata": {},
   "outputs": [],
   "source": [
    "# command_line_arg = '--search_type test --lab_example musall --animal mSM36 --session 05-Dec-2017 --tt_save_path /media/gssda/behavenet/results/ --data_dir /media/gssda/behavenet/data/ --model_type ff --model_class neural-arhmm --experiment_name grid_search --n_ae_latents 8 --arhmm_experiment_name grid_search --n_arhmm_states 8 --kappa 0 --noise_type gaussian --min_n_epochs 10 --max_n_epochs 500 --n_lags 4 --l2_reg 1e-4 --n_hid_layers 1 --arhmm_multisession 0 --device cpu'\n",
    "# hparams = get_params('grid_search', command_line_arg.split(' '))\n",
    "# hparams = vars(hparams)\n",
    "# hparams.pop('trials', False)\n",
    "# hparams.pop('generate_trials', False)\n",
    "# hparams.pop('optimize_parallel', False)\n",
    "# hparams.pop('optimize_parallel_cpu', False)\n",
    "# hparams.pop('optimize_parallel_gpu', False)\n",
    "# hparams.pop('optimize_trials_parallel_gpu', False)\n",
    "\n",
    "# # create test-tube experiment\n",
    "# #hparams, sess_ids, exp = create_tt_experiment(hparams)\n",
    "# hparams['session_dir'], sess_ids = get_output_session_dir(hparams)\n",
    "# hparams['expt_dir'] = 'temp/'\n",
    "# hparams['version'] = 0\n",
    "# # build data generator\n",
    "# arhmm_data_generator = build_data_generator(hparams, sess_ids)\n"
   ]
  },
  {
   "cell_type": "code",
   "execution_count": 5,
   "metadata": {},
   "outputs": [],
   "source": [
    "# N = 545\n",
    "# K = 8\n",
    "\n",
    "# ae_neural = [None for i in range(N)]\n",
    "# ae_latents = [None for i in range(N)]\n",
    "# arhmm_neural = [None for i in range(N)]\n",
    "# arhmm_states = [None for i in range(N)]\n",
    "\n",
    "# for ii in range(ae_data_generator.n_tot_batches['train']):\n",
    "#     ae_data, _ = ae_data_generator.next_batch('train')\n",
    "#     arhmm_data, _ = arhmm_data_generator.next_batch('train')\n",
    "    \n",
    "#     ae_neural[ae_data['batch_indx'].item()] = ae_data['neural'].cpu().detach().numpy().squeeze()\n",
    "#     ae_latents[ae_data['batch_indx'].item()] = ae_data['ae_latents'].cpu().detach().numpy().squeeze()\n",
    "    \n",
    "#     arhmm_neural[arhmm_data['batch_indx'].item()] = arhmm_data['neural'].cpu().detach().numpy().squeeze()\n",
    "#     arhmm_states[arhmm_data['batch_indx'].item()] = arhmm_data['arhmm_states'].cpu().detach().numpy().squeeze()\n",
    "    \n",
    "# neural = [v for v in ae_neural if v is not None]\n",
    "# xs = [v for v in ae_latents if v is not None]\n",
    "# zs = [v for v in arhmm_states if v is not None]\n"
   ]
  },
  {
   "cell_type": "code",
   "execution_count": 6,
   "metadata": {},
   "outputs": [],
   "source": [
    "#np.savez('arhmm_decoding_data.npz',neural=neural, latents=xs, states=zs)"
   ]
  },
  {
   "cell_type": "code",
   "execution_count": 7,
   "metadata": {},
   "outputs": [],
   "source": [
    "data = np.load('arhmm_decoding_data.npz')\n",
    "neural = data['neural']\n",
    "xs = data['latents']\n",
    "zs = data['states']"
   ]
  },
  {
   "cell_type": "code",
   "execution_count": 8,
   "metadata": {},
   "outputs": [],
   "source": [
    "# Have to lag the neural activity for each batch\n",
    "\n",
    "W = 8\n",
    "N = neural[0].shape[1]\n",
    "\n",
    "ns_window = [_ for i in range(len(neural))]\n",
    "for i in range(len(neural)):\n",
    "    T = neural[i].shape[0]\n",
    "    neural_pad = np.concatenate([np.zeros((W//2, N)), neural[i], np.zeros((W//2, N))])\n",
    "    ns_window[i] = np.column_stack([neural_pad[w:T+w] for w in range(W)] )\n"
   ]
  },
  {
   "cell_type": "code",
   "execution_count": 28,
   "metadata": {},
   "outputs": [
    {
     "data": {
      "text/plain": [
       "(10000, 2064)"
      ]
     },
     "execution_count": 28,
     "metadata": {},
     "output_type": "execute_result"
    }
   ],
   "source": [
    "ns_window_flat.shape"
   ]
  },
  {
   "cell_type": "code",
   "execution_count": 9,
   "metadata": {},
   "outputs": [],
   "source": [
    "# Concatente into sequences, take only part for now\n",
    "T=10000\n",
    "ns_window_flat =np.concatenate(ns_window,axis=0)[:T]\n",
    "zs_flat = np.concatenate(zs,axis=0)[:T]\n",
    "xs_flat = np.concatenate(xs,axis=0)[:T]"
   ]
  },
  {
   "cell_type": "code",
   "execution_count": 10,
   "metadata": {},
   "outputs": [
    {
     "name": "stderr",
     "output_type": "stream",
     "text": [
      "/Users/scott/miniconda/lib/python3.7/site-packages/sklearn/linear_model/logistic.py:469: FutureWarning: Default multi_class will be changed to 'auto' in 0.22. Specify the multi_class option to silence this warning.\n",
      "  \"this warning.\", FutureWarning)\n"
     ]
    },
    {
     "data": {
      "text/plain": [
       "LogisticRegression(C=1.0, class_weight=None, dual=False, fit_intercept=True,\n",
       "                   intercept_scaling=1, l1_ratio=None, max_iter=1000,\n",
       "                   multi_class='warn', n_jobs=None, penalty='l2',\n",
       "                   random_state=None, solver='lbfgs', tol=0.0001, verbose=0,\n",
       "                   warm_start=False)"
      ]
     },
     "execution_count": 10,
     "metadata": {},
     "output_type": "execute_result"
    }
   ],
   "source": [
    "# Logistic regression\n",
    "\n",
    "recog_z = LogisticRegression(solver='lbfgs', max_iter=1000)\n",
    "recog_z.fit(ns_window_flat, zs_flat)\n"
   ]
  },
  {
   "cell_type": "code",
   "execution_count": 11,
   "metadata": {},
   "outputs": [
    {
     "data": {
      "text/plain": [
       "LinearRegression(copy_X=True, fit_intercept=True, n_jobs=None, normalize=False)"
      ]
     },
     "execution_count": 11,
     "metadata": {},
     "output_type": "execute_result"
    }
   ],
   "source": [
    "# Linear regression\n",
    "\n",
    "recog_x = LinearRegression()\n",
    "recog_x.fit(ns_window_flat, xs_flat)\n"
   ]
  },
  {
   "cell_type": "code",
   "execution_count": null,
   "metadata": {},
   "outputs": [],
   "source": [
    "# Load in ARHMM model and get parameters\n",
    "D=8\n",
    "arhmm_model = pickle.load(open('best_val_model.pt','rb'))\n",
    "\n",
    "K = arhmm_model.K\n",
    "P = arhmm_model.transitions.transition_matrix\n",
    "As = arhmm_model.observations.As\n",
    "bs = arhmm_model.observations.bs\n",
    "Qs = arhmm_model.observations.Sigmas\n",
    "\n",
    "evals, evecs = np.linalg.eig(P.T)\n",
    "perm = np.argsort(evals)[::-1]\n",
    "evals, evecs = evals[perm], evecs[:, perm]\n",
    "assert np.allclose(evals[0], 1.0)\n",
    "if np.any(evecs[:,0] <= 0):\n",
    "    evecs[:,0] = -1*evecs[:,0]\n",
    "assert np.all(evecs[:,0] >= 0) \n",
    "pz_infty = np.real(evecs[:, 0] / evecs[:, 0].sum())"
   ]
  },
  {
   "cell_type": "code",
   "execution_count": 91,
   "metadata": {},
   "outputs": [],
   "source": [
    "mu_infty = np.zeros((K, D))\n",
    "Sigma_infty = np.zeros((K, D, D))\n",
    "for k in range(K):\n",
    "    mu_infty[k] = np.mean(xs_flat[zs_flat == k],axis=0)\n",
    "#     Sigma_infty[k] = np.cov(training_ae[training_arhmm == k].T)\n",
    "    Sigma_infty[k] = np.cov(xs_flat.T)\n",
    "    \n",
    "mu0 = np.zeros(D)\n",
    "Sigma0 = np.eye(D)"
   ]
  },
  {
   "cell_type": "code",
   "execution_count": 236,
   "metadata": {},
   "outputs": [],
   "source": [
    "# Use the information form.  It will generalize better to VI.\n",
    "from pylds.lds_messages_interface import info_E_step\n",
    "\n",
    "# Compute the info potentials for the initial condition\n",
    "def _info_params(mu0, Sigma0, As, bs, Qs, q_mu_x, q_Sigma_x, Sigma_infty, mu_infty, Ez, z_sample):\n",
    "    # parameter checking\n",
    "    T, K = Ez.shape\n",
    "    assert As.shape[0] == K and As.ndim == 3 and As.shape[1] == As.shape[2]\n",
    "    D = As.shape[1]\n",
    "    assert mu0.shape == (D,)\n",
    "    assert Sigma0.shape == (D, D)\n",
    "    assert bs.shape == (K, D)\n",
    "    assert Qs.shape == (K, D, D)\n",
    "    assert q_mu_x.shape == (T, D)\n",
    "    assert q_Sigma_x.shape == (D, D)\n",
    "    \n",
    "    # Make pseudo-inputs (all ones) for bias terms\n",
    "    inputs = np.ones((T, 1))\n",
    "    \n",
    "    # Convert initial distribution to info form\n",
    "    # (ignore normalizing constants)\n",
    "    J0 = np.linalg.inv(Sigma0)\n",
    "    h0 = J0 @ mu0\n",
    "    log_Z0 = 0\n",
    "\n",
    "    # Info dynamics parameters\n",
    "    J_pair_22 = np.linalg.inv(Qs)\n",
    "    J_pair_21 = -np.matmul(np.linalg.inv(Qs), As)\n",
    "    J_pair_11 = np.matmul(np.swapaxes(As, 1, 2), -J_pair_21)\n",
    "    mBTQiA = np.matmul(np.swapaxes(bs[:, :, None], 1, 2), J_pair_21)\n",
    "    BTQi = np.matmul(np.swapaxes(bs[:, :, None], 1, 2), J_pair_22)\n",
    "\n",
    "    # Get expected sufficient statistics by integrating over z\n",
    "    J_pair_22 = np.einsum('tk, kij -> tij', Ez[:-1], J_pair_22)\n",
    "    J_pair_21 = np.einsum('tk, kij -> tij', Ez[:-1], J_pair_21)\n",
    "    J_pair_11 = np.einsum('tk, kij -> tij', Ez[:-1], J_pair_11)\n",
    "    mBTQiA = np.einsum('tk, kij -> tij', Ez[:-1], mBTQiA)\n",
    "    BTQi = np.einsum('tk, kij -> tij', Ez[:-1], BTQi)\n",
    "    h_pair_1 = np.einsum('tu, tud -> td', inputs[:-1], mBTQiA)\n",
    "    h_pair_2 = np.einsum('tu, tud -> td', inputs[:-1], BTQi)\n",
    "    log_Z_pair = np.zeros(T-1)\n",
    "\n",
    "    # Info emission parameters\n",
    "    J_obs = (np.linalg.inv(q_Sigma_x) - np.linalg.inv(Sigma_infty))[z_sample]\n",
    "    assert np.all(np.linalg.eigvalsh(J_obs[0])) >= 0\n",
    "    h_recog = np.dot(np.linalg.inv(q_Sigma_x), q_mu_x.T).T\n",
    "    h_infty = np.linalg.solve(Sigma_infty, mu_infty)[z_sample]\n",
    "    h_obs = h_recog - h_infty\n",
    "    log_Z_obs = np.zeros(T)\n",
    "    \n",
    "    return J0, h0, log_Z0, \\\n",
    "           J_pair_11, J_pair_21, J_pair_22, h_pair_1, h_pair_2, log_Z_pair, \\\n",
    "           J_obs, h_obs, log_Z_obs\n"
   ]
  },
  {
   "cell_type": "code",
   "execution_count": 238,
   "metadata": {},
   "outputs": [],
   "source": [
    "# Initialize q(z) with just the learned recognition potential\n",
    "log_qzs = [recog_z.predict_log_proba(nsw) for nsw in ns_window]\n",
    "q_mu_xs = [recog_x.predict(nsw) for nsw in ns_window]"
   ]
  },
  {
   "cell_type": "code",
   "execution_count": 325,
   "metadata": {},
   "outputs": [],
   "source": [
    "# Get the covariance over all trials\n",
    "q_Sigma_x = 1.0 * np.cov((np.vstack(xs[:50]) - np.vstack(q_mu_xs[:50])).T)\n",
    "\n",
    "# Extract one trial's predictions\n",
    "t = 150 # which batch to use \n",
    "q_mu_x = q_mu_xs[t]\n",
    "log_qz = log_qzs[t]"
   ]
  },
  {
   "cell_type": "code",
   "execution_count": 352,
   "metadata": {},
   "outputs": [],
   "source": [
    "n_iter = 0\n",
    "\n",
    "# initialize z with only the recognition potential\n",
    "z_potential = log_qz - np.log(pz_infty)\n",
    "Ez, _, _ = hmm_expected_states(np.log(pz_infty), np.log(P)[None, :, :], z_potential)\n",
    "z_sample = hmm_sample(np.log(pz_infty), np.log(P)[None, :, :], z_potential)\n",
    "\n",
    "# get Ex for the initial z's\n",
    "args = _info_params(mu0, Sigma0, As, bs, Qs, \n",
    "                    q_mu_x, q_Sigma_x, Sigma_infty, mu_infty, Ez, z_sample)\n",
    "\n",
    "# J_obs, h_obs = args[-3], args[-2]\n",
    "# mu_obs = np.linalg.solve(J_obs, h_obs)\n",
    "\n",
    "_, Ex, Covx, _ = info_E_step(*args)\n",
    "stdx = np.sqrt(Covx[:, np.arange(D), np.arange(D)])"
   ]
  },
  {
   "cell_type": "code",
   "execution_count": 353,
   "metadata": {},
   "outputs": [
    {
     "data": {
      "text/plain": [
       "0.001569664395432347"
      ]
     },
     "execution_count": 353,
     "metadata": {},
     "output_type": "execute_result"
    }
   ],
   "source": [
    "Covx[:, np.arange(D), np.arange(D)].min()"
   ]
  },
  {
   "cell_type": "code",
   "execution_count": 346,
   "metadata": {
    "scrolled": true
   },
   "outputs": [],
   "source": [
    "for i in range(n_iter):\n",
    "    # Update z, now including the dynamics potential\n",
    "    # \n",
    "    # q(z) \\propto \\exp{ E_{q(x)} [log p(z, x)] }\n",
    "    # \n",
    "    # we want E_{q(x)} log p(x | z) but we're currently using log p(E_{q(x)}[x] | z)\n",
    "    \n",
    "    # TODO: Should really include the covariance of x in this update too\n",
    "    z_dyn_potential = np.column_stack(\n",
    "        [multivariate_normal_logpdf(Ex[1:], Ex[:-1] @ A.T + b, Q) \n",
    "         for A, b, Q in zip(As, bs, Qs)])\n",
    "    z_dyn_potential = np.row_stack((np.zeros(K), z_dyn_potential))\n",
    "    z_potential = log_qz - np.log(pz_infty) + z_dyn_potential\n",
    "    Ez, _, _ = hmm_expected_states(np.log(pz_infty), np.log(P)[None, :, :], z_potential)\n",
    "    z_sample = hmm_sample(np.log(pz_infty), np.log(P)[None, :, :], z_potential)\n",
    "    \n",
    "    # compute the expected value of x given z and the observation potential\n",
    "    _, Ex, _, _ = info_E_step(\n",
    "        *_info_params(mu0, Sigma0, As, bs, Qs, \n",
    "                      q_mu_x, q_Sigma_x, Sigma_infty, mu_infty, Ez, z_sample))\n",
    "\n",
    "    #print(np.unique(Ez))\n",
    "    print(\"MSE: \", np.mean((Ex[:,:D] - xs[t])**2))"
   ]
  },
  {
   "cell_type": "code",
   "execution_count": null,
   "metadata": {},
   "outputs": [],
   "source": [
    "# Compute the covariance of x"
   ]
  },
  {
   "cell_type": "code",
   "execution_count": 327,
   "metadata": {},
   "outputs": [
    {
     "name": "stdout",
     "output_type": "stream",
     "text": [
      "0.7090622393421787\n",
      "0.645238141137439\n"
     ]
    }
   ],
   "source": [
    "print(np.mean((q_mu_x - xs[t])**2))\n",
    "print(np.mean((Ex - xs[t])**2))"
   ]
  },
  {
   "cell_type": "code",
   "execution_count": 328,
   "metadata": {},
   "outputs": [],
   "source": [
    "sampled_observations = np.zeros((len(zs[t]),D))\n",
    "for i_t in range(len(zs[t])):\n",
    "    sampled_observations[i_t] = arhmm_model.observations.sample_x(np.argmax(Ez,axis=1)[i_t], sampled_observations[:i_t], input=[0], with_noise=False)\n",
    "    \n",
    "    "
   ]
  },
  {
   "cell_type": "code",
   "execution_count": 369,
   "metadata": {},
   "outputs": [],
   "source": [
    "Ez_behavior, _, _ = arhmm_model.expected_states(xs[t])"
   ]
  },
  {
   "cell_type": "code",
   "execution_count": 370,
   "metadata": {},
   "outputs": [
    {
     "data": {
      "text/plain": [
       "(189, 8)"
      ]
     },
     "execution_count": 370,
     "metadata": {},
     "output_type": "execute_result"
    }
   ],
   "source": [
    "Ez_behavior.shape"
   ]
  },
  {
   "cell_type": "code",
   "execution_count": 371,
   "metadata": {},
   "outputs": [
    {
     "data": {
      "text/plain": [
       "Text(0.5, 0, 'time')"
      ]
     },
     "execution_count": 371,
     "metadata": {},
     "output_type": "execute_result"
    },
    {
     "data": {
      "image/png": "[encoded data removed]",
      "text/plain": [
       "<Figure size 576x576 with 4 Axes>"
      ]
     },
     "metadata": {
      "needs_background": "light"
     },
     "output_type": "display_data"
    }
   ],
   "source": [
    "plt.figure(figsize=(8, 8))\n",
    "gs = GridSpec (4, 1, height_ratios=[1,1,1,1.5])\n",
    "\n",
    "plt.suptitle(\"Trial {}\".format(t))\n",
    "plt.subplot(gs[0])\n",
    "# plt.imshow((zs[t][:, None] == np.arange(K)).T, cmap=\"Greys\", aspect=\"auto\", vmin=0, vmax=1)\n",
    "plt.imshow(Ez_behavior.T, cmap=\"Greys\", aspect=\"auto\", vmin=0, vmax=1)\n",
    "plt.xticks([])\n",
    "plt.title(\"$z$ from behavioral data\")\n",
    "\n",
    "plt.subplot(gs[1])\n",
    "plt.imshow(np.exp(log_qz).T, cmap=\"Greys\", aspect=\"auto\", vmin=0, vmax=1)\n",
    "plt.xticks([])\n",
    "plt.title(\"$z$ from neural decoder\")\n",
    "\n",
    "plt.subplot(gs[2])\n",
    "plt.imshow(Ez.T, cmap=\"Greys\", aspect=\"auto\", vmin=0, vmax=1)\n",
    "plt.xticks([])\n",
    "plt.title(\"$z$ from bayesian decoder\")\n",
    "\n",
    "plt.subplot(gs[3])\n",
    "plt.plot(xs[t][:,0],'k', label=\"$x$ from behavioral data\")\n",
    "plt.plot(q_mu_x[:,0],'b', label=\"$x$ from neural decoder\")\n",
    "plt.fill_between(np.arange(Ex.shape[0]), \n",
    "                 Ex[:, 0] - 3 * stdx[:, 0], \n",
    "                 Ex[:, 0] + 3 * stdx[: ,0], color='r', alpha=0.25)\n",
    "plt.plot(Ex[:,0],'r', label=\"$x$ from bayesian decoder\")\n",
    "plt.legend(loc=\"lower right\")\n",
    "plt.xlim(0, Ex.shape[0])\n",
    "plt.xlabel(\"time\")\n",
    "# # plt.plot(mu_obs[:, 0])\n",
    "# # plt.plot(np.zeros(xs[t].shape[0]), \":k\")\n",
    "# # plt.plot(sampled_observations[:,0],'g')\n",
    "# plt.legend()\n",
    "# plt.legend(['Real Latents', 'Decoded latents', 'After VI', 'Conditionally sampled latents'])"
   ]
  },
  {
   "cell_type": "code",
   "execution_count": null,
   "metadata": {},
   "outputs": [],
   "source": []
  }
 ],
 "metadata": {
  "kernelspec": {
   "display_name": "behavenet",
   "language": "python",
   "name": "behavenet"
  },
  "language_info": {
   "codemirror_mode": {
    "name": "ipython",
    "version": 3
   },
   "file_extension": ".py",
   "mimetype": "text/x-python",
   "name": "python",
   "nbconvert_exporter": "python",
   "pygments_lexer": "ipython3",
   "version": "3.7.2"
  }
 },
 "nbformat": 4,
 "nbformat_minor": 2
}
