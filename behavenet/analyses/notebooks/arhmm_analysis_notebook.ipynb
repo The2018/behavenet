{
 "cells": [
  {
   "cell_type": "code",
   "execution_count": 1,
   "metadata": {},
   "outputs": [],
   "source": [
    "%load_ext autoreload\n",
    "%autoreload 2"
   ]
  },
  {
   "cell_type": "code",
   "execution_count": 2,
   "metadata": {},
   "outputs": [],
   "source": [
    "import numpy as np\n",
    "from behavenet.analyses.arhmm_utils import *\n",
    "from behavenet.fitting.utils import get_lab_example\n",
    "from behavenet.data.data_generator import ConcatSessionsGenerator\n",
    "from behavenet.data.utils import get_data_generator_inputs\n",
    "from behavenet.fitting.utils import get_best_model_version, get_output_session_dir, get_expt_dir\n",
    "import pickle\n",
    "import pandas as pd\n",
    "from shutil import copyfile"
   ]
  },
  {
   "cell_type": "code",
   "execution_count": 3,
   "metadata": {},
   "outputs": [],
   "source": [
    "import matplotlib\n",
    "import matplotlib.gridspec as gridspec\n",
    "from matplotlib.lines import Line2D\n",
    "FONT_SIZE = 22\n",
    "matplotlib.rcParams['pdf.fonttype'] = 42\n",
    "matplotlib.rcParams['ps.fonttype'] = 42\n",
    "matplotlib.rcParams.update({'font.size': FONT_SIZE})\n",
    "#matplotlib.rcParams['font.family'] = 'sans-serif'\n",
    "#matplotlib.rcParams['font.sans-serif'] = ['Myriad Pro']\n",
    "plt.rcParams[\"font.family\"] = \"Times New Roman\"\n",
    "\n",
    "plt.rc('font', size=FONT_SIZE)          # controls default text sizes\n",
    "plt.rc('axes', titlesize=FONT_SIZE)     # fontsize of the axes title\n",
    "plt.rc('axes', labelsize=FONT_SIZE)    # fontsize of the x and y labels\n",
    "plt.rc('xtick', labelsize=FONT_SIZE)    # fontsize of the tick labels\n",
    "plt.rc('ytick', labelsize=FONT_SIZE)    # fontsize of the tick labels\n",
    "plt.rc('legend', fontsize=FONT_SIZE)    # legend fontsize\n",
    "plt.rc('figure', titlesize=FONT_SIZE)  # fontsize of the figure title"
   ]
  },
  {
   "cell_type": "code",
   "execution_count": 4,
   "metadata": {},
   "outputs": [],
   "source": [
    "def plot_overlaid_states(lab, latents_trial,states_trial,ax,spc):\n",
    "    spc = 1.1 * abs(latents_trial.max())\n",
    "    n_latents = latents_trial.shape[1]\n",
    "    plotting_latents = latents_trial + spc * np.arange(n_latents)\n",
    "    ax.imshow(states_trial[None,:],\n",
    "               aspect=\"auto\",\n",
    "               extent=(0, len(latents_trial), min(-spc-1,np.min(plotting_latents)), max(spc*n_latents,np.max(plotting_latents))),\n",
    "               cmap=\"jet\", alpha=0.5)\n",
    "    ax.plot(plotting_latents, '-k', lw=1)\n",
    "    yticks = spc * np.arange(n_latents)\n",
    "    ax.set_yticks(yticks[::2])\n",
    "    ax.set_yticklabels(np.arange(n_latents)[::2])\n",
    "\n",
    "    if lab =='musall':\n",
    "        ax.set_xticks([0,200,400])\n",
    "        ax.set_xticklabels((np.asarray([0,200,400])/hparams['frame_rate']).astype('int'))\n",
    "        ax.axvline(x=189,ymin=0,ymax=1,c=\"black\",linewidth=3, clip_on=False)\n",
    "        ax.axvline(x=189*2,ymin=0,ymax=1,c=\"black\",linewidth=3, clip_on=False)\n",
    "        #ax.axvline(x=189*5,ymin=0,ymax=1,c=\"black\",linewidth=3, clip_on=False)\n",
    "    elif latents_trial.shape[0]==1000:\n",
    "        ax.set_xticks([0,200,400,600,800,1000])\n",
    "        ax.set_xticklabels((np.asarray([0,200,400,600,800,1000])/hparams['frame_rate']).astype('int'))"
   ]
  },
  {
   "cell_type": "code",
   "execution_count": 5,
   "metadata": {},
   "outputs": [],
   "source": [
    "import scipy.io as sio\n",
    "trial_info = sio.loadmat(\n",
    "    '/media/mattw/data/musall/vistrained/mSM36/05-Dec-2017/trialmarkers.mat')"
   ]
  },
  {
   "cell_type": "code",
   "execution_count": 8,
   "metadata": {
    "scrolled": false
   },
   "outputs": [
    {
     "name": "stdout",
     "output_type": "stream",
     "text": [
      "best n lags 1\n",
      "/media/mattw/data/results/behavenet/behavenet/musall/vistrained/mSM36/multisession-00/ae/conv/08_latents/ae-dim-test/version_1/latents.pkl\n"
     ]
    },
    {
     "ename": "FileNotFoundError",
     "evalue": "[Errno 2] No such file or directory: '/media/mattw/data/results/behavenet/behavenet/musall/vistrained/mSM36/multisession-00/ae/conv/08_latents/ae-dim-test/version_1/latents.pkl'",
     "output_type": "error",
     "traceback": [
      "\u001b[0;31m---------------------------------------------------------------------------\u001b[0m",
      "\u001b[0;31mFileNotFoundError\u001b[0m                         Traceback (most recent call last)",
      "\u001b[0;32m<ipython-input-8-eb4fe73c9b2b>\u001b[0m in \u001b[0;36m<module>\u001b[0;34m\u001b[0m\n\u001b[1;32m     53\u001b[0m     \u001b[0mhparams\u001b[0m\u001b[0;34m[\u001b[0m\u001b[0;34m'ae_model_path'\u001b[0m\u001b[0;34m]\u001b[0m \u001b[0;34m=\u001b[0m \u001b[0mbasedir\u001b[0m\u001b[0;34m+\u001b[0m\u001b[0mhparams\u001b[0m\u001b[0;34m[\u001b[0m\u001b[0;34m'ae_model_path'\u001b[0m\u001b[0;34m]\u001b[0m\u001b[0;34m.\u001b[0m\u001b[0msplit\u001b[0m\u001b[0;34m(\u001b[0m\u001b[0;34m'results/'\u001b[0m\u001b[0;34m)\u001b[0m\u001b[0;34m[\u001b[0m\u001b[0;36m1\u001b[0m\u001b[0;34m]\u001b[0m\u001b[0;34m\u001b[0m\u001b[0;34m\u001b[0m\u001b[0m\n\u001b[1;32m     54\u001b[0m     \u001b[0mprint\u001b[0m\u001b[0;34m(\u001b[0m\u001b[0mos\u001b[0m\u001b[0;34m.\u001b[0m\u001b[0mpath\u001b[0m\u001b[0;34m.\u001b[0m\u001b[0mjoin\u001b[0m\u001b[0;34m(\u001b[0m\u001b[0mhparams\u001b[0m\u001b[0;34m[\u001b[0m\u001b[0;34m'ae_model_path'\u001b[0m\u001b[0;34m]\u001b[0m\u001b[0;34m,\u001b[0m\u001b[0;34m'latents.pkl'\u001b[0m\u001b[0;34m)\u001b[0m\u001b[0;34m)\u001b[0m\u001b[0;34m\u001b[0m\u001b[0;34m\u001b[0m\u001b[0m\n\u001b[0;32m---> 55\u001b[0;31m     \u001b[0mall_latents\u001b[0m \u001b[0;34m=\u001b[0m \u001b[0mpickle\u001b[0m\u001b[0;34m.\u001b[0m\u001b[0mload\u001b[0m\u001b[0;34m(\u001b[0m\u001b[0mopen\u001b[0m\u001b[0;34m(\u001b[0m\u001b[0mos\u001b[0m\u001b[0;34m.\u001b[0m\u001b[0mpath\u001b[0m\u001b[0;34m.\u001b[0m\u001b[0mjoin\u001b[0m\u001b[0;34m(\u001b[0m\u001b[0mhparams\u001b[0m\u001b[0;34m[\u001b[0m\u001b[0;34m'ae_model_path'\u001b[0m\u001b[0;34m]\u001b[0m\u001b[0;34m,\u001b[0m\u001b[0;34m'latents.pkl'\u001b[0m\u001b[0;34m)\u001b[0m\u001b[0;34m,\u001b[0m\u001b[0;34m'rb'\u001b[0m\u001b[0;34m)\u001b[0m\u001b[0;34m)\u001b[0m\u001b[0;34m\u001b[0m\u001b[0;34m\u001b[0m\u001b[0m\n\u001b[0m\u001b[1;32m     56\u001b[0m     \u001b[0mcopyfile\u001b[0m\u001b[0;34m(\u001b[0m\u001b[0mos\u001b[0m\u001b[0;34m.\u001b[0m\u001b[0mpath\u001b[0m\u001b[0;34m.\u001b[0m\u001b[0mjoin\u001b[0m\u001b[0;34m(\u001b[0m\u001b[0mresults_dir\u001b[0m\u001b[0;34m,\u001b[0m\u001b[0mbest_version\u001b[0m\u001b[0;34m,\u001b[0m\u001b[0;34m'syllable_behavior_K_'\u001b[0m\u001b[0;34m+\u001b[0m\u001b[0mstr\u001b[0m\u001b[0;34m(\u001b[0m\u001b[0mhparams\u001b[0m\u001b[0;34m[\u001b[0m\u001b[0;34m'n_arhmm_states'\u001b[0m\u001b[0;34m]\u001b[0m\u001b[0;34m)\u001b[0m\u001b[0;34m+\u001b[0m\u001b[0;34m'_kappa_'\u001b[0m\u001b[0;34m+\u001b[0m\u001b[0mstr\u001b[0m\u001b[0;34m(\u001b[0m\u001b[0mhparams\u001b[0m\u001b[0;34m[\u001b[0m\u001b[0;34m'kappa'\u001b[0m\u001b[0;34m]\u001b[0m\u001b[0;34m)\u001b[0m\u001b[0;34m+\u001b[0m\u001b[0;34m'_noise_'\u001b[0m\u001b[0;34m+\u001b[0m\u001b[0mhparams\u001b[0m\u001b[0;34m[\u001b[0m\u001b[0;34m'noise_type'\u001b[0m\u001b[0;34m]\u001b[0m\u001b[0;34m+\u001b[0m\u001b[0;34m'_nlags_'\u001b[0m\u001b[0;34m+\u001b[0m\u001b[0mstr\u001b[0m\u001b[0;34m(\u001b[0m\u001b[0mhparams\u001b[0m\u001b[0;34m[\u001b[0m\u001b[0;34m'n_lags'\u001b[0m\u001b[0;34m]\u001b[0m\u001b[0;34m)\u001b[0m\u001b[0;34m+\u001b[0m\u001b[0;34m'.mp4'\u001b[0m\u001b[0;34m)\u001b[0m\u001b[0;34m,\u001b[0m\u001b[0;34m'behavenet_figs/'\u001b[0m\u001b[0;34m+\u001b[0m\u001b[0mdataset_names\u001b[0m\u001b[0;34m[\u001b[0m\u001b[0mi_lab\u001b[0m\u001b[0;34m]\u001b[0m\u001b[0;34m+\u001b[0m\u001b[0;34m'_syllable_behavior_K_'\u001b[0m\u001b[0;34m+\u001b[0m\u001b[0mstr\u001b[0m\u001b[0;34m(\u001b[0m\u001b[0mhparams\u001b[0m\u001b[0;34m[\u001b[0m\u001b[0;34m'n_arhmm_states'\u001b[0m\u001b[0;34m]\u001b[0m\u001b[0;34m)\u001b[0m\u001b[0;34m+\u001b[0m\u001b[0;34m'_kappa_'\u001b[0m\u001b[0;34m+\u001b[0m\u001b[0mstr\u001b[0m\u001b[0;34m(\u001b[0m\u001b[0mhparams\u001b[0m\u001b[0;34m[\u001b[0m\u001b[0;34m'kappa'\u001b[0m\u001b[0;34m]\u001b[0m\u001b[0;34m)\u001b[0m\u001b[0;34m+\u001b[0m\u001b[0;34m'_noise_'\u001b[0m\u001b[0;34m+\u001b[0m\u001b[0mhparams\u001b[0m\u001b[0;34m[\u001b[0m\u001b[0;34m'noise_type'\u001b[0m\u001b[0;34m]\u001b[0m\u001b[0;34m+\u001b[0m\u001b[0;34m'_nlags_'\u001b[0m\u001b[0;34m+\u001b[0m\u001b[0mstr\u001b[0m\u001b[0;34m(\u001b[0m\u001b[0mhparams\u001b[0m\u001b[0;34m[\u001b[0m\u001b[0;34m'n_lags'\u001b[0m\u001b[0;34m]\u001b[0m\u001b[0;34m)\u001b[0m\u001b[0;34m+\u001b[0m\u001b[0;34m'.mp4'\u001b[0m\u001b[0;34m)\u001b[0m\u001b[0;34m\u001b[0m\u001b[0;34m\u001b[0m\u001b[0m\n\u001b[1;32m     57\u001b[0m     \u001b[0mget_lab_example\u001b[0m\u001b[0;34m(\u001b[0m\u001b[0mhparams\u001b[0m\u001b[0;34m,\u001b[0m \u001b[0mlab\u001b[0m\u001b[0;34m)\u001b[0m\u001b[0;34m\u001b[0m\u001b[0;34m\u001b[0m\u001b[0m\n",
      "\u001b[0;31mFileNotFoundError\u001b[0m: [Errno 2] No such file or directory: '/media/mattw/data/results/behavenet/behavenet/musall/vistrained/mSM36/multisession-00/ae/conv/08_latents/ae-dim-test/version_1/latents.pkl'"
     ]
    },
    {
     "data": {
      "text/plain": [
       "<Figure size 1584x1296 with 0 Axes>"
      ]
     },
     "metadata": {},
     "output_type": "display_data"
    }
   ],
   "source": [
    "kappa = 0\n",
    "n_states = 8\n",
    "# labs = ['musall', 'steinmetz', 'steinmetz-face']\n",
    "# dataset_names = ['WFCI', 'NP', 'NP-zoom']\n",
    "\n",
    "labs = ['musall']\n",
    "dataset_names = ['WFCI']\n",
    "\n",
    "basedir = '/media/mattw/data/results/behavenet/'\n",
    "\n",
    "fig_overview = plt.figure(figsize=(22,18))\n",
    "\n",
    "#gs = gridspec.GridSpec(24*2,8,hspace=3)\n",
    "gs_top = plt.GridSpec(3,2,bottom=.5,left=0.2,hspace=.2)\n",
    "gs_bottom_left = plt.GridSpec(24,1,top=.43,right=.4)\n",
    "gs_bottom_right = plt.GridSpec(2,3,top=.43,left=.45,width_ratios=[0.45,0.33,0.22])\n",
    "\n",
    "for i_lab, lab in enumerate(labs):\n",
    "\n",
    "    hparams = {\n",
    "        'data_dir': '/media/mattw/data/',\n",
    "        'tt_save_path': basedir,\n",
    "        'model_type': '',\n",
    "        'model_class': 'arhmm',\n",
    "        'experiment_name': 'grid_search',\n",
    "        'n_arhmm_states': n_states,\n",
    "        'kappa': kappa,\n",
    "        'n_lags': 1,\n",
    "        'noise_type': 'gaussian',\n",
    "        'ae_experiment_name': 'ae-dim-search',\n",
    "        'n_ae_latents': 8,\n",
    "        'ae_model_type': 'conv',\n",
    "    }\n",
    "\n",
    "    get_lab_example(hparams, lab)\n",
    "    if lab == 'musall':\n",
    "        hparams['animal'] = 'mSM36'\n",
    "        hparams['session'] = 'all'\n",
    "        \n",
    "    hparams['session_dir'], sess_ids = get_output_session_dir(hparams)\n",
    "    hparams['expt_dir'] = get_expt_dir(hparams)\n",
    "    \n",
    "    ## Get best version/model\n",
    "    best_version = get_best_model_version(\n",
    "        hparams['expt_dir'],measure='val_ll',best_def='max')[0]\n",
    "    hmm = pickle.load(open(os.path.join(\n",
    "        hparams['expt_dir'],best_version,'best_val_model.pt'),'rb'))\n",
    "    \n",
    "    ## Get latents\n",
    "    hparams = pickle.load(open(os.path.join(\n",
    "        hparams['expt_dir'],best_version,'meta_tags.pkl'),'rb'))\n",
    "    print('best n lags '+str(hparams['n_lags']))\n",
    "    hparams['ae_model_path'] = basedir+hparams['ae_model_path'].split('results/')[1]\n",
    "    print(os.path.join(hparams['ae_model_path'],'latents.pkl'))\n",
    "    all_latents = pickle.load(open(os.path.join(hparams['ae_model_path'],'latents.pkl'),'rb')) \n",
    "    copyfile(os.path.join(results_dir,best_version,'syllable_behavior_K_'+str(hparams['n_arhmm_states'])+'_kappa_'+str(hparams['kappa'])+'_noise_'+hparams['noise_type']+'_nlags_'+str(hparams['n_lags'])+'.mp4'),'behavenet_figs/'+dataset_names[i_lab]+'_syllable_behavior_K_'+str(hparams['n_arhmm_states'])+'_kappa_'+str(hparams['kappa'])+'_noise_'+hparams['noise_type']+'_nlags_'+str(hparams['n_lags'])+'.mp4')\n",
    "    get_lab_example(hparams, lab)\n",
    "    \n",
    "    # Get real latents/states\n",
    "    trial_idxs = {}\n",
    "    latents={}\n",
    "    states={}\n",
    "    for data_type in ['train','val','test']:\n",
    "        trial_idxs[data_type] = all_latents['trials'][data_type]\n",
    "        latents[data_type] = [all_latents['latents'][i_trial] for i_trial in trial_idxs[data_type]]\n",
    "        states[data_type] = [hmm.most_likely_states(x) for x in latents[data_type]]\n",
    "\n",
    "#     # Get generative latents/states\n",
    "#     generative_states = []\n",
    "#     generative_latents = []\n",
    "#     for i in range(len(latents['test'])):\n",
    "#         these_generative_states, these_generative_latents = hmm.sample(latents['test'][0].shape[0]+700)\n",
    "#         generative_states.append(these_generative_states[700:])\n",
    "#         generative_latents.append(these_generative_latents[700:])\n",
    "        \n",
    "#     ax1 = plt.subplot(gs_top[i_lab, 0])\n",
    "#     ax2 = plt.subplot(gs_top[i_lab, 1])\n",
    "    \n",
    "#     ax1.set_ylabel('Latent number')\n",
    "#     ax1.text(-.2,.5,dataset_names[i_lab],transform=ax1.transAxes,horizontalalignment='center',)\n",
    "#     #ax1.set_ylabel(labs_capped[i_lab],rotation='horizontal',labelpad=60)\n",
    "#     spc=7\n",
    "    \n",
    "#     if i_lab==0:\n",
    "#         ax1.set_title('Inferred states & latents')\n",
    "#         ax2.set_title('Generated states & latents')\n",
    "    \n",
    "#     if lab == 'musall':\n",
    "#         plot_latents = np.concatenate((latents['test'][2],latents['test'][3],latents['test'][4]),axis=0)\n",
    "#         plot_states = np.concatenate((states['test'][2],states['test'][3],states['test'][4]),axis=0)\n",
    "#         plot_generative_latents = np.concatenate((generative_latents[4],generative_latents[5],generative_latents[6]),axis=0)\n",
    "#         plot_generative_states = np.concatenate((generative_states[4],generative_states[5],generative_states[6]),axis=0)\n",
    "        \n",
    "#     else:\n",
    "#         plot_latents = latents['test'][2]\n",
    "#         plot_states = states['test'][2]\n",
    "#         plot_generative_latents = generative_latents[4]\n",
    "#         plot_generative_states = generative_states[4]\n",
    "#     plot_overlaid_states(lab, plot_latents,plot_states,ax1,spc=spc)\n",
    "#     plot_overlaid_states(lab, plot_generative_latents,plot_generative_states,ax2,spc=spc)\n",
    "    \n",
    "\n",
    "#     ## Plot example generated images\n",
    "#     ae_model_file = os.path.join(hparams['ae_model_path'],'best_val_model.pt')\n",
    "#     ae_arch = pickle.load(open(os.path.join(hparams['ae_model_path'],'meta_tags.pkl'),'rb'))\n",
    "#     ae_model = AE(ae_arch)\n",
    "#     ae_model.load_state_dict(torch.load(ae_model_file, map_location=lambda storage, loc: storage))\n",
    "#     ae_model.eval()\n",
    "    \n",
    "#     generative_frames = ae_model.decoding(torch.tensor(generative_latents[4]).float(), None, None).cpu().detach().numpy()\n",
    "    \n",
    "#     if lab =='musall':\n",
    "#          generative_frames = np.transpose(generative_frames,(0,1,3,2))\n",
    "#     generative_frames = np.concatenate([generative_frames[:,j] for j in range(generative_frames.shape[1])],axis=2)     \n",
    "           \n",
    "    \n",
    "#     #sample_frames = [np.floor(0.3*generative_frames.shape[0]).astype('int'),np.floor(0.7*generative_frames.shape[0]).astype('int')]\n",
    "#     sample_frames = [np.floor(0.4*generative_frames.shape[0]).astype('int'),np.floor(0.9*generative_frames.shape[0]).astype('int')]\n",
    "    \n",
    "#     ax_ex1 = plt.subplot(gs_bottom_right[0,i_lab])\n",
    "#     ax_ex1.imshow(generative_frames[sample_frames[0]],vmin=0,vmax=1,cmap='gray')\n",
    "#     ax_ex1.set_xticks([])\n",
    "#     ax_ex1.set_yticks([])\n",
    "#     [s.set_visible(False) for s in ax_ex1.spines.values()]\n",
    "#     ax_ex1.set_title(dataset_names[i_lab])\n",
    "    \n",
    "#     ax_ex2 = plt.subplot(gs_bottom_right[1,i_lab])\n",
    "#     ax_ex2.imshow(generative_frames[sample_frames[1]],vmin=0,vmax=1,cmap='gray')\n",
    "#     ax_ex2.set_xticks([])\n",
    "#     ax_ex2.set_yticks([])    \n",
    "#     [s.set_visible(False) for s in ax_ex2.spines.values()]\n",
    "    \n",
    "#     ## Make real vs generated videos\n",
    "#     hparams['tt_save_path']='/Volumes/paninski-locker/analysis/behavenet/'\n",
    "#     hparams['data_dir'] = '/Volumes/paninski-locker/data/'\n",
    "\n",
    "#     hparams, signals, transforms, load_kwargs = get_data_generator_inputs(hparams)\n",
    "#     ids = {\n",
    "#         'lab': hparams['lab'],\n",
    "#         'expt': hparams['expt'],\n",
    "#         'animal': hparams['animal'],\n",
    "#         'session': hparams['session']}\n",
    "#     data_generator = ConcatSessionsGenerator(\n",
    "#         hparams['data_dir'], ids,\n",
    "#         signals=signals, transforms=transforms, load_kwargs=load_kwargs,\n",
    "#         device=hparams['device'], as_numpy=hparams['as_numpy'],\n",
    "#         batch_load=hparams['batch_load'], rng_seed=hparams['rng_seed'])\n",
    "\n",
    "\n",
    "#     #make_real_vs_nonconditioned_generated_movies('behavenet_figs/', hparams, latents['test'], generative_latents, data_generator, trial_idxs=trial_idxs['test'])\n",
    "#     copyfile(os.path.join(results_dir,best_version,'real_vs_generated_K_'+str(hparams['n_arhmm_states'])+'_kappa_'+str(hparams['kappa'])+'_noise_'+hparams['noise_type']+'_nlags_'+str(hparams['n_lags'])+'.mp4'),'behavenet_figs/'+dataset_names[i_lab]+'_real_vs_generated_K_'+str(hparams['n_arhmm_states'])+'_kappa_'+str(hparams['kappa'])+'_noise_'+hparams['noise_type']+'_nlags_'+str(hparams['n_lags'])+'.mp4')\n",
    "    \n",
    "#     ## Plot trial structure\n",
    "#     if lab=='musall':\n",
    "#         n_trials=24\n",
    "#         trial_vec = np.random.choice(np.arange(0,len(states['test'])),size=(n_trials,),replace=False)\n",
    "\n",
    "#         for i_trial in range(n_trials):\n",
    "\n",
    "#             axes = plt.subplot(gs_bottom_left[i_trial,0])\n",
    "#             axes.imshow(states['test'][trial_vec[i_trial]][None,:], \n",
    "#                            aspect=\"auto\", \n",
    "#                            extent=(0, len(states['test'][trial_vec[i_trial]]), 0, 1), \n",
    "#                            cmap=\"jet\", alpha=0.35)\n",
    "#             axes.axvline(x=trial_info['leverIn'][0,trial_idxs['test'][trial_vec[i_trial]]],ymin=0,ymax=1,c=\"g\",linewidth=2,clip_on=False, label='Levers in',alpha=1)\n",
    "#             axes.axvline(x=trial_info['stimTime'][0,trial_idxs['test'][trial_vec[i_trial]]],ymin=0,ymax=1,c=\"r\",linewidth=2, clip_on=False , label='Stimulus onset',alpha=1)\n",
    "#             axes.axvline(x=trial_info['spoutTime'][0,trial_idxs['test'][trial_vec[i_trial]]],ymin=0,ymax=1,c=\"b\",linewidth=2, clip_on=False, label='Spouts in',alpha=1)\n",
    "\n",
    "#             axes.set_xticks([])\n",
    "#             axes.set_yticks([])\n",
    "#             #axes[i_trial].set_ylabel('Trial '+str(i_trial),rotation='horizontal',fontsize=20,labelpad=36)\n",
    "#             axes.set_frame_on(False)\n",
    "\n",
    "#         axes.set_xlabel('Time (s)') \n",
    "#         axes.axvline(x=54,ymin=0,ymax=n_trials+5,c=\"black\",linewidth=2, clip_on=False)\n",
    "\n",
    "#         axes = plt.subplot(gs_bottom_left[int(np.floor(n_trials/2)),0])\n",
    "#         axes.set_ylabel('Trials') \n",
    "#         colors = ['g', 'k', 'r','b']\n",
    "#         lines = [Line2D([0], [0], color=c, linewidth=3, linestyle='-') for c in colors]\n",
    "#         labels = ['Levers in', 'Lever grab','Stimulus onset', 'Spouts in']\n",
    "#         plt.legend(lines, labels,loc='center left', bbox_to_anchor=(1, 0.5))\n",
    "\n",
    "ax1.set_xlabel('Time (s)')\n",
    "ax2.set_xlabel('Time (s)')\n",
    "\n",
    "# ax = plt.subplot(gs_right[24:,0])\n",
    "# ax.text(.5,.5,'Some description of different syllables ',transform=ax.transAxes,horizontalalignment='center')\n",
    "# ax.axis('Off')\n",
    "\n",
    "# fig_overview.savefig('behavenet_figs/arhmm_overview_K_'+str(hparams['n_arhmm_states'])+'.pdf', transparent=True,bbox_inches='tight')"
   ]
  },
  {
   "cell_type": "code",
   "execution_count": 9,
   "metadata": {},
   "outputs": [
    {
     "data": {
      "text/plain": [
       "'/media/mattw/data/results/behavenet/behavenet/musall/vistrained/mSM36/multisession-00/ae/conv/08_latents/ae-dim-test/version_1'"
      ]
     },
     "execution_count": 9,
     "metadata": {},
     "output_type": "execute_result"
    }
   ],
   "source": [
    "hparams['ae_model_path']"
   ]
  },
  {
   "cell_type": "code",
   "execution_count": 8,
   "metadata": {},
   "outputs": [
    {
     "data": {
      "image/png": "[encoded data removed]",
      "text/plain": [
       "<Figure size 432x288 with 1 Axes>"
      ]
     },
     "metadata": {
      "needs_background": "light"
     },
     "output_type": "display_data"
    }
   ],
   "source": [
    "plt.plot(latents['test'][2]);"
   ]
  },
  {
   "cell_type": "code",
   "execution_count": 9,
   "metadata": {},
   "outputs": [
    {
     "ename": "NameError",
     "evalue": "name 'n_latents' is not defined",
     "output_type": "error",
     "traceback": [
      "\u001b[0;31m---------------------------------------------------------------------------\u001b[0m",
      "\u001b[0;31mNameError\u001b[0m                                 Traceback (most recent call last)",
      "\u001b[0;32m<ipython-input-9-ba8b2545be36>\u001b[0m in \u001b[0;36m<module>\u001b[0;34m\u001b[0m\n\u001b[1;32m      1\u001b[0m \u001b[0mlatents_trial\u001b[0m\u001b[0;34m=\u001b[0m\u001b[0mlatents\u001b[0m\u001b[0;34m[\u001b[0m\u001b[0;34m'test'\u001b[0m\u001b[0;34m]\u001b[0m\u001b[0;34m[\u001b[0m\u001b[0;36m2\u001b[0m\u001b[0;34m]\u001b[0m\u001b[0;34m\u001b[0m\u001b[0;34m\u001b[0m\u001b[0m\n\u001b[0;32m----> 2\u001b[0;31m \u001b[0mplotting_latents\u001b[0m \u001b[0;34m=\u001b[0m \u001b[0mlatents_trial\u001b[0m \u001b[0;34m+\u001b[0m \u001b[0mspc\u001b[0m \u001b[0;34m*\u001b[0m \u001b[0mnp\u001b[0m\u001b[0;34m.\u001b[0m\u001b[0marange\u001b[0m\u001b[0;34m(\u001b[0m\u001b[0mn_latents\u001b[0m\u001b[0;34m)\u001b[0m\u001b[0;34m\u001b[0m\u001b[0;34m\u001b[0m\u001b[0m\n\u001b[0m\u001b[1;32m      3\u001b[0m ax.imshow(states_trial[None,:],\n\u001b[1;32m      4\u001b[0m            \u001b[0maspect\u001b[0m\u001b[0;34m=\u001b[0m\u001b[0;34m\"auto\"\u001b[0m\u001b[0;34m,\u001b[0m\u001b[0;34m\u001b[0m\u001b[0;34m\u001b[0m\u001b[0m\n\u001b[1;32m      5\u001b[0m            \u001b[0mextent\u001b[0m\u001b[0;34m=\u001b[0m\u001b[0;34m(\u001b[0m\u001b[0;36m0\u001b[0m\u001b[0;34m,\u001b[0m \u001b[0mlen\u001b[0m\u001b[0;34m(\u001b[0m\u001b[0mlatents_trial\u001b[0m\u001b[0;34m)\u001b[0m\u001b[0;34m,\u001b[0m \u001b[0mmin\u001b[0m\u001b[0;34m(\u001b[0m\u001b[0;34m-\u001b[0m\u001b[0mspc\u001b[0m\u001b[0;34m-\u001b[0m\u001b[0;36m1\u001b[0m\u001b[0;34m,\u001b[0m\u001b[0mnp\u001b[0m\u001b[0;34m.\u001b[0m\u001b[0mmin\u001b[0m\u001b[0;34m(\u001b[0m\u001b[0mplotting_latents\u001b[0m\u001b[0;34m)\u001b[0m\u001b[0;34m)\u001b[0m\u001b[0;34m,\u001b[0m \u001b[0mmax\u001b[0m\u001b[0;34m(\u001b[0m\u001b[0mspc\u001b[0m\u001b[0;34m*\u001b[0m\u001b[0mn_latents\u001b[0m\u001b[0;34m,\u001b[0m\u001b[0mnp\u001b[0m\u001b[0;34m.\u001b[0m\u001b[0mmax\u001b[0m\u001b[0;34m(\u001b[0m\u001b[0mplotting_latents\u001b[0m\u001b[0;34m)\u001b[0m\u001b[0;34m)\u001b[0m\u001b[0;34m)\u001b[0m\u001b[0;34m,\u001b[0m\u001b[0;34m\u001b[0m\u001b[0;34m\u001b[0m\u001b[0m\n",
      "\u001b[0;31mNameError\u001b[0m: name 'n_latents' is not defined"
     ]
    }
   ],
   "source": [
    "latents_trial=latents['test'][2]\n",
    "plotting_latents = latents_trial + spc * np.arange(n_latents)\n",
    "ax.imshow(states_trial[None,:],\n",
    "           aspect=\"auto\",\n",
    "           extent=(0, len(latents_trial), min(-spc-1,np.min(plotting_latents)), max(spc*n_latents,np.max(plotting_latents))),\n",
    "           cmap=\"jet\", alpha=0.5)\n",
    "ax.plot(plotting_latents, '-k', lw=1)"
   ]
  },
  {
   "cell_type": "code",
   "execution_count": null,
   "metadata": {
    "collapsed": true
   },
   "outputs": [],
   "source": [
    "labs = ['musall','steinmetz','steinmetz-face','datta']\n",
    "dataset_names = ['WFCI','NP','NP-zoom','Kinect']\n",
    "\n",
    "for i_lab, lab in enumerate(labs):\n",
    "    print(lab)\n",
    "    hparams={}\n",
    "    hparams['n_arhmm_states']=n_states\n",
    "    hparams['kappa']= kappa\n",
    "    hparams['noise_type']='gaussian'\n",
    "\n",
    "    hparams['tt_save_path']='/Volumes/paninski-locker/analysis/behavenet/'\n",
    "    hparams['data_dir'] = '/Volumes/paninski-locker/data/'\n",
    "\n",
    "    get_lab_example(hparams, lab)\n",
    "    \n",
    "    sess_dir = os.path.join(\n",
    "                hparams['tt_save_path'], hparams['lab'], hparams['expt'],\n",
    "                hparams['animal'], hparams['session'])\n",
    "    results_dir = os.path.join(\n",
    "        sess_dir, 'arhmm',\n",
    "        '%02i_latents' % hparams['n_ae_latents'],\n",
    "        '%02i_states' % hparams['n_arhmm_states'],\n",
    "        '%.0e_kappa' % hparams['kappa'],\n",
    "        hparams['noise_type'],\n",
    "        'diff_init_grid_search')\n",
    "    \n",
    "    ## Get best version/model\n",
    "\n",
    "    best_version = get_best_model_version(results_dir,measure='val_ll',best_def='max')[0]\n",
    "    hmm = pickle.load(open(os.path.join(results_dir,best_version,'best_val_model.pt'),'rb'))\n",
    "\n",
    "    \n",
    "    ## Get latents\n",
    "    hparams=[]\n",
    "    hparams = pickle.load(open(os.path.join(results_dir,best_version,'meta_tags.pkl'),'rb'))\n",
    "    print('best n lags '+str(hparams['n_lags']))\n",
    "    hparams['ae_model_path'] = basedir+hparams['ae_model_path'].split('results/')[1]\n",
    "    all_latents = pickle.load(open(os.path.join(hparams['ae_model_path'],'latents.pkl'),'rb')) \n",
    "    copyfile(os.path.join(results_dir,best_version,'syllable_behavior_K_'+str(hparams['n_arhmm_states'])+'_kappa_'+str(hparams['kappa'])+'_noise_'+hparams['noise_type']+'_nlags_'+str(hparams['n_lags'])+'.mp4'),'behavenet_figs/'+dataset_names[i_lab]+'_syllable_behavior_K_'+str(hparams['n_arhmm_states'])+'_kappa_'+str(hparams['kappa'])+'_noise_'+hparams['noise_type']+'_nlags_'+str(hparams['n_lags'])+'.mp4')\n",
    "    \n",
    "    # Get real latents/states\n",
    "\n",
    "    trial_idxs = {}\n",
    "    latents={}\n",
    "    states={}\n",
    "    for data_type in ['train','val','test']:\n",
    "        trial_idxs[data_type] = all_latents['trials'][data_type]\n",
    "        latents[data_type] = [all_latents['latents'][i_trial] for i_trial in trial_idxs[data_type]]\n",
    "        states[data_type] = [hmm.most_likely_states(x) for x in latents[data_type]]\n",
    "\n",
    "    # Get generative latents/states\n",
    "    generative_states = []\n",
    "    generative_latents = []\n",
    "    for i in range(len(latents['test'])):\n",
    "        these_generative_states, these_generative_latents, prior_states = hmm.sample(latents['test'][0].shape[0]+700)\n",
    "        generative_states.append(these_generative_states[700:])\n",
    "        generative_latents.append(these_generative_latents[700:])\n",
    "        \n",
    "\n",
    "    ## Make real vs generated videos\n",
    "    hparams['tt_save_path']='/Volumes/paninski-locker/analysis/behavenet/'\n",
    "    hparams['data_dir'] = '/Volumes/paninski-locker/data/'\n",
    "\n",
    "    hparams, signals, transforms, load_kwargs = get_data_generator_inputs(hparams)\n",
    "    ids = {\n",
    "        'lab': hparams['lab'],\n",
    "        'expt': hparams['expt'],\n",
    "        'animal': hparams['animal'],\n",
    "        'session': hparams['session']}\n",
    "    data_generator = ConcatSessionsGenerator(\n",
    "        hparams['data_dir'], ids,\n",
    "        signals=signals, transforms=transforms, load_kwargs=load_kwargs,\n",
    "        device=hparams['device'], as_numpy=hparams['as_numpy'],\n",
    "        batch_load=hparams['batch_load'], rng_seed=hparams['rng_seed'])\n",
    "\n",
    "\n",
    "    hparams['dataset_name']=dataset_names[i_lab]\n",
    "    hparams['lab_example']=lab\n",
    "\n",
    "    make_real_vs_nonconditioned_generated_movies('behavenet_figs2/', hparams, latents['test'], generative_latents[4:], data_generator, trial_idxs=trial_idxs['test'])\n"
   ]
  },
  {
   "cell_type": "code",
   "execution_count": null,
   "metadata": {
    "collapsed": true
   },
   "outputs": [],
   "source": [
    "make_real_vs_nonconditioned_generated_movies('behavenet_figs/', hparams, latents['test'], generative_latents[4:], data_generator, trial_idxs=trial_idxs['test'])\n"
   ]
  },
  {
   "cell_type": "code",
   "execution_count": null,
   "metadata": {
    "collapsed": true
   },
   "outputs": [],
   "source": [
    "plt.plot(generative_latents[4]);"
   ]
  },
  {
   "cell_type": "code",
   "execution_count": null,
   "metadata": {
    "collapsed": true
   },
   "outputs": [],
   "source": [
    "plt.plot(latents['test'][2]);"
   ]
  },
  {
   "cell_type": "code",
   "execution_count": null,
   "metadata": {
    "collapsed": true
   },
   "outputs": [],
   "source": [
    "# filepath='behavenet_figs/'\n",
    "# hparams=[]\n",
    "# hparams = pickle.load(open(os.path.join(results_dir,best_version,'meta_tags.pkl'),'rb'))\n",
    "\n",
    "# hparams['tt_save_path']='/Volumes/paninski-locker/analysis/behavenet/'\n",
    "# hparams['data_dir'] = '/Volumes/paninski-locker/data/'\n",
    "\n",
    "# hparams, signals, transforms, load_kwargs = get_data_generator_inputs(hparams)\n",
    "# ids = {\n",
    "#     'lab': hparams['lab'],\n",
    "#     'expt': hparams['expt'],\n",
    "#     'animal': hparams['animal'],\n",
    "#     'session': hparams['session']}\n",
    "# data_generator = ConcatSessionsGenerator(\n",
    "#     hparams['data_dir'], ids,\n",
    "#     signals=signals, transforms=transforms, load_kwargs=load_kwargs,\n",
    "#     device=hparams['device'], as_numpy=hparams['as_numpy'],\n",
    "#     batch_load=hparams['batch_load'], rng_seed=hparams['rng_seed'])\n",
    "\n",
    "\n",
    "\n",
    "# ae_model_file = os.path.join(ae_model_path,'best_val_model.pt')\n",
    "# ae_arch = pickle.load(open(os.path.join(ae_model_path,'meta_tags.pkl'),'rb'))\n",
    "# ae_model = AE(ae_arch)\n",
    "# ae_model.load_state_dict(torch.load(ae_model_file, map_location=lambda storage, loc: storage))\n",
    "# ae_model.eval()\n",
    "\n",
    "\n",
    "\n",
    "# make_syllable_movies(hmm, ae_model, filepath=filepath, hparams=hparams, latents=latents['test'], states=states['test'], trial_idxs=trial_idxs['test'], data_generator=data_generator,min_threshold=1)\n",
    "\n"
   ]
  },
  {
   "cell_type": "code",
   "execution_count": null,
   "metadata": {
    "collapsed": true
   },
   "outputs": [],
   "source": [
    "# ## Plot number of lags vs validation ll\n",
    "\n",
    "# sess_dir = os.path.join(\n",
    "#             hparams['tt_save_path'], hparams['lab'], hparams['expt'],\n",
    "#             hparams['animal'], hparams['session'])\n",
    "# results_dir = os.path.join(\n",
    "#     sess_dir, 'arhmm',\n",
    "#     '%02i_latents' % hparams['n_ae_latents'],\n",
    "#     '%02i_states' % hparams['n_arhmm_states'],\n",
    "#     '%.0e_kappa' % hparams['kappa'],\n",
    "#     hparams['noise_type'],\n",
    "#     'test_tube_data',\n",
    "#     'diff_init_grid_search')\n",
    "\n",
    "\n",
    "# ver_dirs = os.listdir(results_dir)\n",
    "\n",
    "# lag_vec = []\n",
    "# version_vec = []\n",
    "# val_ll = []\n",
    "# for ver_dir in ver_dirs:\n",
    "#     this_path = os.path.join(results_dir,ver_dir)\n",
    "#     meta_tags = pickle.load(open(os.path.join(this_path,'meta_tags.pkl'),'rb'))\n",
    "#     if meta_tags['training_completed']:\n",
    "#         lag_vec.append(meta_tags['n_lags'])\n",
    "#         version_vec.append(ver_dir)\n",
    "#         metrics = pd.read_csv(os.path.join(this_path,'metrics.csv'))\n",
    "#         val_ll.append(metrics['val_ll'][0])\n",
    "# plt.plot(lag_vec,val_ll,'ok')"
   ]
  },
  {
   "cell_type": "code",
   "execution_count": null,
   "metadata": {
    "collapsed": true
   },
   "outputs": [],
   "source": [
    "# ## Get data generator\n",
    "# hparams=[]\n",
    "# hparams = pickle.load(open(os.path.join(results_dir,best_version,'meta_tags.pkl'),'rb'))\n",
    "\n",
    "# hparams['tt_save_path']='/Volumes/paninski-locker/analysis/behavenet/'\n",
    "# hparams['data_dir'] = '/Volumes/paninski-locker/data/'\n",
    "\n",
    "# hparams, signals, transforms, load_kwargs = get_data_generator_inputs(hparams)\n",
    "# ids = {\n",
    "#     'lab': hparams['lab'],\n",
    "#     'expt': hparams['expt'],\n",
    "#     'animal': hparams['animal'],\n",
    "#     'session': hparams['session']}\n",
    "# data_generator = ConcatSessionsGenerator(\n",
    "#     hparams['data_dir'], ids,\n",
    "#     signals=signals, transforms=transforms, load_kwargs=load_kwargs,\n",
    "#     device=hparams['device'], as_numpy=hparams['as_numpy'],\n",
    "#     batch_load=hparams['batch_load'], rng_seed=hparams['rng_seed'])\n"
   ]
  },
  {
   "cell_type": "code",
   "execution_count": null,
   "metadata": {
    "collapsed": true
   },
   "outputs": [],
   "source": [
    "# fig, axes = plt.subplots(4,2,sharex=True,sharey=True)\n",
    "\n",
    "# ## Posteriors\n",
    "# which_trials = np.arange(0,len(latents))\n",
    "# np.random.shuffle(which_trials)\n",
    "# for i_ex in range(4):\n",
    "#     tt = hmm.expected_states(latents[which_trials[i_ex]])\n",
    "#     axes[i_ex][0].imshow(tt[0].T,cmap='gray_r',aspect=30)\n",
    "\n",
    "#     rr = hmm.sample(1000)\n",
    "#     axes[i_ex][1].imshow(rr[2].T,cmap='gray_r',aspect=30)\n",
    "    \n",
    "# plt.tight_layout()\n",
    "\n",
    "# axes[3][0].set_xlabel('Time (frames)')\n",
    "# axes[3][1].set_xlabel('Time (frames)')\n",
    "\n",
    "# axes[0][0].set_title('Posterior samples')\n",
    "# axes[0][1].set_title('Prior samples')\n",
    "\n",
    "#plt.savefig('posterior_vs_prior_kappa_1e6.png',dpi=200)"
   ]
  },
  {
   "cell_type": "code",
   "execution_count": null,
   "metadata": {
    "collapsed": true
   },
   "outputs": [],
   "source": [
    "## Make video\n",
    "\n",
    "\n"
   ]
  }
 ],
 "metadata": {
  "kernelspec": {
   "display_name": "behavenet",
   "language": "python",
   "name": "behavenet"
  },
  "language_info": {
   "codemirror_mode": {
    "name": "ipython",
    "version": 3
   },
   "file_extension": ".py",
   "mimetype": "text/x-python",
   "name": "python",
   "nbconvert_exporter": "python",
   "pygments_lexer": "ipython3",
   "version": "3.7.2"
  }
 },
 "nbformat": 4,
 "nbformat_minor": 2
}
